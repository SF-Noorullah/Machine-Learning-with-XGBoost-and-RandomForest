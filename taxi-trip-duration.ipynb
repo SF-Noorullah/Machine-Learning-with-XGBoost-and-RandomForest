{
 "cells": [
  {
   "cell_type": "code",
   "execution_count": 1,
   "metadata": {},
   "outputs": [],
   "source": [
    "# Jovian Commit Essentials\n",
    "# Please retain and execute this cell without modifying the contents for `jovian.commit` to work\n",
    "!pip install jovian --upgrade -q\n",
    "import jovian\n",
    "jovian.set_project('course-project-taxi-trip-duration')\n",
    "jovian.set_colab_id('1YvC3KdYZYGMQWpVyVI4lIRbkmI8PPEZ3')"
   ]
  },
  {
   "cell_type": "markdown",
   "metadata": {
    "id": "6KCssYBIGfGr"
   },
   "source": [
    "# PREDICTING TAXI TRIP DURATION IN NYC\n",
    "We are given historical data about taxi trips in NewYork City. The time duration of each trip is given along with the rest of the data like latitude/longitudinal coordinates, etc. We will try to build a machine learning model to predict the time duration each taxi trip is going to take in the test data file as accurately as possible. We will try different models and compare the errors and proceed with the one we think would be best suited to predict the duration of trips"
   ]
  },
  {
   "cell_type": "markdown",
   "metadata": {
    "id": "diwNmmpJ9eDt"
   },
   "source": []
  },
  {
   "cell_type": "markdown",
   "metadata": {
    "id": "Gk1QBcenAMWs"
   },
   "source": [
    "# course-project-taxi-trip-duration\n",
    "\n",
    "Use the \"Run\" button to execute the code."
   ]
  },
  {
   "cell_type": "code",
   "execution_count": null,
   "metadata": {
    "colab": {
     "base_uri": "https://localhost:8080/",
     "height": 122
    },
    "executionInfo": {
     "elapsed": 28970,
     "status": "ok",
     "timestamp": 1655813708883,
     "user": {
      "displayName": "Noorullah Rizwan",
      "userId": "14596611615912427721"
     },
     "user_tz": 420
    },
    "id": "FStmW62kAMXB",
    "outputId": "092808bb-b9fb-43f4-b9c3-74878b3c0070"
   },
   "outputs": [
    {
     "name": "stdout",
     "output_type": "stream",
     "text": [
      "[jovian] Detected Colab notebook...\u001b[0m\n",
      "[jovian] Please enter your API key ( from https://jovian.ai/ ):\u001b[0m\n",
      "API KEY: ··········\n",
      "[jovian] Uploading colab notebook to Jovian...\u001b[0m\n",
      "Committed successfully! https://jovian.ai/noorullah-rizwann/course-project-taxi-trip-duration\n"
     ]
    },
    {
     "data": {
      "application/vnd.google.colaboratory.intrinsic+json": {
       "type": "string"
      },
      "text/plain": [
       "'https://jovian.ai/noorullah-rizwann/course-project-taxi-trip-duration'"
      ]
     },
     "execution_count": 36,
     "metadata": {},
     "output_type": "execute_result"
    }
   ],
   "source": [
    "# Execute this to save new versions of the notebook\n",
    "jovian.commit(project=\"course-project-taxi-trip-duration\")"
   ]
  },
  {
   "cell_type": "markdown",
   "metadata": {
    "id": "t_-Q_aQv-khe"
   },
   "source": [
    "First lets install all the required libraies/modules"
   ]
  },
  {
   "cell_type": "code",
   "execution_count": null,
   "metadata": {
    "id": "fsIkYOx0AMXG"
   },
   "outputs": [],
   "source": [
    "!pip install pandas-profiling numpy matplotlib seaborn --quiet\n",
    "!pip install opendatasets scikit-learn jovian --quiet --upgrade"
   ]
  },
  {
   "cell_type": "code",
   "execution_count": null,
   "metadata": {
    "id": "AKM9AvvNAxvl"
   },
   "outputs": [],
   "source": [
    "import opendatasets as od\n",
    "import matplotlib.pyplot as plt\n",
    "import seaborn as sns\n",
    "import pandas as pd\n",
    "import numpy as np\n",
    "import matplotlib\n",
    "import plotly.express as px\n",
    "import jovian\n",
    "import os\n",
    "import zipfile\n",
    "import math\n",
    "%matplotlib inline\n",
    "\n",
    "pd.set_option('display.max_columns', None)\n",
    "pd.set_option('display.max_rows', 150)\n",
    "sns.set_style('darkgrid')\n",
    "matplotlib.rcParams['font.size'] = 14\n",
    "matplotlib.rcParams['figure.figsize'] = (10, 6)\n",
    "matplotlib.rcParams['figure.facecolor'] = '#00000000'"
   ]
  },
  {
   "cell_type": "markdown",
   "metadata": {
    "id": "YbFwAif2-swB"
   },
   "source": [
    "## Downloading the Dataset"
   ]
  },
  {
   "cell_type": "markdown",
   "metadata": {
    "id": "wJ4tC0N3-0Cd"
   },
   "source": [
    "The dataset is available on kaggle at https://www.kaggle.com/competitions/nyc-taxi-trip-duration"
   ]
  },
  {
   "cell_type": "markdown",
   "metadata": {
    "id": "Y50UB3-z-_1o"
   },
   "source": [
    "We will use the opendatasets library to download all the files inside this link. Then we will create dataframes for training and test sets respectively"
   ]
  },
  {
   "cell_type": "code",
   "execution_count": null,
   "metadata": {
    "colab": {
     "base_uri": "https://localhost:8080/"
    },
    "executionInfo": {
     "elapsed": 574,
     "status": "ok",
     "timestamp": 1655813734247,
     "user": {
      "displayName": "Noorullah Rizwan",
      "userId": "14596611615912427721"
     },
     "user_tz": 420
    },
    "id": "gAKJI_IHA_ky",
    "outputId": "cb9d4e22-d5b8-4c37-c94d-2d7883bbb503"
   },
   "outputs": [
    {
     "name": "stdout",
     "output_type": "stream",
     "text": [
      "Skipping, found downloaded files in \"./nyc-taxi-trip-duration\" (use force=True to force download)\n"
     ]
    }
   ],
   "source": [
    "od.download('https://www.kaggle.com/competitions/nyc-taxi-trip-duration')"
   ]
  },
  {
   "cell_type": "code",
   "execution_count": null,
   "metadata": {
    "colab": {
     "base_uri": "https://localhost:8080/"
    },
    "executionInfo": {
     "elapsed": 370,
     "status": "ok",
     "timestamp": 1655813737749,
     "user": {
      "displayName": "Noorullah Rizwan",
      "userId": "14596611615912427721"
     },
     "user_tz": 420
    },
    "id": "MY8_x33aBhyg",
    "outputId": "8a6ba4e3-35a3-42cb-f153-cc34bc5707c9"
   },
   "outputs": [
    {
     "data": {
      "text/plain": [
       "['train.zip', 'test.zip', 'sample_submission.zip']"
      ]
     },
     "execution_count": 40,
     "metadata": {},
     "output_type": "execute_result"
    }
   ],
   "source": [
    "os.listdir('nyc-taxi-trip-duration')"
   ]
  },
  {
   "cell_type": "markdown",
   "metadata": {
    "id": "Z8I6JofoLtI6"
   },
   "source": [
    "### Training dataframe"
   ]
  },
  {
   "cell_type": "code",
   "execution_count": null,
   "metadata": {
    "id": "O3E2U7UXEt2x"
   },
   "outputs": [],
   "source": [
    "zf=zipfile.ZipFile('nyc-taxi-trip-duration/train.zip')"
   ]
  },
  {
   "cell_type": "code",
   "execution_count": null,
   "metadata": {
    "colab": {
     "base_uri": "https://localhost:8080/",
     "height": 661
    },
    "executionInfo": {
     "elapsed": 6895,
     "status": "ok",
     "timestamp": 1655813750659,
     "user": {
      "displayName": "Noorullah Rizwan",
      "userId": "14596611615912427721"
     },
     "user_tz": 420
    },
    "id": "8SIEr35xFAoj",
    "outputId": "47dbd22a-1ad8-4020-850d-0320a7d71c7a"
   },
   "outputs": [
    {
     "data": {
      "text/html": [
       "\n",
       "  <div id=\"df-9f1be256-50ae-4214-a99c-c9cc6d368d0e\">\n",
       "    <div class=\"colab-df-container\">\n",
       "      <div>\n",
       "<style scoped>\n",
       "    .dataframe tbody tr th:only-of-type {\n",
       "        vertical-align: middle;\n",
       "    }\n",
       "\n",
       "    .dataframe tbody tr th {\n",
       "        vertical-align: top;\n",
       "    }\n",
       "\n",
       "    .dataframe thead th {\n",
       "        text-align: right;\n",
       "    }\n",
       "</style>\n",
       "<table border=\"1\" class=\"dataframe\">\n",
       "  <thead>\n",
       "    <tr style=\"text-align: right;\">\n",
       "      <th></th>\n",
       "      <th>id</th>\n",
       "      <th>vendor_id</th>\n",
       "      <th>pickup_datetime</th>\n",
       "      <th>dropoff_datetime</th>\n",
       "      <th>passenger_count</th>\n",
       "      <th>pickup_longitude</th>\n",
       "      <th>pickup_latitude</th>\n",
       "      <th>dropoff_longitude</th>\n",
       "      <th>dropoff_latitude</th>\n",
       "      <th>store_and_fwd_flag</th>\n",
       "      <th>trip_duration</th>\n",
       "    </tr>\n",
       "  </thead>\n",
       "  <tbody>\n",
       "    <tr>\n",
       "      <th>0</th>\n",
       "      <td>id2875421</td>\n",
       "      <td>2</td>\n",
       "      <td>2016-03-14 17:24:55</td>\n",
       "      <td>2016-03-14 17:32:30</td>\n",
       "      <td>1</td>\n",
       "      <td>-73.982155</td>\n",
       "      <td>40.767937</td>\n",
       "      <td>-73.964630</td>\n",
       "      <td>40.765602</td>\n",
       "      <td>N</td>\n",
       "      <td>455</td>\n",
       "    </tr>\n",
       "    <tr>\n",
       "      <th>1</th>\n",
       "      <td>id2377394</td>\n",
       "      <td>1</td>\n",
       "      <td>2016-06-12 00:43:35</td>\n",
       "      <td>2016-06-12 00:54:38</td>\n",
       "      <td>1</td>\n",
       "      <td>-73.980415</td>\n",
       "      <td>40.738564</td>\n",
       "      <td>-73.999481</td>\n",
       "      <td>40.731152</td>\n",
       "      <td>N</td>\n",
       "      <td>663</td>\n",
       "    </tr>\n",
       "    <tr>\n",
       "      <th>2</th>\n",
       "      <td>id3858529</td>\n",
       "      <td>2</td>\n",
       "      <td>2016-01-19 11:35:24</td>\n",
       "      <td>2016-01-19 12:10:48</td>\n",
       "      <td>1</td>\n",
       "      <td>-73.979027</td>\n",
       "      <td>40.763939</td>\n",
       "      <td>-74.005333</td>\n",
       "      <td>40.710087</td>\n",
       "      <td>N</td>\n",
       "      <td>2124</td>\n",
       "    </tr>\n",
       "    <tr>\n",
       "      <th>3</th>\n",
       "      <td>id3504673</td>\n",
       "      <td>2</td>\n",
       "      <td>2016-04-06 19:32:31</td>\n",
       "      <td>2016-04-06 19:39:40</td>\n",
       "      <td>1</td>\n",
       "      <td>-74.010040</td>\n",
       "      <td>40.719971</td>\n",
       "      <td>-74.012268</td>\n",
       "      <td>40.706718</td>\n",
       "      <td>N</td>\n",
       "      <td>429</td>\n",
       "    </tr>\n",
       "    <tr>\n",
       "      <th>4</th>\n",
       "      <td>id2181028</td>\n",
       "      <td>2</td>\n",
       "      <td>2016-03-26 13:30:55</td>\n",
       "      <td>2016-03-26 13:38:10</td>\n",
       "      <td>1</td>\n",
       "      <td>-73.973053</td>\n",
       "      <td>40.793209</td>\n",
       "      <td>-73.972923</td>\n",
       "      <td>40.782520</td>\n",
       "      <td>N</td>\n",
       "      <td>435</td>\n",
       "    </tr>\n",
       "    <tr>\n",
       "      <th>...</th>\n",
       "      <td>...</td>\n",
       "      <td>...</td>\n",
       "      <td>...</td>\n",
       "      <td>...</td>\n",
       "      <td>...</td>\n",
       "      <td>...</td>\n",
       "      <td>...</td>\n",
       "      <td>...</td>\n",
       "      <td>...</td>\n",
       "      <td>...</td>\n",
       "      <td>...</td>\n",
       "    </tr>\n",
       "    <tr>\n",
       "      <th>1458639</th>\n",
       "      <td>id2376096</td>\n",
       "      <td>2</td>\n",
       "      <td>2016-04-08 13:31:04</td>\n",
       "      <td>2016-04-08 13:44:02</td>\n",
       "      <td>4</td>\n",
       "      <td>-73.982201</td>\n",
       "      <td>40.745522</td>\n",
       "      <td>-73.994911</td>\n",
       "      <td>40.740170</td>\n",
       "      <td>N</td>\n",
       "      <td>778</td>\n",
       "    </tr>\n",
       "    <tr>\n",
       "      <th>1458640</th>\n",
       "      <td>id1049543</td>\n",
       "      <td>1</td>\n",
       "      <td>2016-01-10 07:35:15</td>\n",
       "      <td>2016-01-10 07:46:10</td>\n",
       "      <td>1</td>\n",
       "      <td>-74.000946</td>\n",
       "      <td>40.747379</td>\n",
       "      <td>-73.970184</td>\n",
       "      <td>40.796547</td>\n",
       "      <td>N</td>\n",
       "      <td>655</td>\n",
       "    </tr>\n",
       "    <tr>\n",
       "      <th>1458641</th>\n",
       "      <td>id2304944</td>\n",
       "      <td>2</td>\n",
       "      <td>2016-04-22 06:57:41</td>\n",
       "      <td>2016-04-22 07:10:25</td>\n",
       "      <td>1</td>\n",
       "      <td>-73.959129</td>\n",
       "      <td>40.768799</td>\n",
       "      <td>-74.004433</td>\n",
       "      <td>40.707371</td>\n",
       "      <td>N</td>\n",
       "      <td>764</td>\n",
       "    </tr>\n",
       "    <tr>\n",
       "      <th>1458642</th>\n",
       "      <td>id2714485</td>\n",
       "      <td>1</td>\n",
       "      <td>2016-01-05 15:56:26</td>\n",
       "      <td>2016-01-05 16:02:39</td>\n",
       "      <td>1</td>\n",
       "      <td>-73.982079</td>\n",
       "      <td>40.749062</td>\n",
       "      <td>-73.974632</td>\n",
       "      <td>40.757107</td>\n",
       "      <td>N</td>\n",
       "      <td>373</td>\n",
       "    </tr>\n",
       "    <tr>\n",
       "      <th>1458643</th>\n",
       "      <td>id1209952</td>\n",
       "      <td>1</td>\n",
       "      <td>2016-04-05 14:44:25</td>\n",
       "      <td>2016-04-05 14:47:43</td>\n",
       "      <td>1</td>\n",
       "      <td>-73.979538</td>\n",
       "      <td>40.781750</td>\n",
       "      <td>-73.972809</td>\n",
       "      <td>40.790585</td>\n",
       "      <td>N</td>\n",
       "      <td>198</td>\n",
       "    </tr>\n",
       "  </tbody>\n",
       "</table>\n",
       "<p>1458644 rows × 11 columns</p>\n",
       "</div>\n",
       "      <button class=\"colab-df-convert\" onclick=\"convertToInteractive('df-9f1be256-50ae-4214-a99c-c9cc6d368d0e')\"\n",
       "              title=\"Convert this dataframe to an interactive table.\"\n",
       "              style=\"display:none;\">\n",
       "        \n",
       "  <svg xmlns=\"http://www.w3.org/2000/svg\" height=\"24px\"viewBox=\"0 0 24 24\"\n",
       "       width=\"24px\">\n",
       "    <path d=\"M0 0h24v24H0V0z\" fill=\"none\"/>\n",
       "    <path d=\"M18.56 5.44l.94 2.06.94-2.06 2.06-.94-2.06-.94-.94-2.06-.94 2.06-2.06.94zm-11 1L8.5 8.5l.94-2.06 2.06-.94-2.06-.94L8.5 2.5l-.94 2.06-2.06.94zm10 10l.94 2.06.94-2.06 2.06-.94-2.06-.94-.94-2.06-.94 2.06-2.06.94z\"/><path d=\"M17.41 7.96l-1.37-1.37c-.4-.4-.92-.59-1.43-.59-.52 0-1.04.2-1.43.59L10.3 9.45l-7.72 7.72c-.78.78-.78 2.05 0 2.83L4 21.41c.39.39.9.59 1.41.59.51 0 1.02-.2 1.41-.59l7.78-7.78 2.81-2.81c.8-.78.8-2.07 0-2.86zM5.41 20L4 18.59l7.72-7.72 1.47 1.35L5.41 20z\"/>\n",
       "  </svg>\n",
       "      </button>\n",
       "      \n",
       "  <style>\n",
       "    .colab-df-container {\n",
       "      display:flex;\n",
       "      flex-wrap:wrap;\n",
       "      gap: 12px;\n",
       "    }\n",
       "\n",
       "    .colab-df-convert {\n",
       "      background-color: #E8F0FE;\n",
       "      border: none;\n",
       "      border-radius: 50%;\n",
       "      cursor: pointer;\n",
       "      display: none;\n",
       "      fill: #1967D2;\n",
       "      height: 32px;\n",
       "      padding: 0 0 0 0;\n",
       "      width: 32px;\n",
       "    }\n",
       "\n",
       "    .colab-df-convert:hover {\n",
       "      background-color: #E2EBFA;\n",
       "      box-shadow: 0px 1px 2px rgba(60, 64, 67, 0.3), 0px 1px 3px 1px rgba(60, 64, 67, 0.15);\n",
       "      fill: #174EA6;\n",
       "    }\n",
       "\n",
       "    [theme=dark] .colab-df-convert {\n",
       "      background-color: #3B4455;\n",
       "      fill: #D2E3FC;\n",
       "    }\n",
       "\n",
       "    [theme=dark] .colab-df-convert:hover {\n",
       "      background-color: #434B5C;\n",
       "      box-shadow: 0px 1px 3px 1px rgba(0, 0, 0, 0.15);\n",
       "      filter: drop-shadow(0px 1px 2px rgba(0, 0, 0, 0.3));\n",
       "      fill: #FFFFFF;\n",
       "    }\n",
       "  </style>\n",
       "\n",
       "      <script>\n",
       "        const buttonEl =\n",
       "          document.querySelector('#df-9f1be256-50ae-4214-a99c-c9cc6d368d0e button.colab-df-convert');\n",
       "        buttonEl.style.display =\n",
       "          google.colab.kernel.accessAllowed ? 'block' : 'none';\n",
       "\n",
       "        async function convertToInteractive(key) {\n",
       "          const element = document.querySelector('#df-9f1be256-50ae-4214-a99c-c9cc6d368d0e');\n",
       "          const dataTable =\n",
       "            await google.colab.kernel.invokeFunction('convertToInteractive',\n",
       "                                                     [key], {});\n",
       "          if (!dataTable) return;\n",
       "\n",
       "          const docLinkHtml = 'Like what you see? Visit the ' +\n",
       "            '<a target=\"_blank\" href=https://colab.research.google.com/notebooks/data_table.ipynb>data table notebook</a>'\n",
       "            + ' to learn more about interactive tables.';\n",
       "          element.innerHTML = '';\n",
       "          dataTable['output_type'] = 'display_data';\n",
       "          await google.colab.output.renderOutput(dataTable, element);\n",
       "          const docLink = document.createElement('div');\n",
       "          docLink.innerHTML = docLinkHtml;\n",
       "          element.appendChild(docLink);\n",
       "        }\n",
       "      </script>\n",
       "    </div>\n",
       "  </div>\n",
       "  "
      ],
      "text/plain": [
       "                id  vendor_id      pickup_datetime     dropoff_datetime  \\\n",
       "0        id2875421          2  2016-03-14 17:24:55  2016-03-14 17:32:30   \n",
       "1        id2377394          1  2016-06-12 00:43:35  2016-06-12 00:54:38   \n",
       "2        id3858529          2  2016-01-19 11:35:24  2016-01-19 12:10:48   \n",
       "3        id3504673          2  2016-04-06 19:32:31  2016-04-06 19:39:40   \n",
       "4        id2181028          2  2016-03-26 13:30:55  2016-03-26 13:38:10   \n",
       "...            ...        ...                  ...                  ...   \n",
       "1458639  id2376096          2  2016-04-08 13:31:04  2016-04-08 13:44:02   \n",
       "1458640  id1049543          1  2016-01-10 07:35:15  2016-01-10 07:46:10   \n",
       "1458641  id2304944          2  2016-04-22 06:57:41  2016-04-22 07:10:25   \n",
       "1458642  id2714485          1  2016-01-05 15:56:26  2016-01-05 16:02:39   \n",
       "1458643  id1209952          1  2016-04-05 14:44:25  2016-04-05 14:47:43   \n",
       "\n",
       "         passenger_count  pickup_longitude  pickup_latitude  \\\n",
       "0                      1        -73.982155        40.767937   \n",
       "1                      1        -73.980415        40.738564   \n",
       "2                      1        -73.979027        40.763939   \n",
       "3                      1        -74.010040        40.719971   \n",
       "4                      1        -73.973053        40.793209   \n",
       "...                  ...               ...              ...   \n",
       "1458639                4        -73.982201        40.745522   \n",
       "1458640                1        -74.000946        40.747379   \n",
       "1458641                1        -73.959129        40.768799   \n",
       "1458642                1        -73.982079        40.749062   \n",
       "1458643                1        -73.979538        40.781750   \n",
       "\n",
       "         dropoff_longitude  dropoff_latitude store_and_fwd_flag  trip_duration  \n",
       "0               -73.964630         40.765602                  N            455  \n",
       "1               -73.999481         40.731152                  N            663  \n",
       "2               -74.005333         40.710087                  N           2124  \n",
       "3               -74.012268         40.706718                  N            429  \n",
       "4               -73.972923         40.782520                  N            435  \n",
       "...                    ...               ...                ...            ...  \n",
       "1458639         -73.994911         40.740170                  N            778  \n",
       "1458640         -73.970184         40.796547                  N            655  \n",
       "1458641         -74.004433         40.707371                  N            764  \n",
       "1458642         -73.974632         40.757107                  N            373  \n",
       "1458643         -73.972809         40.790585                  N            198  \n",
       "\n",
       "[1458644 rows x 11 columns]"
      ]
     },
     "execution_count": 42,
     "metadata": {},
     "output_type": "execute_result"
    }
   ],
   "source": [
    "orig_df=pd.read_csv(zf.open('train.csv'))\n",
    "train_df=orig_df.copy()\n",
    "train_df"
   ]
  },
  {
   "cell_type": "code",
   "execution_count": null,
   "metadata": {
    "colab": {
     "base_uri": "https://localhost:8080/"
    },
    "executionInfo": {
     "elapsed": 1769,
     "status": "ok",
     "timestamp": 1655813854567,
     "user": {
      "displayName": "Noorullah Rizwan",
      "userId": "14596611615912427721"
     },
     "user_tz": 420
    },
    "id": "-0s2_GRDMPDt",
    "outputId": "19e94a64-08af-446f-bf58-aac606112e38"
   },
   "outputs": [
    {
     "name": "stdout",
     "output_type": "stream",
     "text": [
      "<class 'pandas.core.frame.DataFrame'>\n",
      "RangeIndex: 1458644 entries, 0 to 1458643\n",
      "Data columns (total 11 columns):\n",
      " #   Column              Non-Null Count    Dtype  \n",
      "---  ------              --------------    -----  \n",
      " 0   id                  1458644 non-null  object \n",
      " 1   vendor_id           1458644 non-null  int64  \n",
      " 2   pickup_datetime     1458644 non-null  object \n",
      " 3   dropoff_datetime    1458644 non-null  object \n",
      " 4   passenger_count     1458644 non-null  int64  \n",
      " 5   pickup_longitude    1458644 non-null  float64\n",
      " 6   pickup_latitude     1458644 non-null  float64\n",
      " 7   dropoff_longitude   1458644 non-null  float64\n",
      " 8   dropoff_latitude    1458644 non-null  float64\n",
      " 9   store_and_fwd_flag  1458644 non-null  object \n",
      " 10  trip_duration       1458644 non-null  int64  \n",
      "dtypes: float64(4), int64(3), object(4)\n",
      "memory usage: 122.4+ MB\n"
     ]
    }
   ],
   "source": [
    "train_df.info()"
   ]
  },
  {
   "cell_type": "code",
   "execution_count": null,
   "metadata": {
    "colab": {
     "base_uri": "https://localhost:8080/"
    },
    "executionInfo": {
     "elapsed": 14,
     "status": "ok",
     "timestamp": 1655813828555,
     "user": {
      "displayName": "Noorullah Rizwan",
      "userId": "14596611615912427721"
     },
     "user_tz": 420
    },
    "id": "roXdzP3jMdQ8",
    "outputId": "de0eab83-585d-4896-d44a-0840158550d3"
   },
   "outputs": [
    {
     "data": {
      "text/plain": [
       "(1458644, 11)"
      ]
     },
     "execution_count": 52,
     "metadata": {},
     "output_type": "execute_result"
    }
   ],
   "source": [
    "train_df.shape"
   ]
  },
  {
   "cell_type": "code",
   "execution_count": null,
   "metadata": {
    "colab": {
     "base_uri": "https://localhost:8080/",
     "height": 300
    },
    "executionInfo": {
     "elapsed": 1268,
     "status": "ok",
     "timestamp": 1655813843873,
     "user": {
      "displayName": "Noorullah Rizwan",
      "userId": "14596611615912427721"
     },
     "user_tz": 420
    },
    "id": "P1cqMO-EMfmy",
    "outputId": "7719c921-9d7d-4028-c55a-2acb82ec895c"
   },
   "outputs": [
    {
     "data": {
      "text/html": [
       "\n",
       "  <div id=\"df-cccc07f6-aa18-40ac-9a9d-162f7a478267\">\n",
       "    <div class=\"colab-df-container\">\n",
       "      <div>\n",
       "<style scoped>\n",
       "    .dataframe tbody tr th:only-of-type {\n",
       "        vertical-align: middle;\n",
       "    }\n",
       "\n",
       "    .dataframe tbody tr th {\n",
       "        vertical-align: top;\n",
       "    }\n",
       "\n",
       "    .dataframe thead th {\n",
       "        text-align: right;\n",
       "    }\n",
       "</style>\n",
       "<table border=\"1\" class=\"dataframe\">\n",
       "  <thead>\n",
       "    <tr style=\"text-align: right;\">\n",
       "      <th></th>\n",
       "      <th>vendor_id</th>\n",
       "      <th>passenger_count</th>\n",
       "      <th>pickup_longitude</th>\n",
       "      <th>pickup_latitude</th>\n",
       "      <th>dropoff_longitude</th>\n",
       "      <th>dropoff_latitude</th>\n",
       "      <th>trip_duration</th>\n",
       "    </tr>\n",
       "  </thead>\n",
       "  <tbody>\n",
       "    <tr>\n",
       "      <th>count</th>\n",
       "      <td>1.458644e+06</td>\n",
       "      <td>1.458644e+06</td>\n",
       "      <td>1.458644e+06</td>\n",
       "      <td>1.458644e+06</td>\n",
       "      <td>1.458644e+06</td>\n",
       "      <td>1.458644e+06</td>\n",
       "      <td>1.458644e+06</td>\n",
       "    </tr>\n",
       "    <tr>\n",
       "      <th>mean</th>\n",
       "      <td>1.534950e+00</td>\n",
       "      <td>1.664530e+00</td>\n",
       "      <td>-7.397349e+01</td>\n",
       "      <td>4.075092e+01</td>\n",
       "      <td>-7.397342e+01</td>\n",
       "      <td>4.075180e+01</td>\n",
       "      <td>9.594923e+02</td>\n",
       "    </tr>\n",
       "    <tr>\n",
       "      <th>std</th>\n",
       "      <td>4.987772e-01</td>\n",
       "      <td>1.314242e+00</td>\n",
       "      <td>7.090186e-02</td>\n",
       "      <td>3.288119e-02</td>\n",
       "      <td>7.064327e-02</td>\n",
       "      <td>3.589056e-02</td>\n",
       "      <td>5.237432e+03</td>\n",
       "    </tr>\n",
       "    <tr>\n",
       "      <th>min</th>\n",
       "      <td>1.000000e+00</td>\n",
       "      <td>0.000000e+00</td>\n",
       "      <td>-1.219333e+02</td>\n",
       "      <td>3.435970e+01</td>\n",
       "      <td>-1.219333e+02</td>\n",
       "      <td>3.218114e+01</td>\n",
       "      <td>1.000000e+00</td>\n",
       "    </tr>\n",
       "    <tr>\n",
       "      <th>25%</th>\n",
       "      <td>1.000000e+00</td>\n",
       "      <td>1.000000e+00</td>\n",
       "      <td>-7.399187e+01</td>\n",
       "      <td>4.073735e+01</td>\n",
       "      <td>-7.399133e+01</td>\n",
       "      <td>4.073588e+01</td>\n",
       "      <td>3.970000e+02</td>\n",
       "    </tr>\n",
       "    <tr>\n",
       "      <th>50%</th>\n",
       "      <td>2.000000e+00</td>\n",
       "      <td>1.000000e+00</td>\n",
       "      <td>-7.398174e+01</td>\n",
       "      <td>4.075410e+01</td>\n",
       "      <td>-7.397975e+01</td>\n",
       "      <td>4.075452e+01</td>\n",
       "      <td>6.620000e+02</td>\n",
       "    </tr>\n",
       "    <tr>\n",
       "      <th>75%</th>\n",
       "      <td>2.000000e+00</td>\n",
       "      <td>2.000000e+00</td>\n",
       "      <td>-7.396733e+01</td>\n",
       "      <td>4.076836e+01</td>\n",
       "      <td>-7.396301e+01</td>\n",
       "      <td>4.076981e+01</td>\n",
       "      <td>1.075000e+03</td>\n",
       "    </tr>\n",
       "    <tr>\n",
       "      <th>max</th>\n",
       "      <td>2.000000e+00</td>\n",
       "      <td>9.000000e+00</td>\n",
       "      <td>-6.133553e+01</td>\n",
       "      <td>5.188108e+01</td>\n",
       "      <td>-6.133553e+01</td>\n",
       "      <td>4.392103e+01</td>\n",
       "      <td>3.526282e+06</td>\n",
       "    </tr>\n",
       "  </tbody>\n",
       "</table>\n",
       "</div>\n",
       "      <button class=\"colab-df-convert\" onclick=\"convertToInteractive('df-cccc07f6-aa18-40ac-9a9d-162f7a478267')\"\n",
       "              title=\"Convert this dataframe to an interactive table.\"\n",
       "              style=\"display:none;\">\n",
       "        \n",
       "  <svg xmlns=\"http://www.w3.org/2000/svg\" height=\"24px\"viewBox=\"0 0 24 24\"\n",
       "       width=\"24px\">\n",
       "    <path d=\"M0 0h24v24H0V0z\" fill=\"none\"/>\n",
       "    <path d=\"M18.56 5.44l.94 2.06.94-2.06 2.06-.94-2.06-.94-.94-2.06-.94 2.06-2.06.94zm-11 1L8.5 8.5l.94-2.06 2.06-.94-2.06-.94L8.5 2.5l-.94 2.06-2.06.94zm10 10l.94 2.06.94-2.06 2.06-.94-2.06-.94-.94-2.06-.94 2.06-2.06.94z\"/><path d=\"M17.41 7.96l-1.37-1.37c-.4-.4-.92-.59-1.43-.59-.52 0-1.04.2-1.43.59L10.3 9.45l-7.72 7.72c-.78.78-.78 2.05 0 2.83L4 21.41c.39.39.9.59 1.41.59.51 0 1.02-.2 1.41-.59l7.78-7.78 2.81-2.81c.8-.78.8-2.07 0-2.86zM5.41 20L4 18.59l7.72-7.72 1.47 1.35L5.41 20z\"/>\n",
       "  </svg>\n",
       "      </button>\n",
       "      \n",
       "  <style>\n",
       "    .colab-df-container {\n",
       "      display:flex;\n",
       "      flex-wrap:wrap;\n",
       "      gap: 12px;\n",
       "    }\n",
       "\n",
       "    .colab-df-convert {\n",
       "      background-color: #E8F0FE;\n",
       "      border: none;\n",
       "      border-radius: 50%;\n",
       "      cursor: pointer;\n",
       "      display: none;\n",
       "      fill: #1967D2;\n",
       "      height: 32px;\n",
       "      padding: 0 0 0 0;\n",
       "      width: 32px;\n",
       "    }\n",
       "\n",
       "    .colab-df-convert:hover {\n",
       "      background-color: #E2EBFA;\n",
       "      box-shadow: 0px 1px 2px rgba(60, 64, 67, 0.3), 0px 1px 3px 1px rgba(60, 64, 67, 0.15);\n",
       "      fill: #174EA6;\n",
       "    }\n",
       "\n",
       "    [theme=dark] .colab-df-convert {\n",
       "      background-color: #3B4455;\n",
       "      fill: #D2E3FC;\n",
       "    }\n",
       "\n",
       "    [theme=dark] .colab-df-convert:hover {\n",
       "      background-color: #434B5C;\n",
       "      box-shadow: 0px 1px 3px 1px rgba(0, 0, 0, 0.15);\n",
       "      filter: drop-shadow(0px 1px 2px rgba(0, 0, 0, 0.3));\n",
       "      fill: #FFFFFF;\n",
       "    }\n",
       "  </style>\n",
       "\n",
       "      <script>\n",
       "        const buttonEl =\n",
       "          document.querySelector('#df-cccc07f6-aa18-40ac-9a9d-162f7a478267 button.colab-df-convert');\n",
       "        buttonEl.style.display =\n",
       "          google.colab.kernel.accessAllowed ? 'block' : 'none';\n",
       "\n",
       "        async function convertToInteractive(key) {\n",
       "          const element = document.querySelector('#df-cccc07f6-aa18-40ac-9a9d-162f7a478267');\n",
       "          const dataTable =\n",
       "            await google.colab.kernel.invokeFunction('convertToInteractive',\n",
       "                                                     [key], {});\n",
       "          if (!dataTable) return;\n",
       "\n",
       "          const docLinkHtml = 'Like what you see? Visit the ' +\n",
       "            '<a target=\"_blank\" href=https://colab.research.google.com/notebooks/data_table.ipynb>data table notebook</a>'\n",
       "            + ' to learn more about interactive tables.';\n",
       "          element.innerHTML = '';\n",
       "          dataTable['output_type'] = 'display_data';\n",
       "          await google.colab.output.renderOutput(dataTable, element);\n",
       "          const docLink = document.createElement('div');\n",
       "          docLink.innerHTML = docLinkHtml;\n",
       "          element.appendChild(docLink);\n",
       "        }\n",
       "      </script>\n",
       "    </div>\n",
       "  </div>\n",
       "  "
      ],
      "text/plain": [
       "          vendor_id  passenger_count  pickup_longitude  pickup_latitude  \\\n",
       "count  1.458644e+06     1.458644e+06      1.458644e+06     1.458644e+06   \n",
       "mean   1.534950e+00     1.664530e+00     -7.397349e+01     4.075092e+01   \n",
       "std    4.987772e-01     1.314242e+00      7.090186e-02     3.288119e-02   \n",
       "min    1.000000e+00     0.000000e+00     -1.219333e+02     3.435970e+01   \n",
       "25%    1.000000e+00     1.000000e+00     -7.399187e+01     4.073735e+01   \n",
       "50%    2.000000e+00     1.000000e+00     -7.398174e+01     4.075410e+01   \n",
       "75%    2.000000e+00     2.000000e+00     -7.396733e+01     4.076836e+01   \n",
       "max    2.000000e+00     9.000000e+00     -6.133553e+01     5.188108e+01   \n",
       "\n",
       "       dropoff_longitude  dropoff_latitude  trip_duration  \n",
       "count       1.458644e+06      1.458644e+06   1.458644e+06  \n",
       "mean       -7.397342e+01      4.075180e+01   9.594923e+02  \n",
       "std         7.064327e-02      3.589056e-02   5.237432e+03  \n",
       "min        -1.219333e+02      3.218114e+01   1.000000e+00  \n",
       "25%        -7.399133e+01      4.073588e+01   3.970000e+02  \n",
       "50%        -7.397975e+01      4.075452e+01   6.620000e+02  \n",
       "75%        -7.396301e+01      4.076981e+01   1.075000e+03  \n",
       "max        -6.133553e+01      4.392103e+01   3.526282e+06  "
      ]
     },
     "execution_count": 53,
     "metadata": {},
     "output_type": "execute_result"
    }
   ],
   "source": [
    "train_df.describe()"
   ]
  },
  {
   "cell_type": "markdown",
   "metadata": {
    "id": "miWDR1pqLxio"
   },
   "source": [
    "### Test dataframe"
   ]
  },
  {
   "cell_type": "code",
   "execution_count": null,
   "metadata": {
    "id": "Wt5TX0uYGClm"
   },
   "outputs": [],
   "source": [
    "zf1=zipfile.ZipFile('nyc-taxi-trip-duration/test.zip')\n",
    "orig_test_df=pd.read_csv(zf1.open('test.csv'))\n",
    "test_df=orig_test_df.copy()"
   ]
  },
  {
   "cell_type": "markdown",
   "metadata": {
    "id": "XDbAXJvTL1Ph"
   },
   "source": [
    "### Submission dataframe"
   ]
  },
  {
   "cell_type": "code",
   "execution_count": null,
   "metadata": {
    "id": "C0M4sM86ZgQs"
   },
   "outputs": [],
   "source": [
    "zf2=zipfile.ZipFile('nyc-taxi-trip-duration/sample_submission.zip')\n",
    "orig_sub_df=pd.read_csv(zf2.open('sample_submission.csv'))\n",
    "sub_df=orig_sub_df.copy()\n"
   ]
  },
  {
   "cell_type": "markdown",
   "metadata": {
    "id": "k_c5Pr6ObpGV"
   },
   "source": [
    "## Feature Engineering\n",
    "We will try to add a few new columns to our training dataframe to better analyze the dataset with respect to the target column. For that case, we will be creating helper functions."
   ]
  },
  {
   "cell_type": "markdown",
   "metadata": {
    "id": "PWqXgShH_yLw"
   },
   "source": [
    "### Log Time Duration\n",
    "We all take natural log of the target column trip_duration since the evaluation criteria for this project is mean squared logarthmic error. Moreover, a few relationships would be visualized better by taking natural log of the target column trip_duration"
   ]
  },
  {
   "cell_type": "markdown",
   "metadata": {
    "id": "2bIEliJNMQPT"
   },
   "source": [
    "This will also be our target column. At the end, we will convert the time back to seconds using the numpy exponent function"
   ]
  },
  {
   "cell_type": "code",
   "execution_count": null,
   "metadata": {
    "id": "jNFEN5P94vD9"
   },
   "outputs": [],
   "source": [
    "def log_time(df):\n",
    "  df['log_time_duration']=np.log(df.trip_duration)"
   ]
  },
  {
   "cell_type": "markdown",
   "metadata": {
    "id": "9G57xWZMBeyx"
   },
   "source": [
    "### Spliting Dates\n",
    "We will split the pickup time date column into month, weekday, day, and hour. There could be a holiday someday or traffic could be more on some specific hours of the day. So these columns could prove useful"
   ]
  },
  {
   "cell_type": "code",
   "execution_count": null,
   "metadata": {
    "id": "eYsz-drhb294"
   },
   "outputs": [],
   "source": [
    "def split_dates(df):\n",
    "  df['pickup_month']=pd.to_datetime(df.pickup_datetime).dt.month\n",
    "  df['pickup_weekday']=pd.to_datetime(df.pickup_datetime).dt.weekday\n",
    "  df['pickup_day']=pd.to_datetime(df.pickup_datetime).dt.day\n",
    "  df['pickup_time_hour']=pd.to_datetime(df.pickup_datetime).dt.hour"
   ]
  },
  {
   "cell_type": "markdown",
   "metadata": {
    "id": "5KRumgM1CGSD"
   },
   "source": [
    "### Haversine Distance\n",
    "We are given the pickup and dropoff latitude and longitude coordinates. Using them, we can calculate the distance between two points using the concept of Haversine Distance which is basically the distance between two points on a sphere. Since Earth is assumed to be an sphere, the distance calculated could be a good factor in designing our machine learning model later"
   ]
  },
  {
   "cell_type": "markdown",
   "metadata": {
    "id": "82iSk64CCLmy"
   },
   "source": [
    "The code below is based on the concept of haversine distance studied from an internet source mentioned at the end of the notebook"
   ]
  },
  {
   "cell_type": "code",
   "execution_count": null,
   "metadata": {
    "id": "918-bRttRBUg"
   },
   "outputs": [],
   "source": [
    "def cal_distance(df):\n",
    "  earth_radius=6370\n",
    "  df['pickup_latitude_radians']=np.radians(df.pickup_latitude)\n",
    "  df['pickup_longitude_radians']=np.radians(df.pickup_longitude)\n",
    "  df['dropoff_latitude_radians']=np.radians(df.dropoff_latitude)\n",
    "  df['dropoff_longitude_radians']=np.radians(df.dropoff_longitude)\n",
    "  df['dlon']=df.dropoff_longitude_radians - df.pickup_longitude_radians\n",
    "  df['dlat']=df.dropoff_latitude_radians - df.pickup_latitude_radians\n",
    "  df['a'] = np.sin(df.dlat / 2)**2 + np.cos(df.pickup_latitude_radians) * np.cos(df.dropoff_latitude_radians) * np.sin(df.dlon / 2)**2\n",
    "  df['c']=2 * np.arctan2(np.sqrt(df.a), np.sqrt(1 - df.a))\n",
    "  df['Distance_km']=earth_radius*df.c"
   ]
  },
  {
   "cell_type": "markdown",
   "metadata": {
    "id": "9eRXlbNdCtEO"
   },
   "source": [
    "Although the above calculation does create a few columns, the Distance_km column is what we are interested in. It is the distance between pickup and dropoff coordinates in kilometers"
   ]
  },
  {
   "cell_type": "code",
   "execution_count": null,
   "metadata": {
    "colab": {
     "base_uri": "https://localhost:8080/"
    },
    "executionInfo": {
     "elapsed": 7,
     "status": "ok",
     "timestamp": 1655813798108,
     "user": {
      "displayName": "Noorullah Rizwan",
      "userId": "14596611615912427721"
     },
     "user_tz": 420
    },
    "id": "XTOafLPvcFrz",
    "outputId": "5b4e60d8-fd2e-40ee-e10c-cabf9103ac2a"
   },
   "outputs": [
    {
     "data": {
      "text/plain": [
       "Index(['id', 'vendor_id', 'pickup_datetime', 'dropoff_datetime',\n",
       "       'passenger_count', 'pickup_longitude', 'pickup_latitude',\n",
       "       'dropoff_longitude', 'dropoff_latitude', 'store_and_fwd_flag',\n",
       "       'trip_duration'],\n",
       "      dtype='object')"
      ]
     },
     "execution_count": 50,
     "metadata": {},
     "output_type": "execute_result"
    }
   ],
   "source": [
    "train_df.columns"
   ]
  },
  {
   "cell_type": "markdown",
   "metadata": {
    "id": "dffUWYMbCe8o"
   },
   "source": [
    "The helper functions are called to add the new columns"
   ]
  },
  {
   "cell_type": "code",
   "execution_count": null,
   "metadata": {
    "id": "Y1_0Bsg5pfu1"
   },
   "outputs": [],
   "source": [
    "log_time(train_df)\n",
    "split_dates(train_df)\n",
    "cal_distance(train_df)\n"
   ]
  },
  {
   "cell_type": "code",
   "execution_count": null,
   "metadata": {
    "colab": {
     "base_uri": "https://localhost:8080/"
    },
    "executionInfo": {
     "elapsed": 15,
     "status": "ok",
     "timestamp": 1655813881568,
     "user": {
      "displayName": "Noorullah Rizwan",
      "userId": "14596611615912427721"
     },
     "user_tz": 420
    },
    "id": "zz6sQpQ7A4Zw",
    "outputId": "2c55c32f-e2d1-4dc3-85a4-b7b17b59cdc7"
   },
   "outputs": [
    {
     "data": {
      "text/plain": [
       "Index(['id', 'vendor_id', 'pickup_datetime', 'dropoff_datetime',\n",
       "       'passenger_count', 'pickup_longitude', 'pickup_latitude',\n",
       "       'dropoff_longitude', 'dropoff_latitude', 'store_and_fwd_flag',\n",
       "       'trip_duration', 'log_time_duration', 'pickup_month', 'pickup_weekday',\n",
       "       'pickup_day', 'pickup_time_hour', 'pickup_latitude_radians',\n",
       "       'pickup_longitude_radians', 'dropoff_latitude_radians',\n",
       "       'dropoff_longitude_radians', 'dlon', 'dlat', 'a', 'c', 'Distance_km'],\n",
       "      dtype='object')"
      ]
     },
     "execution_count": 56,
     "metadata": {},
     "output_type": "execute_result"
    }
   ],
   "source": [
    "train_df.columns"
   ]
  },
  {
   "cell_type": "markdown",
   "metadata": {
    "id": "Rv3PzrFwDL67"
   },
   "source": [
    "## Exploratory Data Analysis\n",
    "Lets see some trends and relationships for the target column with other columns\n"
   ]
  },
  {
   "cell_type": "markdown",
   "metadata": {
    "id": "cHc6sswZDQzv"
   },
   "source": [
    "First lets see on which hours there are most taxi rides through a histogram"
   ]
  },
  {
   "cell_type": "code",
   "execution_count": 89,
   "metadata": {
    "colab": {
     "base_uri": "https://localhost:8080/",
     "height": 542,
     "output_embedded_package_id": "1HUa8F3BIriWyF2Gg72Z16zGn1Cq9V0BP"
    },
    "executionInfo": {
     "elapsed": 10408,
     "status": "ok",
     "timestamp": 1655814501069,
     "user": {
      "displayName": "Noorullah Rizwan",
      "userId": "14596611615912427721"
     },
     "user_tz": 420
    },
    "id": "K5_oNMcpcHBD",
    "outputId": "2c4d8d3e-e5ee-489c-d3ef-383f1bf2d392"
   },
   "outputs": [
    {
     "data": {
      "text/plain": [
       "Output hidden; open in https://colab.research.google.com to view."
      ]
     },
     "metadata": {},
     "output_type": "display_data"
    }
   ],
   "source": [
    "fig=px.histogram(train_df,\n",
    "                 x='pickup_time_hour',\n",
    "                 color='vendor_id',\n",
    "                 color_discrete_sequence=['green','red'],\n",
    "                 title='No. of Trips at different hours of the day')\n",
    "fig.update_layout(bargap=0.1)\n",
    "fig.show()"
   ]
  },
  {
   "cell_type": "markdown",
   "metadata": {
    "id": "s1OAzwIfnIwX"
   },
   "source": [
    "It seems that there are almost equal number of trips for both the vendors at all hours of the day. Moreover, at hours 18:00, 19:00 were recorded the most trips, hence these hours seem to be the busiest at New York City "
   ]
  },
  {
   "cell_type": "code",
   "execution_count": null,
   "metadata": {
    "colab": {
     "base_uri": "https://localhost:8080/"
    },
    "executionInfo": {
     "elapsed": 18659,
     "status": "ok",
     "timestamp": 1655731265040,
     "user": {
      "displayName": "Noorullah Rizwan",
      "userId": "14596611615912427721"
     },
     "user_tz": 420
    },
    "id": "Ie6A56_feO0X",
    "outputId": "c647f352-b090-497c-da3d-35b6e5d7970a"
   },
   "outputs": [
    {
     "data": {
      "text/plain": [
       "<matplotlib.axes._subplots.AxesSubplot at 0x7f83e021e310>"
      ]
     },
     "execution_count": 121,
     "metadata": {},
     "output_type": "execute_result"
    },
    {
     "data": {
      "image/png": "[encoded data removed]",
      "text/plain": [
       "<Figure size 720x432 with 1 Axes>"
      ]
     },
     "metadata": {},
     "output_type": "display_data"
    }
   ],
   "source": [
    "sns.barplot(x='pickup_time_hour', y='trip_duration', hue='vendor_id', data=train_df)"
   ]
  },
  {
   "cell_type": "markdown",
   "metadata": {
    "id": "4dhQx5TZD708"
   },
   "source": [
    "The trips from vendor 1 on average takes less time to travel to the destination at all times of the day. So passengers travelling through taxis of this vendor are highly likely to get a faster service"
   ]
  },
  {
   "cell_type": "code",
   "execution_count": 90,
   "metadata": {
    "colab": {
     "base_uri": "https://localhost:8080/",
     "height": 542,
     "output_embedded_package_id": "1NWo-yIhOQ3rIrn7q5R7FXHalICuSMH1R"
    },
    "executionInfo": {
     "elapsed": 28185,
     "status": "ok",
     "timestamp": 1655814536991,
     "user": {
      "displayName": "Noorullah Rizwan",
      "userId": "14596611615912427721"
     },
     "user_tz": 420
    },
    "id": "QRwzKCEH50NT",
    "outputId": "c68a0e17-b798-4fb4-ffb5-c7b0428415d4"
   },
   "outputs": [
    {
     "data": {
      "text/plain": [
       "Output hidden; open in https://colab.research.google.com to view."
      ]
     },
     "metadata": {},
     "output_type": "display_data"
    }
   ],
   "source": [
    "fig=px.scatter(train_df,\n",
    "                 x='pickup_time_hour',\n",
    "                 y='log_time_duration',\n",
    "                 color='vendor_id',\n",
    "                 opacity=0.8,\n",
    "                 title='Log Trip time vs Hour of the day')\n",
    "fig.update_traces(marker_size=5)\n",
    "fig.show()"
   ]
  },
  {
   "cell_type": "markdown",
   "metadata": {
    "id": "Gr937ar5oeJK"
   },
   "source": [
    "The scatter plot above doesn't show a linear relationship between the pickup time hour and log of time duration. "
   ]
  },
  {
   "cell_type": "code",
   "execution_count": 91,
   "metadata": {
    "executionInfo": {
     "elapsed": 8878,
     "status": "ok",
     "timestamp": 1655814567504,
     "user": {
      "displayName": "Noorullah Rizwan",
      "userId": "14596611615912427721"
     },
     "user_tz": 420
    },
    "id": "ca3dOVKyRi9Q"
   },
   "outputs": [],
   "source": [
    "fig=px.scatter(train_df,\n",
    "                 x='Distance_km',\n",
    "                 y='log_time_duration',\n",
    "                 color='vendor_id',\n",
    "                 opacity=0.8,\n",
    "                 title='Log Trip time vs Distance in Kilometer')\n",
    "fig.update_traces(marker_size=5)\n",
    "fig.show()"
   ]
  },
  {
   "cell_type": "code",
   "execution_count": null,
   "metadata": {
    "colab": {
     "base_uri": "https://localhost:8080/",
     "height": 772
    },
    "executionInfo": {
     "elapsed": 2694,
     "status": "ok",
     "timestamp": 1655813897850,
     "user": {
      "displayName": "Noorullah Rizwan",
      "userId": "14596611615912427721"
     },
     "user_tz": 420
    },
    "id": "9C9dFmM9drMW",
    "outputId": "2b9ad236-cdab-4607-d208-a9aab29dad4a"
   },
   "outputs": [
    {
     "data": {
      "text/html": [
       "\n",
       "  <div id=\"df-4104c488-223d-49cb-8545-ec2dff40c5c1\">\n",
       "    <div class=\"colab-df-container\">\n",
       "      <div>\n",
       "<style scoped>\n",
       "    .dataframe tbody tr th:only-of-type {\n",
       "        vertical-align: middle;\n",
       "    }\n",
       "\n",
       "    .dataframe tbody tr th {\n",
       "        vertical-align: top;\n",
       "    }\n",
       "\n",
       "    .dataframe thead th {\n",
       "        text-align: right;\n",
       "    }\n",
       "</style>\n",
       "<table border=\"1\" class=\"dataframe\">\n",
       "  <thead>\n",
       "    <tr style=\"text-align: right;\">\n",
       "      <th></th>\n",
       "      <th>vendor_id</th>\n",
       "      <th>passenger_count</th>\n",
       "      <th>pickup_longitude</th>\n",
       "      <th>pickup_latitude</th>\n",
       "      <th>dropoff_longitude</th>\n",
       "      <th>dropoff_latitude</th>\n",
       "      <th>trip_duration</th>\n",
       "      <th>log_time_duration</th>\n",
       "      <th>pickup_month</th>\n",
       "      <th>pickup_weekday</th>\n",
       "      <th>pickup_day</th>\n",
       "      <th>pickup_time_hour</th>\n",
       "      <th>pickup_latitude_radians</th>\n",
       "      <th>pickup_longitude_radians</th>\n",
       "      <th>dropoff_latitude_radians</th>\n",
       "      <th>dropoff_longitude_radians</th>\n",
       "      <th>dlon</th>\n",
       "      <th>dlat</th>\n",
       "      <th>a</th>\n",
       "      <th>c</th>\n",
       "      <th>Distance_km</th>\n",
       "    </tr>\n",
       "  </thead>\n",
       "  <tbody>\n",
       "    <tr>\n",
       "      <th>vendor_id</th>\n",
       "      <td>1.000000</td>\n",
       "      <td>0.287415</td>\n",
       "      <td>0.007820</td>\n",
       "      <td>0.001742</td>\n",
       "      <td>0.001528</td>\n",
       "      <td>0.004496</td>\n",
       "      <td>0.020304</td>\n",
       "      <td>0.019833</td>\n",
       "      <td>-0.006221</td>\n",
       "      <td>0.001311</td>\n",
       "      <td>0.000734</td>\n",
       "      <td>0.009299</td>\n",
       "      <td>0.001742</td>\n",
       "      <td>0.007820</td>\n",
       "      <td>0.004496</td>\n",
       "      <td>0.001528</td>\n",
       "      <td>-0.009589</td>\n",
       "      <td>0.003001</td>\n",
       "      <td>-0.000746</td>\n",
       "      <td>0.008109</td>\n",
       "      <td>0.008109</td>\n",
       "    </tr>\n",
       "    <tr>\n",
       "      <th>passenger_count</th>\n",
       "      <td>0.287415</td>\n",
       "      <td>1.000000</td>\n",
       "      <td>0.002169</td>\n",
       "      <td>-0.005125</td>\n",
       "      <td>-0.000343</td>\n",
       "      <td>-0.002762</td>\n",
       "      <td>0.008471</td>\n",
       "      <td>0.021124</td>\n",
       "      <td>-0.002143</td>\n",
       "      <td>0.025191</td>\n",
       "      <td>0.002014</td>\n",
       "      <td>0.009101</td>\n",
       "      <td>-0.005125</td>\n",
       "      <td>0.002169</td>\n",
       "      <td>-0.002762</td>\n",
       "      <td>-0.000343</td>\n",
       "      <td>-0.003823</td>\n",
       "      <td>0.002000</td>\n",
       "      <td>0.001047</td>\n",
       "      <td>0.010306</td>\n",
       "      <td>0.010306</td>\n",
       "    </tr>\n",
       "    <tr>\n",
       "      <th>pickup_longitude</th>\n",
       "      <td>0.007820</td>\n",
       "      <td>0.002169</td>\n",
       "      <td>1.000000</td>\n",
       "      <td>0.022568</td>\n",
       "      <td>0.783582</td>\n",
       "      <td>0.100190</td>\n",
       "      <td>0.026542</td>\n",
       "      <td>0.110344</td>\n",
       "      <td>0.004474</td>\n",
       "      <td>-0.016356</td>\n",
       "      <td>-0.000874</td>\n",
       "      <td>0.010150</td>\n",
       "      <td>0.022568</td>\n",
       "      <td>1.000000</td>\n",
       "      <td>0.100190</td>\n",
       "      <td>0.783582</td>\n",
       "      <td>-0.333900</td>\n",
       "      <td>0.082270</td>\n",
       "      <td>0.036748</td>\n",
       "      <td>0.259780</td>\n",
       "      <td>0.259780</td>\n",
       "    </tr>\n",
       "    <tr>\n",
       "      <th>pickup_latitude</th>\n",
       "      <td>0.001742</td>\n",
       "      <td>-0.005125</td>\n",
       "      <td>0.022568</td>\n",
       "      <td>1.000000</td>\n",
       "      <td>0.114884</td>\n",
       "      <td>0.494038</td>\n",
       "      <td>-0.029204</td>\n",
       "      <td>-0.144149</td>\n",
       "      <td>-0.001439</td>\n",
       "      <td>-0.028976</td>\n",
       "      <td>-0.006495</td>\n",
       "      <td>0.010603</td>\n",
       "      <td>1.000000</td>\n",
       "      <td>0.022568</td>\n",
       "      <td>0.494038</td>\n",
       "      <td>0.114884</td>\n",
       "      <td>0.139935</td>\n",
       "      <td>-0.436748</td>\n",
       "      <td>0.148908</td>\n",
       "      <td>-0.210354</td>\n",
       "      <td>-0.210354</td>\n",
       "    </tr>\n",
       "    <tr>\n",
       "      <th>dropoff_longitude</th>\n",
       "      <td>0.001528</td>\n",
       "      <td>-0.000343</td>\n",
       "      <td>0.783582</td>\n",
       "      <td>0.114884</td>\n",
       "      <td>1.000000</td>\n",
       "      <td>0.124873</td>\n",
       "      <td>0.014678</td>\n",
       "      <td>0.071411</td>\n",
       "      <td>0.004758</td>\n",
       "      <td>-0.001130</td>\n",
       "      <td>-0.000456</td>\n",
       "      <td>-0.022455</td>\n",
       "      <td>0.114884</td>\n",
       "      <td>0.783582</td>\n",
       "      <td>0.124873</td>\n",
       "      <td>1.000000</td>\n",
       "      <td>0.323994</td>\n",
       "      <td>0.020302</td>\n",
       "      <td>-0.052441</td>\n",
       "      <td>0.134033</td>\n",
       "      <td>0.134033</td>\n",
       "    </tr>\n",
       "    <tr>\n",
       "      <th>dropoff_latitude</th>\n",
       "      <td>0.004496</td>\n",
       "      <td>-0.002762</td>\n",
       "      <td>0.100190</td>\n",
       "      <td>0.494038</td>\n",
       "      <td>0.124873</td>\n",
       "      <td>1.000000</td>\n",
       "      <td>-0.020677</td>\n",
       "      <td>-0.123265</td>\n",
       "      <td>-0.000607</td>\n",
       "      <td>-0.021762</td>\n",
       "      <td>-0.005561</td>\n",
       "      <td>0.013612</td>\n",
       "      <td>0.494038</td>\n",
       "      <td>0.100190</td>\n",
       "      <td>1.000000</td>\n",
       "      <td>0.124873</td>\n",
       "      <td>0.036893</td>\n",
       "      <td>0.566364</td>\n",
       "      <td>-0.020803</td>\n",
       "      <td>-0.142128</td>\n",
       "      <td>-0.142128</td>\n",
       "    </tr>\n",
       "    <tr>\n",
       "      <th>trip_duration</th>\n",
       "      <td>0.020304</td>\n",
       "      <td>0.008471</td>\n",
       "      <td>0.026542</td>\n",
       "      <td>-0.029204</td>\n",
       "      <td>0.014678</td>\n",
       "      <td>-0.020677</td>\n",
       "      <td>1.000000</td>\n",
       "      <td>0.252624</td>\n",
       "      <td>0.006607</td>\n",
       "      <td>-0.000708</td>\n",
       "      <td>0.000566</td>\n",
       "      <td>0.003690</td>\n",
       "      <td>-0.029204</td>\n",
       "      <td>0.026542</td>\n",
       "      <td>-0.020677</td>\n",
       "      <td>0.014678</td>\n",
       "      <td>-0.018147</td>\n",
       "      <td>0.006290</td>\n",
       "      <td>0.004674</td>\n",
       "      <td>0.094777</td>\n",
       "      <td>0.094777</td>\n",
       "    </tr>\n",
       "    <tr>\n",
       "      <th>log_time_duration</th>\n",
       "      <td>0.019833</td>\n",
       "      <td>0.021124</td>\n",
       "      <td>0.110344</td>\n",
       "      <td>-0.144149</td>\n",
       "      <td>0.071411</td>\n",
       "      <td>-0.123265</td>\n",
       "      <td>0.252624</td>\n",
       "      <td>1.000000</td>\n",
       "      <td>0.046488</td>\n",
       "      <td>-0.027817</td>\n",
       "      <td>0.010385</td>\n",
       "      <td>0.039107</td>\n",
       "      <td>-0.144149</td>\n",
       "      <td>0.110344</td>\n",
       "      <td>-0.123265</td>\n",
       "      <td>0.071411</td>\n",
       "      <td>-0.059681</td>\n",
       "      <td>0.009103</td>\n",
       "      <td>0.023693</td>\n",
       "      <td>0.572128</td>\n",
       "      <td>0.572128</td>\n",
       "    </tr>\n",
       "    <tr>\n",
       "      <th>pickup_month</th>\n",
       "      <td>-0.006221</td>\n",
       "      <td>-0.002143</td>\n",
       "      <td>0.004474</td>\n",
       "      <td>-0.001439</td>\n",
       "      <td>0.004758</td>\n",
       "      <td>-0.000607</td>\n",
       "      <td>0.006607</td>\n",
       "      <td>0.046488</td>\n",
       "      <td>1.000000</td>\n",
       "      <td>-0.014544</td>\n",
       "      <td>-0.015135</td>\n",
       "      <td>-0.003438</td>\n",
       "      <td>-0.001439</td>\n",
       "      <td>0.004474</td>\n",
       "      <td>-0.000607</td>\n",
       "      <td>0.004758</td>\n",
       "      <td>0.000405</td>\n",
       "      <td>0.000736</td>\n",
       "      <td>0.000646</td>\n",
       "      <td>0.015667</td>\n",
       "      <td>0.015667</td>\n",
       "    </tr>\n",
       "    <tr>\n",
       "      <th>pickup_weekday</th>\n",
       "      <td>0.001311</td>\n",
       "      <td>0.025191</td>\n",
       "      <td>-0.016356</td>\n",
       "      <td>-0.028976</td>\n",
       "      <td>-0.001130</td>\n",
       "      <td>-0.021762</td>\n",
       "      <td>-0.000708</td>\n",
       "      <td>-0.027817</td>\n",
       "      <td>-0.014544</td>\n",
       "      <td>1.000000</td>\n",
       "      <td>0.004365</td>\n",
       "      <td>-0.084255</td>\n",
       "      <td>-0.028976</td>\n",
       "      <td>-0.016356</td>\n",
       "      <td>-0.021762</td>\n",
       "      <td>-0.001130</td>\n",
       "      <td>0.023191</td>\n",
       "      <td>0.004950</td>\n",
       "      <td>0.000024</td>\n",
       "      <td>0.007599</td>\n",
       "      <td>0.007599</td>\n",
       "    </tr>\n",
       "    <tr>\n",
       "      <th>pickup_day</th>\n",
       "      <td>0.000734</td>\n",
       "      <td>0.002014</td>\n",
       "      <td>-0.000874</td>\n",
       "      <td>-0.006495</td>\n",
       "      <td>-0.000456</td>\n",
       "      <td>-0.005561</td>\n",
       "      <td>0.000566</td>\n",
       "      <td>0.010385</td>\n",
       "      <td>-0.015135</td>\n",
       "      <td>0.004365</td>\n",
       "      <td>1.000000</td>\n",
       "      <td>0.000414</td>\n",
       "      <td>-0.006495</td>\n",
       "      <td>-0.000874</td>\n",
       "      <td>-0.005561</td>\n",
       "      <td>-0.000456</td>\n",
       "      <td>0.000640</td>\n",
       "      <td>0.000402</td>\n",
       "      <td>-0.000814</td>\n",
       "      <td>0.005982</td>\n",
       "      <td>0.005982</td>\n",
       "    </tr>\n",
       "    <tr>\n",
       "      <th>pickup_time_hour</th>\n",
       "      <td>0.009299</td>\n",
       "      <td>0.009101</td>\n",
       "      <td>0.010150</td>\n",
       "      <td>0.010603</td>\n",
       "      <td>-0.022455</td>\n",
       "      <td>0.013612</td>\n",
       "      <td>0.003690</td>\n",
       "      <td>0.039107</td>\n",
       "      <td>-0.003438</td>\n",
       "      <td>-0.084255</td>\n",
       "      <td>0.000414</td>\n",
       "      <td>1.000000</td>\n",
       "      <td>0.010603</td>\n",
       "      <td>0.010150</td>\n",
       "      <td>0.013612</td>\n",
       "      <td>-0.022455</td>\n",
       "      <td>-0.049525</td>\n",
       "      <td>0.004033</td>\n",
       "      <td>0.000824</td>\n",
       "      <td>-0.015813</td>\n",
       "      <td>-0.015813</td>\n",
       "    </tr>\n",
       "    <tr>\n",
       "      <th>pickup_latitude_radians</th>\n",
       "      <td>0.001742</td>\n",
       "      <td>-0.005125</td>\n",
       "      <td>0.022568</td>\n",
       "      <td>1.000000</td>\n",
       "      <td>0.114884</td>\n",
       "      <td>0.494038</td>\n",
       "      <td>-0.029204</td>\n",
       "      <td>-0.144149</td>\n",
       "      <td>-0.001439</td>\n",
       "      <td>-0.028976</td>\n",
       "      <td>-0.006495</td>\n",
       "      <td>0.010603</td>\n",
       "      <td>1.000000</td>\n",
       "      <td>0.022568</td>\n",
       "      <td>0.494038</td>\n",
       "      <td>0.114884</td>\n",
       "      <td>0.139935</td>\n",
       "      <td>-0.436748</td>\n",
       "      <td>0.148908</td>\n",
       "      <td>-0.210354</td>\n",
       "      <td>-0.210354</td>\n",
       "    </tr>\n",
       "    <tr>\n",
       "      <th>pickup_longitude_radians</th>\n",
       "      <td>0.007820</td>\n",
       "      <td>0.002169</td>\n",
       "      <td>1.000000</td>\n",
       "      <td>0.022568</td>\n",
       "      <td>0.783582</td>\n",
       "      <td>0.100190</td>\n",
       "      <td>0.026542</td>\n",
       "      <td>0.110344</td>\n",
       "      <td>0.004474</td>\n",
       "      <td>-0.016356</td>\n",
       "      <td>-0.000874</td>\n",
       "      <td>0.010150</td>\n",
       "      <td>0.022568</td>\n",
       "      <td>1.000000</td>\n",
       "      <td>0.100190</td>\n",
       "      <td>0.783582</td>\n",
       "      <td>-0.333900</td>\n",
       "      <td>0.082270</td>\n",
       "      <td>0.036748</td>\n",
       "      <td>0.259780</td>\n",
       "      <td>0.259780</td>\n",
       "    </tr>\n",
       "    <tr>\n",
       "      <th>dropoff_latitude_radians</th>\n",
       "      <td>0.004496</td>\n",
       "      <td>-0.002762</td>\n",
       "      <td>0.100190</td>\n",
       "      <td>0.494038</td>\n",
       "      <td>0.124873</td>\n",
       "      <td>1.000000</td>\n",
       "      <td>-0.020677</td>\n",
       "      <td>-0.123265</td>\n",
       "      <td>-0.000607</td>\n",
       "      <td>-0.021762</td>\n",
       "      <td>-0.005561</td>\n",
       "      <td>0.013612</td>\n",
       "      <td>0.494038</td>\n",
       "      <td>0.100190</td>\n",
       "      <td>1.000000</td>\n",
       "      <td>0.124873</td>\n",
       "      <td>0.036893</td>\n",
       "      <td>0.566364</td>\n",
       "      <td>-0.020803</td>\n",
       "      <td>-0.142128</td>\n",
       "      <td>-0.142128</td>\n",
       "    </tr>\n",
       "    <tr>\n",
       "      <th>dropoff_longitude_radians</th>\n",
       "      <td>0.001528</td>\n",
       "      <td>-0.000343</td>\n",
       "      <td>0.783582</td>\n",
       "      <td>0.114884</td>\n",
       "      <td>1.000000</td>\n",
       "      <td>0.124873</td>\n",
       "      <td>0.014678</td>\n",
       "      <td>0.071411</td>\n",
       "      <td>0.004758</td>\n",
       "      <td>-0.001130</td>\n",
       "      <td>-0.000456</td>\n",
       "      <td>-0.022455</td>\n",
       "      <td>0.114884</td>\n",
       "      <td>0.783582</td>\n",
       "      <td>0.124873</td>\n",
       "      <td>1.000000</td>\n",
       "      <td>0.323994</td>\n",
       "      <td>0.020302</td>\n",
       "      <td>-0.052441</td>\n",
       "      <td>0.134033</td>\n",
       "      <td>0.134033</td>\n",
       "    </tr>\n",
       "    <tr>\n",
       "      <th>dlon</th>\n",
       "      <td>-0.009589</td>\n",
       "      <td>-0.003823</td>\n",
       "      <td>-0.333900</td>\n",
       "      <td>0.139935</td>\n",
       "      <td>0.323994</td>\n",
       "      <td>0.036893</td>\n",
       "      <td>-0.018147</td>\n",
       "      <td>-0.059681</td>\n",
       "      <td>0.000405</td>\n",
       "      <td>0.023191</td>\n",
       "      <td>0.000640</td>\n",
       "      <td>-0.049525</td>\n",
       "      <td>0.139935</td>\n",
       "      <td>-0.333900</td>\n",
       "      <td>0.036893</td>\n",
       "      <td>0.323994</td>\n",
       "      <td>1.000000</td>\n",
       "      <td>-0.094474</td>\n",
       "      <td>-0.135521</td>\n",
       "      <td>-0.192223</td>\n",
       "      <td>-0.192223</td>\n",
       "    </tr>\n",
       "    <tr>\n",
       "      <th>dlat</th>\n",
       "      <td>0.003001</td>\n",
       "      <td>0.002000</td>\n",
       "      <td>0.082270</td>\n",
       "      <td>-0.436748</td>\n",
       "      <td>0.020302</td>\n",
       "      <td>0.566364</td>\n",
       "      <td>0.006290</td>\n",
       "      <td>0.009103</td>\n",
       "      <td>0.000736</td>\n",
       "      <td>0.004950</td>\n",
       "      <td>0.000402</td>\n",
       "      <td>0.004033</td>\n",
       "      <td>-0.436748</td>\n",
       "      <td>0.082270</td>\n",
       "      <td>0.566364</td>\n",
       "      <td>0.020302</td>\n",
       "      <td>-0.094474</td>\n",
       "      <td>1.000000</td>\n",
       "      <td>-0.162676</td>\n",
       "      <td>0.052342</td>\n",
       "      <td>0.052342</td>\n",
       "    </tr>\n",
       "    <tr>\n",
       "      <th>a</th>\n",
       "      <td>-0.000746</td>\n",
       "      <td>0.001047</td>\n",
       "      <td>0.036748</td>\n",
       "      <td>0.148908</td>\n",
       "      <td>-0.052441</td>\n",
       "      <td>-0.020803</td>\n",
       "      <td>0.004674</td>\n",
       "      <td>0.023693</td>\n",
       "      <td>0.000646</td>\n",
       "      <td>0.000024</td>\n",
       "      <td>-0.000814</td>\n",
       "      <td>0.000824</td>\n",
       "      <td>0.148908</td>\n",
       "      <td>0.036748</td>\n",
       "      <td>-0.020803</td>\n",
       "      <td>-0.052441</td>\n",
       "      <td>-0.135521</td>\n",
       "      <td>-0.162676</td>\n",
       "      <td>1.000000</td>\n",
       "      <td>0.408493</td>\n",
       "      <td>0.408493</td>\n",
       "    </tr>\n",
       "    <tr>\n",
       "      <th>c</th>\n",
       "      <td>0.008109</td>\n",
       "      <td>0.010306</td>\n",
       "      <td>0.259780</td>\n",
       "      <td>-0.210354</td>\n",
       "      <td>0.134033</td>\n",
       "      <td>-0.142128</td>\n",
       "      <td>0.094777</td>\n",
       "      <td>0.572128</td>\n",
       "      <td>0.015667</td>\n",
       "      <td>0.007599</td>\n",
       "      <td>0.005982</td>\n",
       "      <td>-0.015813</td>\n",
       "      <td>-0.210354</td>\n",
       "      <td>0.259780</td>\n",
       "      <td>-0.142128</td>\n",
       "      <td>0.134033</td>\n",
       "      <td>-0.192223</td>\n",
       "      <td>0.052342</td>\n",
       "      <td>0.408493</td>\n",
       "      <td>1.000000</td>\n",
       "      <td>1.000000</td>\n",
       "    </tr>\n",
       "    <tr>\n",
       "      <th>Distance_km</th>\n",
       "      <td>0.008109</td>\n",
       "      <td>0.010306</td>\n",
       "      <td>0.259780</td>\n",
       "      <td>-0.210354</td>\n",
       "      <td>0.134033</td>\n",
       "      <td>-0.142128</td>\n",
       "      <td>0.094777</td>\n",
       "      <td>0.572128</td>\n",
       "      <td>0.015667</td>\n",
       "      <td>0.007599</td>\n",
       "      <td>0.005982</td>\n",
       "      <td>-0.015813</td>\n",
       "      <td>-0.210354</td>\n",
       "      <td>0.259780</td>\n",
       "      <td>-0.142128</td>\n",
       "      <td>0.134033</td>\n",
       "      <td>-0.192223</td>\n",
       "      <td>0.052342</td>\n",
       "      <td>0.408493</td>\n",
       "      <td>1.000000</td>\n",
       "      <td>1.000000</td>\n",
       "    </tr>\n",
       "  </tbody>\n",
       "</table>\n",
       "</div>\n",
       "      <button class=\"colab-df-convert\" onclick=\"convertToInteractive('df-4104c488-223d-49cb-8545-ec2dff40c5c1')\"\n",
       "              title=\"Convert this dataframe to an interactive table.\"\n",
       "              style=\"display:none;\">\n",
       "        \n",
       "  <svg xmlns=\"http://www.w3.org/2000/svg\" height=\"24px\"viewBox=\"0 0 24 24\"\n",
       "       width=\"24px\">\n",
       "    <path d=\"M0 0h24v24H0V0z\" fill=\"none\"/>\n",
       "    <path d=\"M18.56 5.44l.94 2.06.94-2.06 2.06-.94-2.06-.94-.94-2.06-.94 2.06-2.06.94zm-11 1L8.5 8.5l.94-2.06 2.06-.94-2.06-.94L8.5 2.5l-.94 2.06-2.06.94zm10 10l.94 2.06.94-2.06 2.06-.94-2.06-.94-.94-2.06-.94 2.06-2.06.94z\"/><path d=\"M17.41 7.96l-1.37-1.37c-.4-.4-.92-.59-1.43-.59-.52 0-1.04.2-1.43.59L10.3 9.45l-7.72 7.72c-.78.78-.78 2.05 0 2.83L4 21.41c.39.39.9.59 1.41.59.51 0 1.02-.2 1.41-.59l7.78-7.78 2.81-2.81c.8-.78.8-2.07 0-2.86zM5.41 20L4 18.59l7.72-7.72 1.47 1.35L5.41 20z\"/>\n",
       "  </svg>\n",
       "      </button>\n",
       "      \n",
       "  <style>\n",
       "    .colab-df-container {\n",
       "      display:flex;\n",
       "      flex-wrap:wrap;\n",
       "      gap: 12px;\n",
       "    }\n",
       "\n",
       "    .colab-df-convert {\n",
       "      background-color: #E8F0FE;\n",
       "      border: none;\n",
       "      border-radius: 50%;\n",
       "      cursor: pointer;\n",
       "      display: none;\n",
       "      fill: #1967D2;\n",
       "      height: 32px;\n",
       "      padding: 0 0 0 0;\n",
       "      width: 32px;\n",
       "    }\n",
       "\n",
       "    .colab-df-convert:hover {\n",
       "      background-color: #E2EBFA;\n",
       "      box-shadow: 0px 1px 2px rgba(60, 64, 67, 0.3), 0px 1px 3px 1px rgba(60, 64, 67, 0.15);\n",
       "      fill: #174EA6;\n",
       "    }\n",
       "\n",
       "    [theme=dark] .colab-df-convert {\n",
       "      background-color: #3B4455;\n",
       "      fill: #D2E3FC;\n",
       "    }\n",
       "\n",
       "    [theme=dark] .colab-df-convert:hover {\n",
       "      background-color: #434B5C;\n",
       "      box-shadow: 0px 1px 3px 1px rgba(0, 0, 0, 0.15);\n",
       "      filter: drop-shadow(0px 1px 2px rgba(0, 0, 0, 0.3));\n",
       "      fill: #FFFFFF;\n",
       "    }\n",
       "  </style>\n",
       "\n",
       "      <script>\n",
       "        const buttonEl =\n",
       "          document.querySelector('#df-4104c488-223d-49cb-8545-ec2dff40c5c1 button.colab-df-convert');\n",
       "        buttonEl.style.display =\n",
       "          google.colab.kernel.accessAllowed ? 'block' : 'none';\n",
       "\n",
       "        async function convertToInteractive(key) {\n",
       "          const element = document.querySelector('#df-4104c488-223d-49cb-8545-ec2dff40c5c1');\n",
       "          const dataTable =\n",
       "            await google.colab.kernel.invokeFunction('convertToInteractive',\n",
       "                                                     [key], {});\n",
       "          if (!dataTable) return;\n",
       "\n",
       "          const docLinkHtml = 'Like what you see? Visit the ' +\n",
       "            '<a target=\"_blank\" href=https://colab.research.google.com/notebooks/data_table.ipynb>data table notebook</a>'\n",
       "            + ' to learn more about interactive tables.';\n",
       "          element.innerHTML = '';\n",
       "          dataTable['output_type'] = 'display_data';\n",
       "          await google.colab.output.renderOutput(dataTable, element);\n",
       "          const docLink = document.createElement('div');\n",
       "          docLink.innerHTML = docLinkHtml;\n",
       "          element.appendChild(docLink);\n",
       "        }\n",
       "      </script>\n",
       "    </div>\n",
       "  </div>\n",
       "  "
      ],
      "text/plain": [
       "                           vendor_id  passenger_count  pickup_longitude  \\\n",
       "vendor_id                   1.000000         0.287415          0.007820   \n",
       "passenger_count             0.287415         1.000000          0.002169   \n",
       "pickup_longitude            0.007820         0.002169          1.000000   \n",
       "pickup_latitude             0.001742        -0.005125          0.022568   \n",
       "dropoff_longitude           0.001528        -0.000343          0.783582   \n",
       "dropoff_latitude            0.004496        -0.002762          0.100190   \n",
       "trip_duration               0.020304         0.008471          0.026542   \n",
       "log_time_duration           0.019833         0.021124          0.110344   \n",
       "pickup_month               -0.006221        -0.002143          0.004474   \n",
       "pickup_weekday              0.001311         0.025191         -0.016356   \n",
       "pickup_day                  0.000734         0.002014         -0.000874   \n",
       "pickup_time_hour            0.009299         0.009101          0.010150   \n",
       "pickup_latitude_radians     0.001742        -0.005125          0.022568   \n",
       "pickup_longitude_radians    0.007820         0.002169          1.000000   \n",
       "dropoff_latitude_radians    0.004496        -0.002762          0.100190   \n",
       "dropoff_longitude_radians   0.001528        -0.000343          0.783582   \n",
       "dlon                       -0.009589        -0.003823         -0.333900   \n",
       "dlat                        0.003001         0.002000          0.082270   \n",
       "a                          -0.000746         0.001047          0.036748   \n",
       "c                           0.008109         0.010306          0.259780   \n",
       "Distance_km                 0.008109         0.010306          0.259780   \n",
       "\n",
       "                           pickup_latitude  dropoff_longitude  \\\n",
       "vendor_id                         0.001742           0.001528   \n",
       "passenger_count                  -0.005125          -0.000343   \n",
       "pickup_longitude                  0.022568           0.783582   \n",
       "pickup_latitude                   1.000000           0.114884   \n",
       "dropoff_longitude                 0.114884           1.000000   \n",
       "dropoff_latitude                  0.494038           0.124873   \n",
       "trip_duration                    -0.029204           0.014678   \n",
       "log_time_duration                -0.144149           0.071411   \n",
       "pickup_month                     -0.001439           0.004758   \n",
       "pickup_weekday                   -0.028976          -0.001130   \n",
       "pickup_day                       -0.006495          -0.000456   \n",
       "pickup_time_hour                  0.010603          -0.022455   \n",
       "pickup_latitude_radians           1.000000           0.114884   \n",
       "pickup_longitude_radians          0.022568           0.783582   \n",
       "dropoff_latitude_radians          0.494038           0.124873   \n",
       "dropoff_longitude_radians         0.114884           1.000000   \n",
       "dlon                              0.139935           0.323994   \n",
       "dlat                             -0.436748           0.020302   \n",
       "a                                 0.148908          -0.052441   \n",
       "c                                -0.210354           0.134033   \n",
       "Distance_km                      -0.210354           0.134033   \n",
       "\n",
       "                           dropoff_latitude  trip_duration  log_time_duration  \\\n",
       "vendor_id                          0.004496       0.020304           0.019833   \n",
       "passenger_count                   -0.002762       0.008471           0.021124   \n",
       "pickup_longitude                   0.100190       0.026542           0.110344   \n",
       "pickup_latitude                    0.494038      -0.029204          -0.144149   \n",
       "dropoff_longitude                  0.124873       0.014678           0.071411   \n",
       "dropoff_latitude                   1.000000      -0.020677          -0.123265   \n",
       "trip_duration                     -0.020677       1.000000           0.252624   \n",
       "log_time_duration                 -0.123265       0.252624           1.000000   \n",
       "pickup_month                      -0.000607       0.006607           0.046488   \n",
       "pickup_weekday                    -0.021762      -0.000708          -0.027817   \n",
       "pickup_day                        -0.005561       0.000566           0.010385   \n",
       "pickup_time_hour                   0.013612       0.003690           0.039107   \n",
       "pickup_latitude_radians            0.494038      -0.029204          -0.144149   \n",
       "pickup_longitude_radians           0.100190       0.026542           0.110344   \n",
       "dropoff_latitude_radians           1.000000      -0.020677          -0.123265   \n",
       "dropoff_longitude_radians          0.124873       0.014678           0.071411   \n",
       "dlon                               0.036893      -0.018147          -0.059681   \n",
       "dlat                               0.566364       0.006290           0.009103   \n",
       "a                                 -0.020803       0.004674           0.023693   \n",
       "c                                 -0.142128       0.094777           0.572128   \n",
       "Distance_km                       -0.142128       0.094777           0.572128   \n",
       "\n",
       "                           pickup_month  pickup_weekday  pickup_day  \\\n",
       "vendor_id                     -0.006221        0.001311    0.000734   \n",
       "passenger_count               -0.002143        0.025191    0.002014   \n",
       "pickup_longitude               0.004474       -0.016356   -0.000874   \n",
       "pickup_latitude               -0.001439       -0.028976   -0.006495   \n",
       "dropoff_longitude              0.004758       -0.001130   -0.000456   \n",
       "dropoff_latitude              -0.000607       -0.021762   -0.005561   \n",
       "trip_duration                  0.006607       -0.000708    0.000566   \n",
       "log_time_duration              0.046488       -0.027817    0.010385   \n",
       "pickup_month                   1.000000       -0.014544   -0.015135   \n",
       "pickup_weekday                -0.014544        1.000000    0.004365   \n",
       "pickup_day                    -0.015135        0.004365    1.000000   \n",
       "pickup_time_hour              -0.003438       -0.084255    0.000414   \n",
       "pickup_latitude_radians       -0.001439       -0.028976   -0.006495   \n",
       "pickup_longitude_radians       0.004474       -0.016356   -0.000874   \n",
       "dropoff_latitude_radians      -0.000607       -0.021762   -0.005561   \n",
       "dropoff_longitude_radians      0.004758       -0.001130   -0.000456   \n",
       "dlon                           0.000405        0.023191    0.000640   \n",
       "dlat                           0.000736        0.004950    0.000402   \n",
       "a                              0.000646        0.000024   -0.000814   \n",
       "c                              0.015667        0.007599    0.005982   \n",
       "Distance_km                    0.015667        0.007599    0.005982   \n",
       "\n",
       "                           pickup_time_hour  pickup_latitude_radians  \\\n",
       "vendor_id                          0.009299                 0.001742   \n",
       "passenger_count                    0.009101                -0.005125   \n",
       "pickup_longitude                   0.010150                 0.022568   \n",
       "pickup_latitude                    0.010603                 1.000000   \n",
       "dropoff_longitude                 -0.022455                 0.114884   \n",
       "dropoff_latitude                   0.013612                 0.494038   \n",
       "trip_duration                      0.003690                -0.029204   \n",
       "log_time_duration                  0.039107                -0.144149   \n",
       "pickup_month                      -0.003438                -0.001439   \n",
       "pickup_weekday                    -0.084255                -0.028976   \n",
       "pickup_day                         0.000414                -0.006495   \n",
       "pickup_time_hour                   1.000000                 0.010603   \n",
       "pickup_latitude_radians            0.010603                 1.000000   \n",
       "pickup_longitude_radians           0.010150                 0.022568   \n",
       "dropoff_latitude_radians           0.013612                 0.494038   \n",
       "dropoff_longitude_radians         -0.022455                 0.114884   \n",
       "dlon                              -0.049525                 0.139935   \n",
       "dlat                               0.004033                -0.436748   \n",
       "a                                  0.000824                 0.148908   \n",
       "c                                 -0.015813                -0.210354   \n",
       "Distance_km                       -0.015813                -0.210354   \n",
       "\n",
       "                           pickup_longitude_radians  dropoff_latitude_radians  \\\n",
       "vendor_id                                  0.007820                  0.004496   \n",
       "passenger_count                            0.002169                 -0.002762   \n",
       "pickup_longitude                           1.000000                  0.100190   \n",
       "pickup_latitude                            0.022568                  0.494038   \n",
       "dropoff_longitude                          0.783582                  0.124873   \n",
       "dropoff_latitude                           0.100190                  1.000000   \n",
       "trip_duration                              0.026542                 -0.020677   \n",
       "log_time_duration                          0.110344                 -0.123265   \n",
       "pickup_month                               0.004474                 -0.000607   \n",
       "pickup_weekday                            -0.016356                 -0.021762   \n",
       "pickup_day                                -0.000874                 -0.005561   \n",
       "pickup_time_hour                           0.010150                  0.013612   \n",
       "pickup_latitude_radians                    0.022568                  0.494038   \n",
       "pickup_longitude_radians                   1.000000                  0.100190   \n",
       "dropoff_latitude_radians                   0.100190                  1.000000   \n",
       "dropoff_longitude_radians                  0.783582                  0.124873   \n",
       "dlon                                      -0.333900                  0.036893   \n",
       "dlat                                       0.082270                  0.566364   \n",
       "a                                          0.036748                 -0.020803   \n",
       "c                                          0.259780                 -0.142128   \n",
       "Distance_km                                0.259780                 -0.142128   \n",
       "\n",
       "                           dropoff_longitude_radians      dlon      dlat  \\\n",
       "vendor_id                                   0.001528 -0.009589  0.003001   \n",
       "passenger_count                            -0.000343 -0.003823  0.002000   \n",
       "pickup_longitude                            0.783582 -0.333900  0.082270   \n",
       "pickup_latitude                             0.114884  0.139935 -0.436748   \n",
       "dropoff_longitude                           1.000000  0.323994  0.020302   \n",
       "dropoff_latitude                            0.124873  0.036893  0.566364   \n",
       "trip_duration                               0.014678 -0.018147  0.006290   \n",
       "log_time_duration                           0.071411 -0.059681  0.009103   \n",
       "pickup_month                                0.004758  0.000405  0.000736   \n",
       "pickup_weekday                             -0.001130  0.023191  0.004950   \n",
       "pickup_day                                 -0.000456  0.000640  0.000402   \n",
       "pickup_time_hour                           -0.022455 -0.049525  0.004033   \n",
       "pickup_latitude_radians                     0.114884  0.139935 -0.436748   \n",
       "pickup_longitude_radians                    0.783582 -0.333900  0.082270   \n",
       "dropoff_latitude_radians                    0.124873  0.036893  0.566364   \n",
       "dropoff_longitude_radians                   1.000000  0.323994  0.020302   \n",
       "dlon                                        0.323994  1.000000 -0.094474   \n",
       "dlat                                        0.020302 -0.094474  1.000000   \n",
       "a                                          -0.052441 -0.135521 -0.162676   \n",
       "c                                           0.134033 -0.192223  0.052342   \n",
       "Distance_km                                 0.134033 -0.192223  0.052342   \n",
       "\n",
       "                                  a         c  Distance_km  \n",
       "vendor_id                 -0.000746  0.008109     0.008109  \n",
       "passenger_count            0.001047  0.010306     0.010306  \n",
       "pickup_longitude           0.036748  0.259780     0.259780  \n",
       "pickup_latitude            0.148908 -0.210354    -0.210354  \n",
       "dropoff_longitude         -0.052441  0.134033     0.134033  \n",
       "dropoff_latitude          -0.020803 -0.142128    -0.142128  \n",
       "trip_duration              0.004674  0.094777     0.094777  \n",
       "log_time_duration          0.023693  0.572128     0.572128  \n",
       "pickup_month               0.000646  0.015667     0.015667  \n",
       "pickup_weekday             0.000024  0.007599     0.007599  \n",
       "pickup_day                -0.000814  0.005982     0.005982  \n",
       "pickup_time_hour           0.000824 -0.015813    -0.015813  \n",
       "pickup_latitude_radians    0.148908 -0.210354    -0.210354  \n",
       "pickup_longitude_radians   0.036748  0.259780     0.259780  \n",
       "dropoff_latitude_radians  -0.020803 -0.142128    -0.142128  \n",
       "dropoff_longitude_radians -0.052441  0.134033     0.134033  \n",
       "dlon                      -0.135521 -0.192223    -0.192223  \n",
       "dlat                      -0.162676  0.052342     0.052342  \n",
       "a                          1.000000  0.408493     0.408493  \n",
       "c                          0.408493  1.000000     1.000000  \n",
       "Distance_km                0.408493  1.000000     1.000000  "
      ]
     },
     "execution_count": 57,
     "metadata": {},
     "output_type": "execute_result"
    }
   ],
   "source": [
    "train_df.corr()"
   ]
  },
  {
   "cell_type": "markdown",
   "metadata": {
    "id": "VqKNBswbFAWy"
   },
   "source": [
    "The distance column we created has the highest correlation coefficient with the target column 'log_time_duration' i.e. 0.572. "
   ]
  },
  {
   "cell_type": "markdown",
   "metadata": {
    "id": "tD52Zl6CVhWy"
   },
   "source": [
    "Relatively, The other columns don't seem to have a strong corelation coefficients as they are all close to 0"
   ]
  },
  {
   "cell_type": "markdown",
   "metadata": {
    "id": "8DlbBnvVV-L5"
   },
   "source": [
    "## Preparing Dataset for Training"
   ]
  },
  {
   "cell_type": "code",
   "execution_count": null,
   "metadata": {
    "colab": {
     "base_uri": "https://localhost:8080/"
    },
    "executionInfo": {
     "elapsed": 358,
     "status": "ok",
     "timestamp": 1655813902851,
     "user": {
      "displayName": "Noorullah Rizwan",
      "userId": "14596611615912427721"
     },
     "user_tz": 420
    },
    "id": "_1mgeEeHrDKB",
    "outputId": "74ac5201-e03a-440d-d665-d5293d97d1e6"
   },
   "outputs": [
    {
     "data": {
      "text/plain": [
       "Index(['id', 'vendor_id', 'pickup_datetime', 'dropoff_datetime',\n",
       "       'passenger_count', 'pickup_longitude', 'pickup_latitude',\n",
       "       'dropoff_longitude', 'dropoff_latitude', 'store_and_fwd_flag',\n",
       "       'trip_duration', 'log_time_duration', 'pickup_month', 'pickup_weekday',\n",
       "       'pickup_day', 'pickup_time_hour', 'pickup_latitude_radians',\n",
       "       'pickup_longitude_radians', 'dropoff_latitude_radians',\n",
       "       'dropoff_longitude_radians', 'dlon', 'dlat', 'a', 'c', 'Distance_km'],\n",
       "      dtype='object')"
      ]
     },
     "execution_count": 58,
     "metadata": {},
     "output_type": "execute_result"
    }
   ],
   "source": [
    "train_df.columns"
   ]
  },
  {
   "cell_type": "markdown",
   "metadata": {
    "id": "EAzSQdS_WK_I"
   },
   "source": [
    "### Identifying Input and Target columns"
   ]
  },
  {
   "cell_type": "code",
   "execution_count": null,
   "metadata": {
    "id": "5Ibw-wxf3_Y8"
   },
   "outputs": [],
   "source": [
    "input_cols=['vendor_id','passenger_count','pickup_longitude', 'pickup_latitude','dropoff_longitude', 'dropoff_latitude','pickup_month', 'pickup_weekday',\n",
    "            'pickup_day', 'pickup_time_hour', 'Distance_km', 'store_and_fwd_flag']\n",
    "target_col=['log_time_duration']"
   ]
  },
  {
   "cell_type": "code",
   "execution_count": null,
   "metadata": {
    "id": "U__oSyJtDz1k"
   },
   "outputs": [],
   "source": [
    "inputs_df=train_df[input_cols].copy()\n",
    "targets=train_df[target_col].copy()\n"
   ]
  },
  {
   "cell_type": "code",
   "execution_count": null,
   "metadata": {
    "id": "aMmp76OV4hSP"
   },
   "outputs": [],
   "source": [
    "numeric_cols=inputs_df[input_cols].select_dtypes(include=np.number).columns.tolist()\n",
    "categorical_cols=['store_and_fwd_flag']"
   ]
  },
  {
   "cell_type": "code",
   "execution_count": null,
   "metadata": {
    "colab": {
     "base_uri": "https://localhost:8080/"
    },
    "executionInfo": {
     "elapsed": 16,
     "status": "ok",
     "timestamp": 1655813917280,
     "user": {
      "displayName": "Noorullah Rizwan",
      "userId": "14596611615912427721"
     },
     "user_tz": 420
    },
    "id": "koeUitgh93Y-",
    "outputId": "bd492e04-32d2-4c58-92be-f9401191219b"
   },
   "outputs": [
    {
     "data": {
      "text/plain": [
       "['vendor_id',\n",
       " 'passenger_count',\n",
       " 'pickup_longitude',\n",
       " 'pickup_latitude',\n",
       " 'dropoff_longitude',\n",
       " 'dropoff_latitude',\n",
       " 'pickup_month',\n",
       " 'pickup_weekday',\n",
       " 'pickup_day',\n",
       " 'pickup_time_hour',\n",
       " 'Distance_km']"
      ]
     },
     "execution_count": 63,
     "metadata": {},
     "output_type": "execute_result"
    }
   ],
   "source": [
    "numeric_cols"
   ]
  },
  {
   "cell_type": "code",
   "execution_count": null,
   "metadata": {
    "colab": {
     "base_uri": "https://localhost:8080/"
    },
    "executionInfo": {
     "elapsed": 10,
     "status": "ok",
     "timestamp": 1655813920804,
     "user": {
      "displayName": "Noorullah Rizwan",
      "userId": "14596611615912427721"
     },
     "user_tz": 420
    },
    "id": "Y5iJ5B5t9_xd",
    "outputId": "01133121-0529-44fa-a50e-30d144cd02a0"
   },
   "outputs": [
    {
     "data": {
      "text/plain": [
       "['store_and_fwd_flag']"
      ]
     },
     "execution_count": 64,
     "metadata": {},
     "output_type": "execute_result"
    }
   ],
   "source": [
    "categorical_cols"
   ]
  },
  {
   "cell_type": "markdown",
   "metadata": {
    "id": "ADNVENWBM2AZ"
   },
   "source": [
    "### Imputing missing Values"
   ]
  },
  {
   "cell_type": "code",
   "execution_count": null,
   "metadata": {
    "colab": {
     "base_uri": "https://localhost:8080/"
    },
    "executionInfo": {
     "elapsed": 6,
     "status": "ok",
     "timestamp": 1655813921209,
     "user": {
      "displayName": "Noorullah Rizwan",
      "userId": "14596611615912427721"
     },
     "user_tz": 420
    },
    "id": "DJkCvpqsM9If",
    "outputId": "0bc4c77c-8bb9-4338-c629-fd0531d886fc"
   },
   "outputs": [
    {
     "data": {
      "text/plain": [
       "vendor_id             0\n",
       "passenger_count       0\n",
       "pickup_longitude      0\n",
       "pickup_latitude       0\n",
       "dropoff_longitude     0\n",
       "dropoff_latitude      0\n",
       "pickup_month          0\n",
       "pickup_weekday        0\n",
       "pickup_day            0\n",
       "pickup_time_hour      0\n",
       "Distance_km           0\n",
       "store_and_fwd_flag    0\n",
       "dtype: int64"
      ]
     },
     "execution_count": 65,
     "metadata": {},
     "output_type": "execute_result"
    }
   ],
   "source": [
    "inputs_df.isna().sum()"
   ]
  },
  {
   "cell_type": "markdown",
   "metadata": {
    "id": "lfFMTHzJNJOC"
   },
   "source": [
    "There are no null values in the dataframe, hence no need to create an imputer for missing values"
   ]
  },
  {
   "cell_type": "markdown",
   "metadata": {
    "id": "u-6Wuq20MvUP"
   },
   "source": [
    "### Encoding Categorical Columns"
   ]
  },
  {
   "cell_type": "code",
   "execution_count": null,
   "metadata": {
    "colab": {
     "base_uri": "https://localhost:8080/"
    },
    "executionInfo": {
     "elapsed": 8,
     "status": "ok",
     "timestamp": 1655813924106,
     "user": {
      "displayName": "Noorullah Rizwan",
      "userId": "14596611615912427721"
     },
     "user_tz": 420
    },
    "id": "ZHTiKcdt8r3C",
    "outputId": "c2356514-3d54-4a3b-dd4d-33eabecfcac1"
   },
   "outputs": [
    {
     "data": {
      "text/plain": [
       "N    1450599\n",
       "Y       8045\n",
       "Name: store_and_fwd_flag, dtype: int64"
      ]
     },
     "execution_count": 66,
     "metadata": {},
     "output_type": "execute_result"
    }
   ],
   "source": [
    "inputs_df.store_and_fwd_flag.value_counts()"
   ]
  },
  {
   "cell_type": "code",
   "execution_count": null,
   "metadata": {
    "id": "3afPwsVr8xz9"
   },
   "outputs": [],
   "source": [
    "flag_codes={'N':0, 'Y':1}\n",
    "inputs_df['flag_code']=inputs_df.store_and_fwd_flag.map(flag_codes)\n",
    "encoded_cols=['flag_code']"
   ]
  },
  {
   "cell_type": "markdown",
   "metadata": {
    "id": "a6fOktdoWbGC"
   },
   "source": [
    "### Scaling Numeric Columns in the range (0,1)"
   ]
  },
  {
   "cell_type": "code",
   "execution_count": null,
   "metadata": {
    "id": "qVRAAQKO-tkp"
   },
   "outputs": [],
   "source": [
    "from sklearn.preprocessing import MinMaxScaler"
   ]
  },
  {
   "cell_type": "code",
   "execution_count": null,
   "metadata": {
    "colab": {
     "base_uri": "https://localhost:8080/"
    },
    "executionInfo": {
     "elapsed": 9,
     "status": "ok",
     "timestamp": 1655813930253,
     "user": {
      "displayName": "Noorullah Rizwan",
      "userId": "14596611615912427721"
     },
     "user_tz": 420
    },
    "id": "eOh0j1XW-_nn",
    "outputId": "de9e7f29-96d1-475a-e78b-e319a0f34369"
   },
   "outputs": [
    {
     "data": {
      "text/plain": [
       "MinMaxScaler()"
      ]
     },
     "execution_count": 69,
     "metadata": {},
     "output_type": "execute_result"
    }
   ],
   "source": [
    "scaler=MinMaxScaler()\n",
    "scaler.fit(inputs_df[numeric_cols])"
   ]
  },
  {
   "cell_type": "code",
   "execution_count": null,
   "metadata": {
    "id": "btpa_ogc_Kv4"
   },
   "outputs": [],
   "source": [
    "inputs_df[numeric_cols] = scaler.transform(inputs_df[numeric_cols])"
   ]
  },
  {
   "cell_type": "code",
   "execution_count": null,
   "metadata": {
    "colab": {
     "base_uri": "https://localhost:8080/",
     "height": 488
    },
    "executionInfo": {
     "elapsed": 14,
     "status": "ok",
     "timestamp": 1655813932314,
     "user": {
      "displayName": "Noorullah Rizwan",
      "userId": "14596611615912427721"
     },
     "user_tz": 420
    },
    "id": "8rxc8RDX_g5o",
    "outputId": "5573f0ba-12c9-48d0-9178-ab3d2f47a622"
   },
   "outputs": [
    {
     "data": {
      "text/html": [
       "\n",
       "  <div id=\"df-9bfe1c62-d93b-471d-a676-e1ff6fdff2d6\">\n",
       "    <div class=\"colab-df-container\">\n",
       "      <div>\n",
       "<style scoped>\n",
       "    .dataframe tbody tr th:only-of-type {\n",
       "        vertical-align: middle;\n",
       "    }\n",
       "\n",
       "    .dataframe tbody tr th {\n",
       "        vertical-align: top;\n",
       "    }\n",
       "\n",
       "    .dataframe thead th {\n",
       "        text-align: right;\n",
       "    }\n",
       "</style>\n",
       "<table border=\"1\" class=\"dataframe\">\n",
       "  <thead>\n",
       "    <tr style=\"text-align: right;\">\n",
       "      <th></th>\n",
       "      <th>vendor_id</th>\n",
       "      <th>passenger_count</th>\n",
       "      <th>pickup_longitude</th>\n",
       "      <th>pickup_latitude</th>\n",
       "      <th>dropoff_longitude</th>\n",
       "      <th>dropoff_latitude</th>\n",
       "      <th>pickup_month</th>\n",
       "      <th>pickup_weekday</th>\n",
       "      <th>pickup_day</th>\n",
       "      <th>pickup_time_hour</th>\n",
       "      <th>Distance_km</th>\n",
       "    </tr>\n",
       "  </thead>\n",
       "  <tbody>\n",
       "    <tr>\n",
       "      <th>0</th>\n",
       "      <td>1.0</td>\n",
       "      <td>0.111111</td>\n",
       "      <td>0.791302</td>\n",
       "      <td>0.365738</td>\n",
       "      <td>0.791591</td>\n",
       "      <td>0.731222</td>\n",
       "      <td>0.4</td>\n",
       "      <td>0.000000</td>\n",
       "      <td>0.433333</td>\n",
       "      <td>0.739130</td>\n",
       "      <td>0.001208</td>\n",
       "    </tr>\n",
       "    <tr>\n",
       "      <th>1</th>\n",
       "      <td>0.0</td>\n",
       "      <td>0.111111</td>\n",
       "      <td>0.791331</td>\n",
       "      <td>0.364062</td>\n",
       "      <td>0.791016</td>\n",
       "      <td>0.728287</td>\n",
       "      <td>1.0</td>\n",
       "      <td>1.000000</td>\n",
       "      <td>0.366667</td>\n",
       "      <td>0.000000</td>\n",
       "      <td>0.001455</td>\n",
       "    </tr>\n",
       "    <tr>\n",
       "      <th>2</th>\n",
       "      <td>1.0</td>\n",
       "      <td>0.111111</td>\n",
       "      <td>0.791354</td>\n",
       "      <td>0.365510</td>\n",
       "      <td>0.790920</td>\n",
       "      <td>0.726493</td>\n",
       "      <td>0.0</td>\n",
       "      <td>0.166667</td>\n",
       "      <td>0.600000</td>\n",
       "      <td>0.478261</td>\n",
       "      <td>0.005146</td>\n",
       "    </tr>\n",
       "    <tr>\n",
       "      <th>3</th>\n",
       "      <td>1.0</td>\n",
       "      <td>0.111111</td>\n",
       "      <td>0.790842</td>\n",
       "      <td>0.363001</td>\n",
       "      <td>0.790805</td>\n",
       "      <td>0.726206</td>\n",
       "      <td>0.6</td>\n",
       "      <td>0.333333</td>\n",
       "      <td>0.166667</td>\n",
       "      <td>0.826087</td>\n",
       "      <td>0.001197</td>\n",
       "    </tr>\n",
       "    <tr>\n",
       "      <th>4</th>\n",
       "      <td>1.0</td>\n",
       "      <td>0.111111</td>\n",
       "      <td>0.791452</td>\n",
       "      <td>0.367181</td>\n",
       "      <td>0.791454</td>\n",
       "      <td>0.732663</td>\n",
       "      <td>0.4</td>\n",
       "      <td>0.833333</td>\n",
       "      <td>0.833333</td>\n",
       "      <td>0.565217</td>\n",
       "      <td>0.000958</td>\n",
       "    </tr>\n",
       "    <tr>\n",
       "      <th>...</th>\n",
       "      <td>...</td>\n",
       "      <td>...</td>\n",
       "      <td>...</td>\n",
       "      <td>...</td>\n",
       "      <td>...</td>\n",
       "      <td>...</td>\n",
       "      <td>...</td>\n",
       "      <td>...</td>\n",
       "      <td>...</td>\n",
       "      <td>...</td>\n",
       "      <td>...</td>\n",
       "    </tr>\n",
       "    <tr>\n",
       "      <th>1458639</th>\n",
       "      <td>1.0</td>\n",
       "      <td>0.444444</td>\n",
       "      <td>0.791302</td>\n",
       "      <td>0.364459</td>\n",
       "      <td>0.791092</td>\n",
       "      <td>0.729055</td>\n",
       "      <td>0.6</td>\n",
       "      <td>0.666667</td>\n",
       "      <td>0.233333</td>\n",
       "      <td>0.565217</td>\n",
       "      <td>0.000987</td>\n",
       "    </tr>\n",
       "    <tr>\n",
       "      <th>1458640</th>\n",
       "      <td>0.0</td>\n",
       "      <td>0.111111</td>\n",
       "      <td>0.790992</td>\n",
       "      <td>0.364565</td>\n",
       "      <td>0.791500</td>\n",
       "      <td>0.733858</td>\n",
       "      <td>0.0</td>\n",
       "      <td>1.000000</td>\n",
       "      <td>0.300000</td>\n",
       "      <td>0.304348</td>\n",
       "      <td>0.004875</td>\n",
       "    </tr>\n",
       "    <tr>\n",
       "      <th>1458641</th>\n",
       "      <td>1.0</td>\n",
       "      <td>0.111111</td>\n",
       "      <td>0.791682</td>\n",
       "      <td>0.365787</td>\n",
       "      <td>0.790935</td>\n",
       "      <td>0.726262</td>\n",
       "      <td>0.6</td>\n",
       "      <td>0.666667</td>\n",
       "      <td>0.700000</td>\n",
       "      <td>0.260870</td>\n",
       "      <td>0.006306</td>\n",
       "    </tr>\n",
       "    <tr>\n",
       "      <th>1458642</th>\n",
       "      <td>0.0</td>\n",
       "      <td>0.111111</td>\n",
       "      <td>0.791304</td>\n",
       "      <td>0.364661</td>\n",
       "      <td>0.791426</td>\n",
       "      <td>0.730498</td>\n",
       "      <td>0.0</td>\n",
       "      <td>0.166667</td>\n",
       "      <td>0.133333</td>\n",
       "      <td>0.652174</td>\n",
       "      <td>0.000880</td>\n",
       "    </tr>\n",
       "    <tr>\n",
       "      <th>1458643</th>\n",
       "      <td>0.0</td>\n",
       "      <td>0.111111</td>\n",
       "      <td>0.791345</td>\n",
       "      <td>0.366527</td>\n",
       "      <td>0.791456</td>\n",
       "      <td>0.733350</td>\n",
       "      <td>0.6</td>\n",
       "      <td>0.166667</td>\n",
       "      <td>0.133333</td>\n",
       "      <td>0.608696</td>\n",
       "      <td>0.000914</td>\n",
       "    </tr>\n",
       "  </tbody>\n",
       "</table>\n",
       "<p>1458644 rows × 11 columns</p>\n",
       "</div>\n",
       "      <button class=\"colab-df-convert\" onclick=\"convertToInteractive('df-9bfe1c62-d93b-471d-a676-e1ff6fdff2d6')\"\n",
       "              title=\"Convert this dataframe to an interactive table.\"\n",
       "              style=\"display:none;\">\n",
       "        \n",
       "  <svg xmlns=\"http://www.w3.org/2000/svg\" height=\"24px\"viewBox=\"0 0 24 24\"\n",
       "       width=\"24px\">\n",
       "    <path d=\"M0 0h24v24H0V0z\" fill=\"none\"/>\n",
       "    <path d=\"M18.56 5.44l.94 2.06.94-2.06 2.06-.94-2.06-.94-.94-2.06-.94 2.06-2.06.94zm-11 1L8.5 8.5l.94-2.06 2.06-.94-2.06-.94L8.5 2.5l-.94 2.06-2.06.94zm10 10l.94 2.06.94-2.06 2.06-.94-2.06-.94-.94-2.06-.94 2.06-2.06.94z\"/><path d=\"M17.41 7.96l-1.37-1.37c-.4-.4-.92-.59-1.43-.59-.52 0-1.04.2-1.43.59L10.3 9.45l-7.72 7.72c-.78.78-.78 2.05 0 2.83L4 21.41c.39.39.9.59 1.41.59.51 0 1.02-.2 1.41-.59l7.78-7.78 2.81-2.81c.8-.78.8-2.07 0-2.86zM5.41 20L4 18.59l7.72-7.72 1.47 1.35L5.41 20z\"/>\n",
       "  </svg>\n",
       "      </button>\n",
       "      \n",
       "  <style>\n",
       "    .colab-df-container {\n",
       "      display:flex;\n",
       "      flex-wrap:wrap;\n",
       "      gap: 12px;\n",
       "    }\n",
       "\n",
       "    .colab-df-convert {\n",
       "      background-color: #E8F0FE;\n",
       "      border: none;\n",
       "      border-radius: 50%;\n",
       "      cursor: pointer;\n",
       "      display: none;\n",
       "      fill: #1967D2;\n",
       "      height: 32px;\n",
       "      padding: 0 0 0 0;\n",
       "      width: 32px;\n",
       "    }\n",
       "\n",
       "    .colab-df-convert:hover {\n",
       "      background-color: #E2EBFA;\n",
       "      box-shadow: 0px 1px 2px rgba(60, 64, 67, 0.3), 0px 1px 3px 1px rgba(60, 64, 67, 0.15);\n",
       "      fill: #174EA6;\n",
       "    }\n",
       "\n",
       "    [theme=dark] .colab-df-convert {\n",
       "      background-color: #3B4455;\n",
       "      fill: #D2E3FC;\n",
       "    }\n",
       "\n",
       "    [theme=dark] .colab-df-convert:hover {\n",
       "      background-color: #434B5C;\n",
       "      box-shadow: 0px 1px 3px 1px rgba(0, 0, 0, 0.15);\n",
       "      filter: drop-shadow(0px 1px 2px rgba(0, 0, 0, 0.3));\n",
       "      fill: #FFFFFF;\n",
       "    }\n",
       "  </style>\n",
       "\n",
       "      <script>\n",
       "        const buttonEl =\n",
       "          document.querySelector('#df-9bfe1c62-d93b-471d-a676-e1ff6fdff2d6 button.colab-df-convert');\n",
       "        buttonEl.style.display =\n",
       "          google.colab.kernel.accessAllowed ? 'block' : 'none';\n",
       "\n",
       "        async function convertToInteractive(key) {\n",
       "          const element = document.querySelector('#df-9bfe1c62-d93b-471d-a676-e1ff6fdff2d6');\n",
       "          const dataTable =\n",
       "            await google.colab.kernel.invokeFunction('convertToInteractive',\n",
       "                                                     [key], {});\n",
       "          if (!dataTable) return;\n",
       "\n",
       "          const docLinkHtml = 'Like what you see? Visit the ' +\n",
       "            '<a target=\"_blank\" href=https://colab.research.google.com/notebooks/data_table.ipynb>data table notebook</a>'\n",
       "            + ' to learn more about interactive tables.';\n",
       "          element.innerHTML = '';\n",
       "          dataTable['output_type'] = 'display_data';\n",
       "          await google.colab.output.renderOutput(dataTable, element);\n",
       "          const docLink = document.createElement('div');\n",
       "          docLink.innerHTML = docLinkHtml;\n",
       "          element.appendChild(docLink);\n",
       "        }\n",
       "      </script>\n",
       "    </div>\n",
       "  </div>\n",
       "  "
      ],
      "text/plain": [
       "         vendor_id  passenger_count  pickup_longitude  pickup_latitude  \\\n",
       "0              1.0         0.111111          0.791302         0.365738   \n",
       "1              0.0         0.111111          0.791331         0.364062   \n",
       "2              1.0         0.111111          0.791354         0.365510   \n",
       "3              1.0         0.111111          0.790842         0.363001   \n",
       "4              1.0         0.111111          0.791452         0.367181   \n",
       "...            ...              ...               ...              ...   \n",
       "1458639        1.0         0.444444          0.791302         0.364459   \n",
       "1458640        0.0         0.111111          0.790992         0.364565   \n",
       "1458641        1.0         0.111111          0.791682         0.365787   \n",
       "1458642        0.0         0.111111          0.791304         0.364661   \n",
       "1458643        0.0         0.111111          0.791345         0.366527   \n",
       "\n",
       "         dropoff_longitude  dropoff_latitude  pickup_month  pickup_weekday  \\\n",
       "0                 0.791591          0.731222           0.4        0.000000   \n",
       "1                 0.791016          0.728287           1.0        1.000000   \n",
       "2                 0.790920          0.726493           0.0        0.166667   \n",
       "3                 0.790805          0.726206           0.6        0.333333   \n",
       "4                 0.791454          0.732663           0.4        0.833333   \n",
       "...                    ...               ...           ...             ...   \n",
       "1458639           0.791092          0.729055           0.6        0.666667   \n",
       "1458640           0.791500          0.733858           0.0        1.000000   \n",
       "1458641           0.790935          0.726262           0.6        0.666667   \n",
       "1458642           0.791426          0.730498           0.0        0.166667   \n",
       "1458643           0.791456          0.733350           0.6        0.166667   \n",
       "\n",
       "         pickup_day  pickup_time_hour  Distance_km  \n",
       "0          0.433333          0.739130     0.001208  \n",
       "1          0.366667          0.000000     0.001455  \n",
       "2          0.600000          0.478261     0.005146  \n",
       "3          0.166667          0.826087     0.001197  \n",
       "4          0.833333          0.565217     0.000958  \n",
       "...             ...               ...          ...  \n",
       "1458639    0.233333          0.565217     0.000987  \n",
       "1458640    0.300000          0.304348     0.004875  \n",
       "1458641    0.700000          0.260870     0.006306  \n",
       "1458642    0.133333          0.652174     0.000880  \n",
       "1458643    0.133333          0.608696     0.000914  \n",
       "\n",
       "[1458644 rows x 11 columns]"
      ]
     },
     "execution_count": 71,
     "metadata": {},
     "output_type": "execute_result"
    }
   ],
   "source": [
    "inputs_df[numeric_cols]"
   ]
  },
  {
   "cell_type": "code",
   "execution_count": null,
   "metadata": {
    "colab": {
     "base_uri": "https://localhost:8080/",
     "height": 364
    },
    "executionInfo": {
     "elapsed": 2461,
     "status": "ok",
     "timestamp": 1655813954628,
     "user": {
      "displayName": "Noorullah Rizwan",
      "userId": "14596611615912427721"
     },
     "user_tz": 420
    },
    "id": "ZY_dMiESM6Re",
    "outputId": "452e92e1-e90d-4227-97df-2b13cc169a70"
   },
   "outputs": [
    {
     "data": {
      "text/html": [
       "\n",
       "  <div id=\"df-b311af35-1b29-43e8-8973-1bef48c77000\">\n",
       "    <div class=\"colab-df-container\">\n",
       "      <div>\n",
       "<style scoped>\n",
       "    .dataframe tbody tr th:only-of-type {\n",
       "        vertical-align: middle;\n",
       "    }\n",
       "\n",
       "    .dataframe tbody tr th {\n",
       "        vertical-align: top;\n",
       "    }\n",
       "\n",
       "    .dataframe thead th {\n",
       "        text-align: right;\n",
       "    }\n",
       "</style>\n",
       "<table border=\"1\" class=\"dataframe\">\n",
       "  <thead>\n",
       "    <tr style=\"text-align: right;\">\n",
       "      <th></th>\n",
       "      <th>vendor_id</th>\n",
       "      <th>passenger_count</th>\n",
       "      <th>pickup_longitude</th>\n",
       "      <th>pickup_latitude</th>\n",
       "      <th>dropoff_longitude</th>\n",
       "      <th>dropoff_latitude</th>\n",
       "      <th>pickup_month</th>\n",
       "      <th>pickup_weekday</th>\n",
       "      <th>pickup_day</th>\n",
       "      <th>pickup_time_hour</th>\n",
       "      <th>Distance_km</th>\n",
       "    </tr>\n",
       "  </thead>\n",
       "  <tbody>\n",
       "    <tr>\n",
       "      <th>count</th>\n",
       "      <td>1.458644e+06</td>\n",
       "      <td>1.458644e+06</td>\n",
       "      <td>1.458644e+06</td>\n",
       "      <td>1.458644e+06</td>\n",
       "      <td>1.458644e+06</td>\n",
       "      <td>1.458644e+06</td>\n",
       "      <td>1.458644e+06</td>\n",
       "      <td>1.458644e+06</td>\n",
       "      <td>1.458644e+06</td>\n",
       "      <td>1.458644e+06</td>\n",
       "      <td>1.458644e+06</td>\n",
       "    </tr>\n",
       "    <tr>\n",
       "      <th>mean</th>\n",
       "      <td>5.349503e-01</td>\n",
       "      <td>1.849477e-01</td>\n",
       "      <td>7.914453e-01</td>\n",
       "      <td>3.647671e-01</td>\n",
       "      <td>7.914464e-01</td>\n",
       "      <td>7.300461e-01</td>\n",
       "      <td>5.033635e-01</td>\n",
       "      <td>5.083958e-01</td>\n",
       "      <td>4.834673e-01</td>\n",
       "      <td>5.915863e-01</td>\n",
       "      <td>2.772858e-03</td>\n",
       "    </tr>\n",
       "    <tr>\n",
       "      <th>std</th>\n",
       "      <td>4.987772e-01</td>\n",
       "      <td>1.460269e-01</td>\n",
       "      <td>1.170040e-03</td>\n",
       "      <td>1.876631e-03</td>\n",
       "      <td>1.165773e-03</td>\n",
       "      <td>3.057147e-03</td>\n",
       "      <td>3.362075e-01</td>\n",
       "      <td>3.256732e-01</td>\n",
       "      <td>2.901045e-01</td>\n",
       "      <td>2.782475e-01</td>\n",
       "      <td>3.462413e-03</td>\n",
       "    </tr>\n",
       "    <tr>\n",
       "      <th>min</th>\n",
       "      <td>0.000000e+00</td>\n",
       "      <td>0.000000e+00</td>\n",
       "      <td>0.000000e+00</td>\n",
       "      <td>0.000000e+00</td>\n",
       "      <td>0.000000e+00</td>\n",
       "      <td>0.000000e+00</td>\n",
       "      <td>0.000000e+00</td>\n",
       "      <td>0.000000e+00</td>\n",
       "      <td>0.000000e+00</td>\n",
       "      <td>0.000000e+00</td>\n",
       "      <td>0.000000e+00</td>\n",
       "    </tr>\n",
       "    <tr>\n",
       "      <th>25%</th>\n",
       "      <td>0.000000e+00</td>\n",
       "      <td>1.111111e-01</td>\n",
       "      <td>7.911420e-01</td>\n",
       "      <td>3.639923e-01</td>\n",
       "      <td>7.911508e-01</td>\n",
       "      <td>7.286905e-01</td>\n",
       "      <td>2.000000e-01</td>\n",
       "      <td>1.666667e-01</td>\n",
       "      <td>2.333333e-01</td>\n",
       "      <td>3.913043e-01</td>\n",
       "      <td>9.926891e-04</td>\n",
       "    </tr>\n",
       "    <tr>\n",
       "      <th>50%</th>\n",
       "      <td>1.000000e+00</td>\n",
       "      <td>1.111111e-01</td>\n",
       "      <td>7.913091e-01</td>\n",
       "      <td>3.649485e-01</td>\n",
       "      <td>7.913418e-01</td>\n",
       "      <td>7.302782e-01</td>\n",
       "      <td>6.000000e-01</td>\n",
       "      <td>5.000000e-01</td>\n",
       "      <td>4.666667e-01</td>\n",
       "      <td>6.086957e-01</td>\n",
       "      <td>1.687245e-03</td>\n",
       "    </tr>\n",
       "    <tr>\n",
       "      <th>75%</th>\n",
       "      <td>1.000000e+00</td>\n",
       "      <td>2.222222e-01</td>\n",
       "      <td>7.915469e-01</td>\n",
       "      <td>3.657624e-01</td>\n",
       "      <td>7.916180e-01</td>\n",
       "      <td>7.315802e-01</td>\n",
       "      <td>8.000000e-01</td>\n",
       "      <td>8.333333e-01</td>\n",
       "      <td>7.333333e-01</td>\n",
       "      <td>8.260870e-01</td>\n",
       "      <td>3.122984e-03</td>\n",
       "    </tr>\n",
       "    <tr>\n",
       "      <th>max</th>\n",
       "      <td>1.000000e+00</td>\n",
       "      <td>1.000000e+00</td>\n",
       "      <td>1.000000e+00</td>\n",
       "      <td>1.000000e+00</td>\n",
       "      <td>1.000000e+00</td>\n",
       "      <td>1.000000e+00</td>\n",
       "      <td>1.000000e+00</td>\n",
       "      <td>1.000000e+00</td>\n",
       "      <td>1.000000e+00</td>\n",
       "      <td>1.000000e+00</td>\n",
       "      <td>1.000000e+00</td>\n",
       "    </tr>\n",
       "  </tbody>\n",
       "</table>\n",
       "</div>\n",
       "      <button class=\"colab-df-convert\" onclick=\"convertToInteractive('df-b311af35-1b29-43e8-8973-1bef48c77000')\"\n",
       "              title=\"Convert this dataframe to an interactive table.\"\n",
       "              style=\"display:none;\">\n",
       "        \n",
       "  <svg xmlns=\"http://www.w3.org/2000/svg\" height=\"24px\"viewBox=\"0 0 24 24\"\n",
       "       width=\"24px\">\n",
       "    <path d=\"M0 0h24v24H0V0z\" fill=\"none\"/>\n",
       "    <path d=\"M18.56 5.44l.94 2.06.94-2.06 2.06-.94-2.06-.94-.94-2.06-.94 2.06-2.06.94zm-11 1L8.5 8.5l.94-2.06 2.06-.94-2.06-.94L8.5 2.5l-.94 2.06-2.06.94zm10 10l.94 2.06.94-2.06 2.06-.94-2.06-.94-.94-2.06-.94 2.06-2.06.94z\"/><path d=\"M17.41 7.96l-1.37-1.37c-.4-.4-.92-.59-1.43-.59-.52 0-1.04.2-1.43.59L10.3 9.45l-7.72 7.72c-.78.78-.78 2.05 0 2.83L4 21.41c.39.39.9.59 1.41.59.51 0 1.02-.2 1.41-.59l7.78-7.78 2.81-2.81c.8-.78.8-2.07 0-2.86zM5.41 20L4 18.59l7.72-7.72 1.47 1.35L5.41 20z\"/>\n",
       "  </svg>\n",
       "      </button>\n",
       "      \n",
       "  <style>\n",
       "    .colab-df-container {\n",
       "      display:flex;\n",
       "      flex-wrap:wrap;\n",
       "      gap: 12px;\n",
       "    }\n",
       "\n",
       "    .colab-df-convert {\n",
       "      background-color: #E8F0FE;\n",
       "      border: none;\n",
       "      border-radius: 50%;\n",
       "      cursor: pointer;\n",
       "      display: none;\n",
       "      fill: #1967D2;\n",
       "      height: 32px;\n",
       "      padding: 0 0 0 0;\n",
       "      width: 32px;\n",
       "    }\n",
       "\n",
       "    .colab-df-convert:hover {\n",
       "      background-color: #E2EBFA;\n",
       "      box-shadow: 0px 1px 2px rgba(60, 64, 67, 0.3), 0px 1px 3px 1px rgba(60, 64, 67, 0.15);\n",
       "      fill: #174EA6;\n",
       "    }\n",
       "\n",
       "    [theme=dark] .colab-df-convert {\n",
       "      background-color: #3B4455;\n",
       "      fill: #D2E3FC;\n",
       "    }\n",
       "\n",
       "    [theme=dark] .colab-df-convert:hover {\n",
       "      background-color: #434B5C;\n",
       "      box-shadow: 0px 1px 3px 1px rgba(0, 0, 0, 0.15);\n",
       "      filter: drop-shadow(0px 1px 2px rgba(0, 0, 0, 0.3));\n",
       "      fill: #FFFFFF;\n",
       "    }\n",
       "  </style>\n",
       "\n",
       "      <script>\n",
       "        const buttonEl =\n",
       "          document.querySelector('#df-b311af35-1b29-43e8-8973-1bef48c77000 button.colab-df-convert');\n",
       "        buttonEl.style.display =\n",
       "          google.colab.kernel.accessAllowed ? 'block' : 'none';\n",
       "\n",
       "        async function convertToInteractive(key) {\n",
       "          const element = document.querySelector('#df-b311af35-1b29-43e8-8973-1bef48c77000');\n",
       "          const dataTable =\n",
       "            await google.colab.kernel.invokeFunction('convertToInteractive',\n",
       "                                                     [key], {});\n",
       "          if (!dataTable) return;\n",
       "\n",
       "          const docLinkHtml = 'Like what you see? Visit the ' +\n",
       "            '<a target=\"_blank\" href=https://colab.research.google.com/notebooks/data_table.ipynb>data table notebook</a>'\n",
       "            + ' to learn more about interactive tables.';\n",
       "          element.innerHTML = '';\n",
       "          dataTable['output_type'] = 'display_data';\n",
       "          await google.colab.output.renderOutput(dataTable, element);\n",
       "          const docLink = document.createElement('div');\n",
       "          docLink.innerHTML = docLinkHtml;\n",
       "          element.appendChild(docLink);\n",
       "        }\n",
       "      </script>\n",
       "    </div>\n",
       "  </div>\n",
       "  "
      ],
      "text/plain": [
       "          vendor_id  passenger_count  pickup_longitude  pickup_latitude  \\\n",
       "count  1.458644e+06     1.458644e+06      1.458644e+06     1.458644e+06   \n",
       "mean   5.349503e-01     1.849477e-01      7.914453e-01     3.647671e-01   \n",
       "std    4.987772e-01     1.460269e-01      1.170040e-03     1.876631e-03   \n",
       "min    0.000000e+00     0.000000e+00      0.000000e+00     0.000000e+00   \n",
       "25%    0.000000e+00     1.111111e-01      7.911420e-01     3.639923e-01   \n",
       "50%    1.000000e+00     1.111111e-01      7.913091e-01     3.649485e-01   \n",
       "75%    1.000000e+00     2.222222e-01      7.915469e-01     3.657624e-01   \n",
       "max    1.000000e+00     1.000000e+00      1.000000e+00     1.000000e+00   \n",
       "\n",
       "       dropoff_longitude  dropoff_latitude  pickup_month  pickup_weekday  \\\n",
       "count       1.458644e+06      1.458644e+06  1.458644e+06    1.458644e+06   \n",
       "mean        7.914464e-01      7.300461e-01  5.033635e-01    5.083958e-01   \n",
       "std         1.165773e-03      3.057147e-03  3.362075e-01    3.256732e-01   \n",
       "min         0.000000e+00      0.000000e+00  0.000000e+00    0.000000e+00   \n",
       "25%         7.911508e-01      7.286905e-01  2.000000e-01    1.666667e-01   \n",
       "50%         7.913418e-01      7.302782e-01  6.000000e-01    5.000000e-01   \n",
       "75%         7.916180e-01      7.315802e-01  8.000000e-01    8.333333e-01   \n",
       "max         1.000000e+00      1.000000e+00  1.000000e+00    1.000000e+00   \n",
       "\n",
       "         pickup_day  pickup_time_hour   Distance_km  \n",
       "count  1.458644e+06      1.458644e+06  1.458644e+06  \n",
       "mean   4.834673e-01      5.915863e-01  2.772858e-03  \n",
       "std    2.901045e-01      2.782475e-01  3.462413e-03  \n",
       "min    0.000000e+00      0.000000e+00  0.000000e+00  \n",
       "25%    2.333333e-01      3.913043e-01  9.926891e-04  \n",
       "50%    4.666667e-01      6.086957e-01  1.687245e-03  \n",
       "75%    7.333333e-01      8.260870e-01  3.122984e-03  \n",
       "max    1.000000e+00      1.000000e+00  1.000000e+00  "
      ]
     },
     "execution_count": 72,
     "metadata": {},
     "output_type": "execute_result"
    }
   ],
   "source": [
    "inputs_df[numeric_cols].describe()"
   ]
  },
  {
   "cell_type": "code",
   "execution_count": null,
   "metadata": {
    "colab": {
     "base_uri": "https://localhost:8080/",
     "height": 488
    },
    "executionInfo": {
     "elapsed": 45,
     "status": "ok",
     "timestamp": 1655716934566,
     "user": {
      "displayName": "Noorullah Rizwan",
      "userId": "14596611615912427721"
     },
     "user_tz": 420
    },
    "id": "Smw85mJ__7u1",
    "outputId": "7e7f9c74-d3ce-4788-8f8b-f8da81b6358e"
   },
   "outputs": [
    {
     "data": {
      "text/html": [
       "\n",
       "  <div id=\"df-3be618c9-6fab-417d-9251-a736e6cda155\">\n",
       "    <div class=\"colab-df-container\">\n",
       "      <div>\n",
       "<style scoped>\n",
       "    .dataframe tbody tr th:only-of-type {\n",
       "        vertical-align: middle;\n",
       "    }\n",
       "\n",
       "    .dataframe tbody tr th {\n",
       "        vertical-align: top;\n",
       "    }\n",
       "\n",
       "    .dataframe thead th {\n",
       "        text-align: right;\n",
       "    }\n",
       "</style>\n",
       "<table border=\"1\" class=\"dataframe\">\n",
       "  <thead>\n",
       "    <tr style=\"text-align: right;\">\n",
       "      <th></th>\n",
       "      <th>vendor_id</th>\n",
       "      <th>passenger_count</th>\n",
       "      <th>pickup_longitude</th>\n",
       "      <th>pickup_latitude</th>\n",
       "      <th>dropoff_longitude</th>\n",
       "      <th>dropoff_latitude</th>\n",
       "      <th>pickup_month</th>\n",
       "      <th>pickup_weekday</th>\n",
       "      <th>pickup_day</th>\n",
       "      <th>pickup_time_hour</th>\n",
       "      <th>Distance_km</th>\n",
       "      <th>flag_code</th>\n",
       "    </tr>\n",
       "  </thead>\n",
       "  <tbody>\n",
       "    <tr>\n",
       "      <th>0</th>\n",
       "      <td>1.0</td>\n",
       "      <td>0.111111</td>\n",
       "      <td>0.791302</td>\n",
       "      <td>0.365738</td>\n",
       "      <td>0.791591</td>\n",
       "      <td>0.731222</td>\n",
       "      <td>0.4</td>\n",
       "      <td>0.000000</td>\n",
       "      <td>0.433333</td>\n",
       "      <td>0.739130</td>\n",
       "      <td>0.001208</td>\n",
       "      <td>0</td>\n",
       "    </tr>\n",
       "    <tr>\n",
       "      <th>1</th>\n",
       "      <td>0.0</td>\n",
       "      <td>0.111111</td>\n",
       "      <td>0.791331</td>\n",
       "      <td>0.364062</td>\n",
       "      <td>0.791016</td>\n",
       "      <td>0.728287</td>\n",
       "      <td>1.0</td>\n",
       "      <td>1.000000</td>\n",
       "      <td>0.366667</td>\n",
       "      <td>0.000000</td>\n",
       "      <td>0.001455</td>\n",
       "      <td>0</td>\n",
       "    </tr>\n",
       "    <tr>\n",
       "      <th>2</th>\n",
       "      <td>1.0</td>\n",
       "      <td>0.111111</td>\n",
       "      <td>0.791354</td>\n",
       "      <td>0.365510</td>\n",
       "      <td>0.790920</td>\n",
       "      <td>0.726493</td>\n",
       "      <td>0.0</td>\n",
       "      <td>0.166667</td>\n",
       "      <td>0.600000</td>\n",
       "      <td>0.478261</td>\n",
       "      <td>0.005146</td>\n",
       "      <td>0</td>\n",
       "    </tr>\n",
       "    <tr>\n",
       "      <th>3</th>\n",
       "      <td>1.0</td>\n",
       "      <td>0.111111</td>\n",
       "      <td>0.790842</td>\n",
       "      <td>0.363001</td>\n",
       "      <td>0.790805</td>\n",
       "      <td>0.726206</td>\n",
       "      <td>0.6</td>\n",
       "      <td>0.333333</td>\n",
       "      <td>0.166667</td>\n",
       "      <td>0.826087</td>\n",
       "      <td>0.001197</td>\n",
       "      <td>0</td>\n",
       "    </tr>\n",
       "    <tr>\n",
       "      <th>4</th>\n",
       "      <td>1.0</td>\n",
       "      <td>0.111111</td>\n",
       "      <td>0.791452</td>\n",
       "      <td>0.367181</td>\n",
       "      <td>0.791454</td>\n",
       "      <td>0.732663</td>\n",
       "      <td>0.4</td>\n",
       "      <td>0.833333</td>\n",
       "      <td>0.833333</td>\n",
       "      <td>0.565217</td>\n",
       "      <td>0.000958</td>\n",
       "      <td>0</td>\n",
       "    </tr>\n",
       "    <tr>\n",
       "      <th>...</th>\n",
       "      <td>...</td>\n",
       "      <td>...</td>\n",
       "      <td>...</td>\n",
       "      <td>...</td>\n",
       "      <td>...</td>\n",
       "      <td>...</td>\n",
       "      <td>...</td>\n",
       "      <td>...</td>\n",
       "      <td>...</td>\n",
       "      <td>...</td>\n",
       "      <td>...</td>\n",
       "      <td>...</td>\n",
       "    </tr>\n",
       "    <tr>\n",
       "      <th>1458639</th>\n",
       "      <td>1.0</td>\n",
       "      <td>0.444444</td>\n",
       "      <td>0.791302</td>\n",
       "      <td>0.364459</td>\n",
       "      <td>0.791092</td>\n",
       "      <td>0.729055</td>\n",
       "      <td>0.6</td>\n",
       "      <td>0.666667</td>\n",
       "      <td>0.233333</td>\n",
       "      <td>0.565217</td>\n",
       "      <td>0.000987</td>\n",
       "      <td>0</td>\n",
       "    </tr>\n",
       "    <tr>\n",
       "      <th>1458640</th>\n",
       "      <td>0.0</td>\n",
       "      <td>0.111111</td>\n",
       "      <td>0.790992</td>\n",
       "      <td>0.364565</td>\n",
       "      <td>0.791500</td>\n",
       "      <td>0.733858</td>\n",
       "      <td>0.0</td>\n",
       "      <td>1.000000</td>\n",
       "      <td>0.300000</td>\n",
       "      <td>0.304348</td>\n",
       "      <td>0.004875</td>\n",
       "      <td>0</td>\n",
       "    </tr>\n",
       "    <tr>\n",
       "      <th>1458641</th>\n",
       "      <td>1.0</td>\n",
       "      <td>0.111111</td>\n",
       "      <td>0.791682</td>\n",
       "      <td>0.365787</td>\n",
       "      <td>0.790935</td>\n",
       "      <td>0.726262</td>\n",
       "      <td>0.6</td>\n",
       "      <td>0.666667</td>\n",
       "      <td>0.700000</td>\n",
       "      <td>0.260870</td>\n",
       "      <td>0.006306</td>\n",
       "      <td>0</td>\n",
       "    </tr>\n",
       "    <tr>\n",
       "      <th>1458642</th>\n",
       "      <td>0.0</td>\n",
       "      <td>0.111111</td>\n",
       "      <td>0.791304</td>\n",
       "      <td>0.364661</td>\n",
       "      <td>0.791426</td>\n",
       "      <td>0.730498</td>\n",
       "      <td>0.0</td>\n",
       "      <td>0.166667</td>\n",
       "      <td>0.133333</td>\n",
       "      <td>0.652174</td>\n",
       "      <td>0.000880</td>\n",
       "      <td>0</td>\n",
       "    </tr>\n",
       "    <tr>\n",
       "      <th>1458643</th>\n",
       "      <td>0.0</td>\n",
       "      <td>0.111111</td>\n",
       "      <td>0.791345</td>\n",
       "      <td>0.366527</td>\n",
       "      <td>0.791456</td>\n",
       "      <td>0.733350</td>\n",
       "      <td>0.6</td>\n",
       "      <td>0.166667</td>\n",
       "      <td>0.133333</td>\n",
       "      <td>0.608696</td>\n",
       "      <td>0.000914</td>\n",
       "      <td>0</td>\n",
       "    </tr>\n",
       "  </tbody>\n",
       "</table>\n",
       "<p>1458644 rows × 12 columns</p>\n",
       "</div>\n",
       "      <button class=\"colab-df-convert\" onclick=\"convertToInteractive('df-3be618c9-6fab-417d-9251-a736e6cda155')\"\n",
       "              title=\"Convert this dataframe to an interactive table.\"\n",
       "              style=\"display:none;\">\n",
       "        \n",
       "  <svg xmlns=\"http://www.w3.org/2000/svg\" height=\"24px\"viewBox=\"0 0 24 24\"\n",
       "       width=\"24px\">\n",
       "    <path d=\"M0 0h24v24H0V0z\" fill=\"none\"/>\n",
       "    <path d=\"M18.56 5.44l.94 2.06.94-2.06 2.06-.94-2.06-.94-.94-2.06-.94 2.06-2.06.94zm-11 1L8.5 8.5l.94-2.06 2.06-.94-2.06-.94L8.5 2.5l-.94 2.06-2.06.94zm10 10l.94 2.06.94-2.06 2.06-.94-2.06-.94-.94-2.06-.94 2.06-2.06.94z\"/><path d=\"M17.41 7.96l-1.37-1.37c-.4-.4-.92-.59-1.43-.59-.52 0-1.04.2-1.43.59L10.3 9.45l-7.72 7.72c-.78.78-.78 2.05 0 2.83L4 21.41c.39.39.9.59 1.41.59.51 0 1.02-.2 1.41-.59l7.78-7.78 2.81-2.81c.8-.78.8-2.07 0-2.86zM5.41 20L4 18.59l7.72-7.72 1.47 1.35L5.41 20z\"/>\n",
       "  </svg>\n",
       "      </button>\n",
       "      \n",
       "  <style>\n",
       "    .colab-df-container {\n",
       "      display:flex;\n",
       "      flex-wrap:wrap;\n",
       "      gap: 12px;\n",
       "    }\n",
       "\n",
       "    .colab-df-convert {\n",
       "      background-color: #E8F0FE;\n",
       "      border: none;\n",
       "      border-radius: 50%;\n",
       "      cursor: pointer;\n",
       "      display: none;\n",
       "      fill: #1967D2;\n",
       "      height: 32px;\n",
       "      padding: 0 0 0 0;\n",
       "      width: 32px;\n",
       "    }\n",
       "\n",
       "    .colab-df-convert:hover {\n",
       "      background-color: #E2EBFA;\n",
       "      box-shadow: 0px 1px 2px rgba(60, 64, 67, 0.3), 0px 1px 3px 1px rgba(60, 64, 67, 0.15);\n",
       "      fill: #174EA6;\n",
       "    }\n",
       "\n",
       "    [theme=dark] .colab-df-convert {\n",
       "      background-color: #3B4455;\n",
       "      fill: #D2E3FC;\n",
       "    }\n",
       "\n",
       "    [theme=dark] .colab-df-convert:hover {\n",
       "      background-color: #434B5C;\n",
       "      box-shadow: 0px 1px 3px 1px rgba(0, 0, 0, 0.15);\n",
       "      filter: drop-shadow(0px 1px 2px rgba(0, 0, 0, 0.3));\n",
       "      fill: #FFFFFF;\n",
       "    }\n",
       "  </style>\n",
       "\n",
       "      <script>\n",
       "        const buttonEl =\n",
       "          document.querySelector('#df-3be618c9-6fab-417d-9251-a736e6cda155 button.colab-df-convert');\n",
       "        buttonEl.style.display =\n",
       "          google.colab.kernel.accessAllowed ? 'block' : 'none';\n",
       "\n",
       "        async function convertToInteractive(key) {\n",
       "          const element = document.querySelector('#df-3be618c9-6fab-417d-9251-a736e6cda155');\n",
       "          const dataTable =\n",
       "            await google.colab.kernel.invokeFunction('convertToInteractive',\n",
       "                                                     [key], {});\n",
       "          if (!dataTable) return;\n",
       "\n",
       "          const docLinkHtml = 'Like what you see? Visit the ' +\n",
       "            '<a target=\"_blank\" href=https://colab.research.google.com/notebooks/data_table.ipynb>data table notebook</a>'\n",
       "            + ' to learn more about interactive tables.';\n",
       "          element.innerHTML = '';\n",
       "          dataTable['output_type'] = 'display_data';\n",
       "          await google.colab.output.renderOutput(dataTable, element);\n",
       "          const docLink = document.createElement('div');\n",
       "          docLink.innerHTML = docLinkHtml;\n",
       "          element.appendChild(docLink);\n",
       "        }\n",
       "      </script>\n",
       "    </div>\n",
       "  </div>\n",
       "  "
      ],
      "text/plain": [
       "         vendor_id  passenger_count  pickup_longitude  pickup_latitude  \\\n",
       "0              1.0         0.111111          0.791302         0.365738   \n",
       "1              0.0         0.111111          0.791331         0.364062   \n",
       "2              1.0         0.111111          0.791354         0.365510   \n",
       "3              1.0         0.111111          0.790842         0.363001   \n",
       "4              1.0         0.111111          0.791452         0.367181   \n",
       "...            ...              ...               ...              ...   \n",
       "1458639        1.0         0.444444          0.791302         0.364459   \n",
       "1458640        0.0         0.111111          0.790992         0.364565   \n",
       "1458641        1.0         0.111111          0.791682         0.365787   \n",
       "1458642        0.0         0.111111          0.791304         0.364661   \n",
       "1458643        0.0         0.111111          0.791345         0.366527   \n",
       "\n",
       "         dropoff_longitude  dropoff_latitude  pickup_month  pickup_weekday  \\\n",
       "0                 0.791591          0.731222           0.4        0.000000   \n",
       "1                 0.791016          0.728287           1.0        1.000000   \n",
       "2                 0.790920          0.726493           0.0        0.166667   \n",
       "3                 0.790805          0.726206           0.6        0.333333   \n",
       "4                 0.791454          0.732663           0.4        0.833333   \n",
       "...                    ...               ...           ...             ...   \n",
       "1458639           0.791092          0.729055           0.6        0.666667   \n",
       "1458640           0.791500          0.733858           0.0        1.000000   \n",
       "1458641           0.790935          0.726262           0.6        0.666667   \n",
       "1458642           0.791426          0.730498           0.0        0.166667   \n",
       "1458643           0.791456          0.733350           0.6        0.166667   \n",
       "\n",
       "         pickup_day  pickup_time_hour  Distance_km  flag_code  \n",
       "0          0.433333          0.739130     0.001208          0  \n",
       "1          0.366667          0.000000     0.001455          0  \n",
       "2          0.600000          0.478261     0.005146          0  \n",
       "3          0.166667          0.826087     0.001197          0  \n",
       "4          0.833333          0.565217     0.000958          0  \n",
       "...             ...               ...          ...        ...  \n",
       "1458639    0.233333          0.565217     0.000987          0  \n",
       "1458640    0.300000          0.304348     0.004875          0  \n",
       "1458641    0.700000          0.260870     0.006306          0  \n",
       "1458642    0.133333          0.652174     0.000880          0  \n",
       "1458643    0.133333          0.608696     0.000914          0  \n",
       "\n",
       "[1458644 rows x 12 columns]"
      ]
     },
     "execution_count": 32,
     "metadata": {},
     "output_type": "execute_result"
    }
   ],
   "source": [
    "inputs_df=inputs_df[numeric_cols+encoded_cols]\n",
    "inputs_df"
   ]
  },
  {
   "cell_type": "code",
   "execution_count": null,
   "metadata": {
    "colab": {
     "base_uri": "https://localhost:8080/"
    },
    "executionInfo": {
     "elapsed": 700,
     "status": "ok",
     "timestamp": 1655813981336,
     "user": {
      "displayName": "Noorullah Rizwan",
      "userId": "14596611615912427721"
     },
     "user_tz": 420
    },
    "id": "lgwXPWhPF7lI",
    "outputId": "af1b311d-d38b-4ba9-d21e-a3419eabae26"
   },
   "outputs": [
    {
     "name": "stdout",
     "output_type": "stream",
     "text": [
      "<class 'pandas.core.frame.DataFrame'>\n",
      "RangeIndex: 1458644 entries, 0 to 1458643\n",
      "Data columns (total 13 columns):\n",
      " #   Column              Non-Null Count    Dtype  \n",
      "---  ------              --------------    -----  \n",
      " 0   vendor_id           1458644 non-null  float64\n",
      " 1   passenger_count     1458644 non-null  float64\n",
      " 2   pickup_longitude    1458644 non-null  float64\n",
      " 3   pickup_latitude     1458644 non-null  float64\n",
      " 4   dropoff_longitude   1458644 non-null  float64\n",
      " 5   dropoff_latitude    1458644 non-null  float64\n",
      " 6   pickup_month        1458644 non-null  float64\n",
      " 7   pickup_weekday      1458644 non-null  float64\n",
      " 8   pickup_day          1458644 non-null  float64\n",
      " 9   pickup_time_hour    1458644 non-null  float64\n",
      " 10  Distance_km         1458644 non-null  float64\n",
      " 11  store_and_fwd_flag  1458644 non-null  object \n",
      " 12  flag_code           1458644 non-null  int64  \n",
      "dtypes: float64(11), int64(1), object(1)\n",
      "memory usage: 144.7+ MB\n"
     ]
    }
   ],
   "source": [
    "inputs_df.info()"
   ]
  },
  {
   "cell_type": "markdown",
   "metadata": {
    "id": "_V6ZHVOiWhoK"
   },
   "source": [
    "### Splitting the datsets for Training & Validation\n",
    "90% of the data would be used for training. The rest for validation"
   ]
  },
  {
   "cell_type": "code",
   "execution_count": null,
   "metadata": {
    "id": "ltSbStv0AlbF"
   },
   "outputs": [],
   "source": [
    "from sklearn.model_selection import train_test_split\n"
   ]
  },
  {
   "cell_type": "code",
   "execution_count": null,
   "metadata": {
    "id": "C-p2lT3gB51C"
   },
   "outputs": [],
   "source": [
    "train_inputs, val_inputs, train_targets, val_targets= train_test_split(inputs_df, targets, test_size=0.1, random_state=42)"
   ]
  },
  {
   "cell_type": "code",
   "execution_count": null,
   "metadata": {
    "colab": {
     "base_uri": "https://localhost:8080/"
    },
    "executionInfo": {
     "elapsed": 14,
     "status": "ok",
     "timestamp": 1655814013273,
     "user": {
      "displayName": "Noorullah Rizwan",
      "userId": "14596611615912427721"
     },
     "user_tz": 420
    },
    "id": "mrsWGx2RIW7w",
    "outputId": "4eacf260-dd3f-4db3-fa7b-8a93e280c5a7"
   },
   "outputs": [
    {
     "data": {
      "text/plain": [
       "(1312779, 13)"
      ]
     },
     "execution_count": 78,
     "metadata": {},
     "output_type": "execute_result"
    }
   ],
   "source": [
    "train_inputs.shape"
   ]
  },
  {
   "cell_type": "code",
   "execution_count": null,
   "metadata": {
    "colab": {
     "base_uri": "https://localhost:8080/",
     "height": 488
    },
    "executionInfo": {
     "elapsed": 387,
     "status": "ok",
     "timestamp": 1655814027364,
     "user": {
      "displayName": "Noorullah Rizwan",
      "userId": "14596611615912427721"
     },
     "user_tz": 420
    },
    "id": "ihV3x3ReNNG-",
    "outputId": "a8d7db78-d3ba-4a23-8ab5-45c4295ea61f"
   },
   "outputs": [
    {
     "data": {
      "text/html": [
       "\n",
       "  <div id=\"df-ebe243b5-ef11-4ed9-83d4-552142c8a8fe\">\n",
       "    <div class=\"colab-df-container\">\n",
       "      <div>\n",
       "<style scoped>\n",
       "    .dataframe tbody tr th:only-of-type {\n",
       "        vertical-align: middle;\n",
       "    }\n",
       "\n",
       "    .dataframe tbody tr th {\n",
       "        vertical-align: top;\n",
       "    }\n",
       "\n",
       "    .dataframe thead th {\n",
       "        text-align: right;\n",
       "    }\n",
       "</style>\n",
       "<table border=\"1\" class=\"dataframe\">\n",
       "  <thead>\n",
       "    <tr style=\"text-align: right;\">\n",
       "      <th></th>\n",
       "      <th>vendor_id</th>\n",
       "      <th>passenger_count</th>\n",
       "      <th>pickup_longitude</th>\n",
       "      <th>pickup_latitude</th>\n",
       "      <th>dropoff_longitude</th>\n",
       "      <th>dropoff_latitude</th>\n",
       "      <th>pickup_month</th>\n",
       "      <th>pickup_weekday</th>\n",
       "      <th>pickup_day</th>\n",
       "      <th>pickup_time_hour</th>\n",
       "      <th>Distance_km</th>\n",
       "      <th>store_and_fwd_flag</th>\n",
       "      <th>flag_code</th>\n",
       "    </tr>\n",
       "  </thead>\n",
       "  <tbody>\n",
       "    <tr>\n",
       "      <th>67250</th>\n",
       "      <td>1.0</td>\n",
       "      <td>0.111111</td>\n",
       "      <td>0.791245</td>\n",
       "      <td>0.363912</td>\n",
       "      <td>0.791332</td>\n",
       "      <td>0.730784</td>\n",
       "      <td>1.0</td>\n",
       "      <td>0.333333</td>\n",
       "      <td>0.233333</td>\n",
       "      <td>0.304348</td>\n",
       "      <td>0.002227</td>\n",
       "      <td>N</td>\n",
       "      <td>0</td>\n",
       "    </tr>\n",
       "    <tr>\n",
       "      <th>1397036</th>\n",
       "      <td>1.0</td>\n",
       "      <td>0.111111</td>\n",
       "      <td>0.791364</td>\n",
       "      <td>0.365534</td>\n",
       "      <td>0.791146</td>\n",
       "      <td>0.729881</td>\n",
       "      <td>0.6</td>\n",
       "      <td>1.000000</td>\n",
       "      <td>0.066667</td>\n",
       "      <td>0.521739</td>\n",
       "      <td>0.001579</td>\n",
       "      <td>N</td>\n",
       "      <td>0</td>\n",
       "    </tr>\n",
       "    <tr>\n",
       "      <th>1021087</th>\n",
       "      <td>1.0</td>\n",
       "      <td>0.555556</td>\n",
       "      <td>0.791188</td>\n",
       "      <td>0.364394</td>\n",
       "      <td>0.791447</td>\n",
       "      <td>0.729781</td>\n",
       "      <td>1.0</td>\n",
       "      <td>1.000000</td>\n",
       "      <td>0.133333</td>\n",
       "      <td>0.086957</td>\n",
       "      <td>0.001132</td>\n",
       "      <td>N</td>\n",
       "      <td>0</td>\n",
       "    </tr>\n",
       "    <tr>\n",
       "      <th>951424</th>\n",
       "      <td>1.0</td>\n",
       "      <td>0.222222</td>\n",
       "      <td>0.791167</td>\n",
       "      <td>0.363638</td>\n",
       "      <td>0.791152</td>\n",
       "      <td>0.729801</td>\n",
       "      <td>0.8</td>\n",
       "      <td>0.500000</td>\n",
       "      <td>0.133333</td>\n",
       "      <td>0.739130</td>\n",
       "      <td>0.001595</td>\n",
       "      <td>N</td>\n",
       "      <td>0</td>\n",
       "    </tr>\n",
       "    <tr>\n",
       "      <th>707882</th>\n",
       "      <td>0.0</td>\n",
       "      <td>0.444444</td>\n",
       "      <td>0.794482</td>\n",
       "      <td>0.358817</td>\n",
       "      <td>0.791220</td>\n",
       "      <td>0.730679</td>\n",
       "      <td>0.8</td>\n",
       "      <td>0.500000</td>\n",
       "      <td>0.366667</td>\n",
       "      <td>0.739130</td>\n",
       "      <td>0.016792</td>\n",
       "      <td>N</td>\n",
       "      <td>0</td>\n",
       "    </tr>\n",
       "    <tr>\n",
       "      <th>...</th>\n",
       "      <td>...</td>\n",
       "      <td>...</td>\n",
       "      <td>...</td>\n",
       "      <td>...</td>\n",
       "      <td>...</td>\n",
       "      <td>...</td>\n",
       "      <td>...</td>\n",
       "      <td>...</td>\n",
       "      <td>...</td>\n",
       "      <td>...</td>\n",
       "      <td>...</td>\n",
       "      <td>...</td>\n",
       "      <td>...</td>\n",
       "    </tr>\n",
       "    <tr>\n",
       "      <th>526279</th>\n",
       "      <td>1.0</td>\n",
       "      <td>0.111111</td>\n",
       "      <td>0.791400</td>\n",
       "      <td>0.365147</td>\n",
       "      <td>0.791449</td>\n",
       "      <td>0.731142</td>\n",
       "      <td>1.0</td>\n",
       "      <td>0.333333</td>\n",
       "      <td>0.000000</td>\n",
       "      <td>0.869565</td>\n",
       "      <td>0.000667</td>\n",
       "      <td>N</td>\n",
       "      <td>0</td>\n",
       "    </tr>\n",
       "    <tr>\n",
       "      <th>80354</th>\n",
       "      <td>0.0</td>\n",
       "      <td>0.333333</td>\n",
       "      <td>0.791304</td>\n",
       "      <td>0.365490</td>\n",
       "      <td>0.791255</td>\n",
       "      <td>0.728972</td>\n",
       "      <td>0.8</td>\n",
       "      <td>0.833333</td>\n",
       "      <td>0.433333</td>\n",
       "      <td>0.652174</td>\n",
       "      <td>0.002195</td>\n",
       "      <td>N</td>\n",
       "      <td>0</td>\n",
       "    </tr>\n",
       "    <tr>\n",
       "      <th>328645</th>\n",
       "      <td>1.0</td>\n",
       "      <td>0.333333</td>\n",
       "      <td>0.794594</td>\n",
       "      <td>0.358690</td>\n",
       "      <td>0.791145</td>\n",
       "      <td>0.729862</td>\n",
       "      <td>0.8</td>\n",
       "      <td>0.166667</td>\n",
       "      <td>1.000000</td>\n",
       "      <td>0.869565</td>\n",
       "      <td>0.017044</td>\n",
       "      <td>N</td>\n",
       "      <td>0</td>\n",
       "    </tr>\n",
       "    <tr>\n",
       "      <th>657429</th>\n",
       "      <td>0.0</td>\n",
       "      <td>0.111111</td>\n",
       "      <td>0.791344</td>\n",
       "      <td>0.364821</td>\n",
       "      <td>0.791421</td>\n",
       "      <td>0.730600</td>\n",
       "      <td>0.4</td>\n",
       "      <td>0.000000</td>\n",
       "      <td>0.666667</td>\n",
       "      <td>0.739130</td>\n",
       "      <td>0.000659</td>\n",
       "      <td>N</td>\n",
       "      <td>0</td>\n",
       "    </tr>\n",
       "    <tr>\n",
       "      <th>128732</th>\n",
       "      <td>1.0</td>\n",
       "      <td>0.111111</td>\n",
       "      <td>0.791563</td>\n",
       "      <td>0.365386</td>\n",
       "      <td>0.791514</td>\n",
       "      <td>0.730514</td>\n",
       "      <td>0.4</td>\n",
       "      <td>0.500000</td>\n",
       "      <td>0.066667</td>\n",
       "      <td>0.565217</td>\n",
       "      <td>0.000449</td>\n",
       "      <td>N</td>\n",
       "      <td>0</td>\n",
       "    </tr>\n",
       "  </tbody>\n",
       "</table>\n",
       "<p>145865 rows × 13 columns</p>\n",
       "</div>\n",
       "      <button class=\"colab-df-convert\" onclick=\"convertToInteractive('df-ebe243b5-ef11-4ed9-83d4-552142c8a8fe')\"\n",
       "              title=\"Convert this dataframe to an interactive table.\"\n",
       "              style=\"display:none;\">\n",
       "        \n",
       "  <svg xmlns=\"http://www.w3.org/2000/svg\" height=\"24px\"viewBox=\"0 0 24 24\"\n",
       "       width=\"24px\">\n",
       "    <path d=\"M0 0h24v24H0V0z\" fill=\"none\"/>\n",
       "    <path d=\"M18.56 5.44l.94 2.06.94-2.06 2.06-.94-2.06-.94-.94-2.06-.94 2.06-2.06.94zm-11 1L8.5 8.5l.94-2.06 2.06-.94-2.06-.94L8.5 2.5l-.94 2.06-2.06.94zm10 10l.94 2.06.94-2.06 2.06-.94-2.06-.94-.94-2.06-.94 2.06-2.06.94z\"/><path d=\"M17.41 7.96l-1.37-1.37c-.4-.4-.92-.59-1.43-.59-.52 0-1.04.2-1.43.59L10.3 9.45l-7.72 7.72c-.78.78-.78 2.05 0 2.83L4 21.41c.39.39.9.59 1.41.59.51 0 1.02-.2 1.41-.59l7.78-7.78 2.81-2.81c.8-.78.8-2.07 0-2.86zM5.41 20L4 18.59l7.72-7.72 1.47 1.35L5.41 20z\"/>\n",
       "  </svg>\n",
       "      </button>\n",
       "      \n",
       "  <style>\n",
       "    .colab-df-container {\n",
       "      display:flex;\n",
       "      flex-wrap:wrap;\n",
       "      gap: 12px;\n",
       "    }\n",
       "\n",
       "    .colab-df-convert {\n",
       "      background-color: #E8F0FE;\n",
       "      border: none;\n",
       "      border-radius: 50%;\n",
       "      cursor: pointer;\n",
       "      display: none;\n",
       "      fill: #1967D2;\n",
       "      height: 32px;\n",
       "      padding: 0 0 0 0;\n",
       "      width: 32px;\n",
       "    }\n",
       "\n",
       "    .colab-df-convert:hover {\n",
       "      background-color: #E2EBFA;\n",
       "      box-shadow: 0px 1px 2px rgba(60, 64, 67, 0.3), 0px 1px 3px 1px rgba(60, 64, 67, 0.15);\n",
       "      fill: #174EA6;\n",
       "    }\n",
       "\n",
       "    [theme=dark] .colab-df-convert {\n",
       "      background-color: #3B4455;\n",
       "      fill: #D2E3FC;\n",
       "    }\n",
       "\n",
       "    [theme=dark] .colab-df-convert:hover {\n",
       "      background-color: #434B5C;\n",
       "      box-shadow: 0px 1px 3px 1px rgba(0, 0, 0, 0.15);\n",
       "      filter: drop-shadow(0px 1px 2px rgba(0, 0, 0, 0.3));\n",
       "      fill: #FFFFFF;\n",
       "    }\n",
       "  </style>\n",
       "\n",
       "      <script>\n",
       "        const buttonEl =\n",
       "          document.querySelector('#df-ebe243b5-ef11-4ed9-83d4-552142c8a8fe button.colab-df-convert');\n",
       "        buttonEl.style.display =\n",
       "          google.colab.kernel.accessAllowed ? 'block' : 'none';\n",
       "\n",
       "        async function convertToInteractive(key) {\n",
       "          const element = document.querySelector('#df-ebe243b5-ef11-4ed9-83d4-552142c8a8fe');\n",
       "          const dataTable =\n",
       "            await google.colab.kernel.invokeFunction('convertToInteractive',\n",
       "                                                     [key], {});\n",
       "          if (!dataTable) return;\n",
       "\n",
       "          const docLinkHtml = 'Like what you see? Visit the ' +\n",
       "            '<a target=\"_blank\" href=https://colab.research.google.com/notebooks/data_table.ipynb>data table notebook</a>'\n",
       "            + ' to learn more about interactive tables.';\n",
       "          element.innerHTML = '';\n",
       "          dataTable['output_type'] = 'display_data';\n",
       "          await google.colab.output.renderOutput(dataTable, element);\n",
       "          const docLink = document.createElement('div');\n",
       "          docLink.innerHTML = docLinkHtml;\n",
       "          element.appendChild(docLink);\n",
       "        }\n",
       "      </script>\n",
       "    </div>\n",
       "  </div>\n",
       "  "
      ],
      "text/plain": [
       "         vendor_id  passenger_count  pickup_longitude  pickup_latitude  \\\n",
       "67250          1.0         0.111111          0.791245         0.363912   \n",
       "1397036        1.0         0.111111          0.791364         0.365534   \n",
       "1021087        1.0         0.555556          0.791188         0.364394   \n",
       "951424         1.0         0.222222          0.791167         0.363638   \n",
       "707882         0.0         0.444444          0.794482         0.358817   \n",
       "...            ...              ...               ...              ...   \n",
       "526279         1.0         0.111111          0.791400         0.365147   \n",
       "80354          0.0         0.333333          0.791304         0.365490   \n",
       "328645         1.0         0.333333          0.794594         0.358690   \n",
       "657429         0.0         0.111111          0.791344         0.364821   \n",
       "128732         1.0         0.111111          0.791563         0.365386   \n",
       "\n",
       "         dropoff_longitude  dropoff_latitude  pickup_month  pickup_weekday  \\\n",
       "67250             0.791332          0.730784           1.0        0.333333   \n",
       "1397036           0.791146          0.729881           0.6        1.000000   \n",
       "1021087           0.791447          0.729781           1.0        1.000000   \n",
       "951424            0.791152          0.729801           0.8        0.500000   \n",
       "707882            0.791220          0.730679           0.8        0.500000   \n",
       "...                    ...               ...           ...             ...   \n",
       "526279            0.791449          0.731142           1.0        0.333333   \n",
       "80354             0.791255          0.728972           0.8        0.833333   \n",
       "328645            0.791145          0.729862           0.8        0.166667   \n",
       "657429            0.791421          0.730600           0.4        0.000000   \n",
       "128732            0.791514          0.730514           0.4        0.500000   \n",
       "\n",
       "         pickup_day  pickup_time_hour  Distance_km store_and_fwd_flag  \\\n",
       "67250      0.233333          0.304348     0.002227                  N   \n",
       "1397036    0.066667          0.521739     0.001579                  N   \n",
       "1021087    0.133333          0.086957     0.001132                  N   \n",
       "951424     0.133333          0.739130     0.001595                  N   \n",
       "707882     0.366667          0.739130     0.016792                  N   \n",
       "...             ...               ...          ...                ...   \n",
       "526279     0.000000          0.869565     0.000667                  N   \n",
       "80354      0.433333          0.652174     0.002195                  N   \n",
       "328645     1.000000          0.869565     0.017044                  N   \n",
       "657429     0.666667          0.739130     0.000659                  N   \n",
       "128732     0.066667          0.565217     0.000449                  N   \n",
       "\n",
       "         flag_code  \n",
       "67250            0  \n",
       "1397036          0  \n",
       "1021087          0  \n",
       "951424           0  \n",
       "707882           0  \n",
       "...            ...  \n",
       "526279           0  \n",
       "80354            0  \n",
       "328645           0  \n",
       "657429           0  \n",
       "128732           0  \n",
       "\n",
       "[145865 rows x 13 columns]"
      ]
     },
     "execution_count": 79,
     "metadata": {},
     "output_type": "execute_result"
    }
   ],
   "source": [
    "val_inputs"
   ]
  },
  {
   "cell_type": "markdown",
   "metadata": {
    "id": "sk8dxiCoW2F4"
   },
   "source": [
    "## Creating Machine Learning Models\n",
    "Since its a Regression problem, We will be using RandomForest Regressor and the XGboost models to analyze and predict the data by calculating root mean squared error. Then we will try hyperparameter tuning to reduce the validation rmse. Eventually we will proceed with the model with the lowest validation rmse."
   ]
  },
  {
   "cell_type": "markdown",
   "metadata": {
    "id": "nfYBicyjXit6"
   },
   "source": [
    "## 1: RandomForestRegressor"
   ]
  },
  {
   "cell_type": "markdown",
   "metadata": {
    "id": "MG3N_Olxlult"
   },
   "source": [
    "### Training model & rmse loss"
   ]
  },
  {
   "cell_type": "code",
   "execution_count": null,
   "metadata": {
    "id": "aWD8bJ8DHmqf"
   },
   "outputs": [],
   "source": [
    "from sklearn.ensemble import RandomForestRegressor"
   ]
  },
  {
   "cell_type": "code",
   "execution_count": null,
   "metadata": {
    "id": "zAv9Mi6OH0ZB"
   },
   "outputs": [],
   "source": [
    "model = RandomForestRegressor(n_estimators=10, n_jobs=-1, random_state=42)"
   ]
  },
  {
   "cell_type": "code",
   "execution_count": null,
   "metadata": {
    "colab": {
     "base_uri": "https://localhost:8080/"
    },
    "executionInfo": {
     "elapsed": 132181,
     "status": "ok",
     "timestamp": 1655717085501,
     "user": {
      "displayName": "Noorullah Rizwan",
      "userId": "14596611615912427721"
     },
     "user_tz": 420
    },
    "id": "6y0S2_jmIA9a",
    "outputId": "7eafbfac-2da4-408a-aded-62860c8ac0b8"
   },
   "outputs": [
    {
     "name": "stderr",
     "output_type": "stream",
     "text": [
      "/usr/local/lib/python3.7/dist-packages/ipykernel_launcher.py:1: DataConversionWarning: A column-vector y was passed when a 1d array was expected. Please change the shape of y to (n_samples,), for example using ravel().\n",
      "  \"\"\"Entry point for launching an IPython kernel.\n"
     ]
    },
    {
     "data": {
      "text/plain": [
       "RandomForestRegressor(n_estimators=10, n_jobs=-1, random_state=42)"
      ]
     },
     "execution_count": 39,
     "metadata": {},
     "output_type": "execute_result"
    }
   ],
   "source": [
    "model.fit(train_inputs, train_targets)"
   ]
  },
  {
   "cell_type": "code",
   "execution_count": null,
   "metadata": {
    "colab": {
     "base_uri": "https://localhost:8080/"
    },
    "executionInfo": {
     "elapsed": 8060,
     "status": "ok",
     "timestamp": 1655717093552,
     "user": {
      "displayName": "Noorullah Rizwan",
      "userId": "14596611615912427721"
     },
     "user_tz": 420
    },
    "id": "Y7DYhRCdJho8",
    "outputId": "35e9985c-5d56-421f-b1bc-43817659dead"
   },
   "outputs": [
    {
     "data": {
      "text/plain": [
       "array([6.26888888, 6.19167906, 7.00879007, ..., 7.31451641, 5.9711587 ,\n",
       "       7.36788556])"
      ]
     },
     "execution_count": 40,
     "metadata": {},
     "output_type": "execute_result"
    }
   ],
   "source": [
    "train_preds=model.predict(train_inputs)\n",
    "train_preds"
   ]
  },
  {
   "cell_type": "code",
   "execution_count": null,
   "metadata": {
    "id": "8ZYN45F8Jm2p"
   },
   "outputs": [],
   "source": [
    "val_preds=model.predict(val_inputs)"
   ]
  },
  {
   "cell_type": "code",
   "execution_count": null,
   "metadata": {
    "colab": {
     "base_uri": "https://localhost:8080/",
     "height": 424
    },
    "executionInfo": {
     "elapsed": 60,
     "status": "ok",
     "timestamp": 1655717094386,
     "user": {
      "displayName": "Noorullah Rizwan",
      "userId": "14596611615912427721"
     },
     "user_tz": 420
    },
    "id": "5M9OY3IUHkWs",
    "outputId": "ef622f05-2622-4d2a-ec27-cf0fc7a60b05"
   },
   "outputs": [
    {
     "data": {
      "text/html": [
       "\n",
       "  <div id=\"df-818fd3c8-8e6d-4621-8533-77a516a842eb\">\n",
       "    <div class=\"colab-df-container\">\n",
       "      <div>\n",
       "<style scoped>\n",
       "    .dataframe tbody tr th:only-of-type {\n",
       "        vertical-align: middle;\n",
       "    }\n",
       "\n",
       "    .dataframe tbody tr th {\n",
       "        vertical-align: top;\n",
       "    }\n",
       "\n",
       "    .dataframe thead th {\n",
       "        text-align: right;\n",
       "    }\n",
       "</style>\n",
       "<table border=\"1\" class=\"dataframe\">\n",
       "  <thead>\n",
       "    <tr style=\"text-align: right;\">\n",
       "      <th></th>\n",
       "      <th>log_time_duration</th>\n",
       "    </tr>\n",
       "  </thead>\n",
       "  <tbody>\n",
       "    <tr>\n",
       "      <th>879655</th>\n",
       "      <td>6.329721</td>\n",
       "    </tr>\n",
       "    <tr>\n",
       "      <th>646838</th>\n",
       "      <td>6.186209</td>\n",
       "    </tr>\n",
       "    <tr>\n",
       "      <th>1138713</th>\n",
       "      <td>6.955593</td>\n",
       "    </tr>\n",
       "    <tr>\n",
       "      <th>864716</th>\n",
       "      <td>6.052089</td>\n",
       "    </tr>\n",
       "    <tr>\n",
       "      <th>434927</th>\n",
       "      <td>6.011267</td>\n",
       "    </tr>\n",
       "    <tr>\n",
       "      <th>...</th>\n",
       "      <td>...</td>\n",
       "    </tr>\n",
       "    <tr>\n",
       "      <th>259178</th>\n",
       "      <td>7.155396</td>\n",
       "    </tr>\n",
       "    <tr>\n",
       "      <th>1414414</th>\n",
       "      <td>6.725034</td>\n",
       "    </tr>\n",
       "    <tr>\n",
       "      <th>131932</th>\n",
       "      <td>7.158514</td>\n",
       "    </tr>\n",
       "    <tr>\n",
       "      <th>671155</th>\n",
       "      <td>5.963579</td>\n",
       "    </tr>\n",
       "    <tr>\n",
       "      <th>121958</th>\n",
       "      <td>7.358831</td>\n",
       "    </tr>\n",
       "  </tbody>\n",
       "</table>\n",
       "<p>1312779 rows × 1 columns</p>\n",
       "</div>\n",
       "      <button class=\"colab-df-convert\" onclick=\"convertToInteractive('df-818fd3c8-8e6d-4621-8533-77a516a842eb')\"\n",
       "              title=\"Convert this dataframe to an interactive table.\"\n",
       "              style=\"display:none;\">\n",
       "        \n",
       "  <svg xmlns=\"http://www.w3.org/2000/svg\" height=\"24px\"viewBox=\"0 0 24 24\"\n",
       "       width=\"24px\">\n",
       "    <path d=\"M0 0h24v24H0V0z\" fill=\"none\"/>\n",
       "    <path d=\"M18.56 5.44l.94 2.06.94-2.06 2.06-.94-2.06-.94-.94-2.06-.94 2.06-2.06.94zm-11 1L8.5 8.5l.94-2.06 2.06-.94-2.06-.94L8.5 2.5l-.94 2.06-2.06.94zm10 10l.94 2.06.94-2.06 2.06-.94-2.06-.94-.94-2.06-.94 2.06-2.06.94z\"/><path d=\"M17.41 7.96l-1.37-1.37c-.4-.4-.92-.59-1.43-.59-.52 0-1.04.2-1.43.59L10.3 9.45l-7.72 7.72c-.78.78-.78 2.05 0 2.83L4 21.41c.39.39.9.59 1.41.59.51 0 1.02-.2 1.41-.59l7.78-7.78 2.81-2.81c.8-.78.8-2.07 0-2.86zM5.41 20L4 18.59l7.72-7.72 1.47 1.35L5.41 20z\"/>\n",
       "  </svg>\n",
       "      </button>\n",
       "      \n",
       "  <style>\n",
       "    .colab-df-container {\n",
       "      display:flex;\n",
       "      flex-wrap:wrap;\n",
       "      gap: 12px;\n",
       "    }\n",
       "\n",
       "    .colab-df-convert {\n",
       "      background-color: #E8F0FE;\n",
       "      border: none;\n",
       "      border-radius: 50%;\n",
       "      cursor: pointer;\n",
       "      display: none;\n",
       "      fill: #1967D2;\n",
       "      height: 32px;\n",
       "      padding: 0 0 0 0;\n",
       "      width: 32px;\n",
       "    }\n",
       "\n",
       "    .colab-df-convert:hover {\n",
       "      background-color: #E2EBFA;\n",
       "      box-shadow: 0px 1px 2px rgba(60, 64, 67, 0.3), 0px 1px 3px 1px rgba(60, 64, 67, 0.15);\n",
       "      fill: #174EA6;\n",
       "    }\n",
       "\n",
       "    [theme=dark] .colab-df-convert {\n",
       "      background-color: #3B4455;\n",
       "      fill: #D2E3FC;\n",
       "    }\n",
       "\n",
       "    [theme=dark] .colab-df-convert:hover {\n",
       "      background-color: #434B5C;\n",
       "      box-shadow: 0px 1px 3px 1px rgba(0, 0, 0, 0.15);\n",
       "      filter: drop-shadow(0px 1px 2px rgba(0, 0, 0, 0.3));\n",
       "      fill: #FFFFFF;\n",
       "    }\n",
       "  </style>\n",
       "\n",
       "      <script>\n",
       "        const buttonEl =\n",
       "          document.querySelector('#df-818fd3c8-8e6d-4621-8533-77a516a842eb button.colab-df-convert');\n",
       "        buttonEl.style.display =\n",
       "          google.colab.kernel.accessAllowed ? 'block' : 'none';\n",
       "\n",
       "        async function convertToInteractive(key) {\n",
       "          const element = document.querySelector('#df-818fd3c8-8e6d-4621-8533-77a516a842eb');\n",
       "          const dataTable =\n",
       "            await google.colab.kernel.invokeFunction('convertToInteractive',\n",
       "                                                     [key], {});\n",
       "          if (!dataTable) return;\n",
       "\n",
       "          const docLinkHtml = 'Like what you see? Visit the ' +\n",
       "            '<a target=\"_blank\" href=https://colab.research.google.com/notebooks/data_table.ipynb>data table notebook</a>'\n",
       "            + ' to learn more about interactive tables.';\n",
       "          element.innerHTML = '';\n",
       "          dataTable['output_type'] = 'display_data';\n",
       "          await google.colab.output.renderOutput(dataTable, element);\n",
       "          const docLink = document.createElement('div');\n",
       "          docLink.innerHTML = docLinkHtml;\n",
       "          element.appendChild(docLink);\n",
       "        }\n",
       "      </script>\n",
       "    </div>\n",
       "  </div>\n",
       "  "
      ],
      "text/plain": [
       "         log_time_duration\n",
       "879655            6.329721\n",
       "646838            6.186209\n",
       "1138713           6.955593\n",
       "864716            6.052089\n",
       "434927            6.011267\n",
       "...                    ...\n",
       "259178            7.155396\n",
       "1414414           6.725034\n",
       "131932            7.158514\n",
       "671155            5.963579\n",
       "121958            7.358831\n",
       "\n",
       "[1312779 rows x 1 columns]"
      ]
     },
     "execution_count": 42,
     "metadata": {},
     "output_type": "execute_result"
    }
   ],
   "source": [
    "train_targets"
   ]
  },
  {
   "cell_type": "code",
   "execution_count": null,
   "metadata": {
    "id": "8L5fkv3EIHDV"
   },
   "outputs": [],
   "source": [
    "from sklearn.metrics import mean_squared_error"
   ]
  },
  {
   "cell_type": "code",
   "execution_count": null,
   "metadata": {
    "id": "aDkDRvvnFkcN"
   },
   "outputs": [],
   "source": [
    "train_rmse=mean_squared_error(train_preds, train_targets, squared=False)\n",
    "val_rmse=mean_squared_error(val_preds, val_targets, squared=False)"
   ]
  },
  {
   "cell_type": "code",
   "execution_count": null,
   "metadata": {
    "colab": {
     "base_uri": "https://localhost:8080/"
    },
    "executionInfo": {
     "elapsed": 56,
     "status": "ok",
     "timestamp": 1655717094390,
     "user": {
      "displayName": "Noorullah Rizwan",
      "userId": "14596611615912427721"
     },
     "user_tz": 420
    },
    "id": "XE_vIbvLKHyX",
    "outputId": "1b440669-255d-489f-e5dd-e45f834f2b7b"
   },
   "outputs": [
    {
     "data": {
      "text/plain": [
       "(0.1803041895047248, 0.4272864944470673)"
      ]
     },
     "execution_count": 45,
     "metadata": {},
     "output_type": "execute_result"
    }
   ],
   "source": [
    "train_rmse, val_rmse"
   ]
  },
  {
   "cell_type": "markdown",
   "metadata": {
    "id": "_sH3hDDbX5pQ"
   },
   "source": [
    "The training and validation errors have been calculated as above. "
   ]
  },
  {
   "cell_type": "code",
   "execution_count": null,
   "metadata": {
    "colab": {
     "base_uri": "https://localhost:8080/"
    },
    "executionInfo": {
     "elapsed": 49,
     "status": "ok",
     "timestamp": 1655717094395,
     "user": {
      "displayName": "Noorullah Rizwan",
      "userId": "14596611615912427721"
     },
     "user_tz": 420
    },
    "id": "X-Vtp1XLKaV6",
    "outputId": "6b6c8a60-6d16-40fd-f4c8-cec36b7c5e53"
   },
   "outputs": [
    {
     "data": {
      "text/plain": [
       "array([6.63749101, 6.57875352, 5.91708045, ..., 7.73107684, 5.86113437,\n",
       "       5.46503797])"
      ]
     },
     "execution_count": 46,
     "metadata": {},
     "output_type": "execute_result"
    }
   ],
   "source": [
    "val_preds"
   ]
  },
  {
   "cell_type": "code",
   "execution_count": null,
   "metadata": {
    "colab": {
     "base_uri": "https://localhost:8080/",
     "height": 424
    },
    "executionInfo": {
     "elapsed": 45,
     "status": "ok",
     "timestamp": 1655717094398,
     "user": {
      "displayName": "Noorullah Rizwan",
      "userId": "14596611615912427721"
     },
     "user_tz": 420
    },
    "id": "408QL7-UKe5v",
    "outputId": "01c29470-c608-407e-a697-8e67e79d10fb"
   },
   "outputs": [
    {
     "data": {
      "text/html": [
       "\n",
       "  <div id=\"df-3f021089-2907-4cd6-aebf-63a3ebec4cc4\">\n",
       "    <div class=\"colab-df-container\">\n",
       "      <div>\n",
       "<style scoped>\n",
       "    .dataframe tbody tr th:only-of-type {\n",
       "        vertical-align: middle;\n",
       "    }\n",
       "\n",
       "    .dataframe tbody tr th {\n",
       "        vertical-align: top;\n",
       "    }\n",
       "\n",
       "    .dataframe thead th {\n",
       "        text-align: right;\n",
       "    }\n",
       "</style>\n",
       "<table border=\"1\" class=\"dataframe\">\n",
       "  <thead>\n",
       "    <tr style=\"text-align: right;\">\n",
       "      <th></th>\n",
       "      <th>log_time_duration</th>\n",
       "    </tr>\n",
       "  </thead>\n",
       "  <tbody>\n",
       "    <tr>\n",
       "      <th>67250</th>\n",
       "      <td>6.946976</td>\n",
       "    </tr>\n",
       "    <tr>\n",
       "      <th>1397036</th>\n",
       "      <td>6.717805</td>\n",
       "    </tr>\n",
       "    <tr>\n",
       "      <th>1021087</th>\n",
       "      <td>6.419995</td>\n",
       "    </tr>\n",
       "    <tr>\n",
       "      <th>951424</th>\n",
       "      <td>6.765039</td>\n",
       "    </tr>\n",
       "    <tr>\n",
       "      <th>707882</th>\n",
       "      <td>8.510571</td>\n",
       "    </tr>\n",
       "    <tr>\n",
       "      <th>...</th>\n",
       "      <td>...</td>\n",
       "    </tr>\n",
       "    <tr>\n",
       "      <th>526279</th>\n",
       "      <td>5.978886</td>\n",
       "    </tr>\n",
       "    <tr>\n",
       "      <th>80354</th>\n",
       "      <td>6.658011</td>\n",
       "    </tr>\n",
       "    <tr>\n",
       "      <th>328645</th>\n",
       "      <td>7.759614</td>\n",
       "    </tr>\n",
       "    <tr>\n",
       "      <th>657429</th>\n",
       "      <td>5.973810</td>\n",
       "    </tr>\n",
       "    <tr>\n",
       "      <th>128732</th>\n",
       "      <td>6.638568</td>\n",
       "    </tr>\n",
       "  </tbody>\n",
       "</table>\n",
       "<p>145865 rows × 1 columns</p>\n",
       "</div>\n",
       "      <button class=\"colab-df-convert\" onclick=\"convertToInteractive('df-3f021089-2907-4cd6-aebf-63a3ebec4cc4')\"\n",
       "              title=\"Convert this dataframe to an interactive table.\"\n",
       "              style=\"display:none;\">\n",
       "        \n",
       "  <svg xmlns=\"http://www.w3.org/2000/svg\" height=\"24px\"viewBox=\"0 0 24 24\"\n",
       "       width=\"24px\">\n",
       "    <path d=\"M0 0h24v24H0V0z\" fill=\"none\"/>\n",
       "    <path d=\"M18.56 5.44l.94 2.06.94-2.06 2.06-.94-2.06-.94-.94-2.06-.94 2.06-2.06.94zm-11 1L8.5 8.5l.94-2.06 2.06-.94-2.06-.94L8.5 2.5l-.94 2.06-2.06.94zm10 10l.94 2.06.94-2.06 2.06-.94-2.06-.94-.94-2.06-.94 2.06-2.06.94z\"/><path d=\"M17.41 7.96l-1.37-1.37c-.4-.4-.92-.59-1.43-.59-.52 0-1.04.2-1.43.59L10.3 9.45l-7.72 7.72c-.78.78-.78 2.05 0 2.83L4 21.41c.39.39.9.59 1.41.59.51 0 1.02-.2 1.41-.59l7.78-7.78 2.81-2.81c.8-.78.8-2.07 0-2.86zM5.41 20L4 18.59l7.72-7.72 1.47 1.35L5.41 20z\"/>\n",
       "  </svg>\n",
       "      </button>\n",
       "      \n",
       "  <style>\n",
       "    .colab-df-container {\n",
       "      display:flex;\n",
       "      flex-wrap:wrap;\n",
       "      gap: 12px;\n",
       "    }\n",
       "\n",
       "    .colab-df-convert {\n",
       "      background-color: #E8F0FE;\n",
       "      border: none;\n",
       "      border-radius: 50%;\n",
       "      cursor: pointer;\n",
       "      display: none;\n",
       "      fill: #1967D2;\n",
       "      height: 32px;\n",
       "      padding: 0 0 0 0;\n",
       "      width: 32px;\n",
       "    }\n",
       "\n",
       "    .colab-df-convert:hover {\n",
       "      background-color: #E2EBFA;\n",
       "      box-shadow: 0px 1px 2px rgba(60, 64, 67, 0.3), 0px 1px 3px 1px rgba(60, 64, 67, 0.15);\n",
       "      fill: #174EA6;\n",
       "    }\n",
       "\n",
       "    [theme=dark] .colab-df-convert {\n",
       "      background-color: #3B4455;\n",
       "      fill: #D2E3FC;\n",
       "    }\n",
       "\n",
       "    [theme=dark] .colab-df-convert:hover {\n",
       "      background-color: #434B5C;\n",
       "      box-shadow: 0px 1px 3px 1px rgba(0, 0, 0, 0.15);\n",
       "      filter: drop-shadow(0px 1px 2px rgba(0, 0, 0, 0.3));\n",
       "      fill: #FFFFFF;\n",
       "    }\n",
       "  </style>\n",
       "\n",
       "      <script>\n",
       "        const buttonEl =\n",
       "          document.querySelector('#df-3f021089-2907-4cd6-aebf-63a3ebec4cc4 button.colab-df-convert');\n",
       "        buttonEl.style.display =\n",
       "          google.colab.kernel.accessAllowed ? 'block' : 'none';\n",
       "\n",
       "        async function convertToInteractive(key) {\n",
       "          const element = document.querySelector('#df-3f021089-2907-4cd6-aebf-63a3ebec4cc4');\n",
       "          const dataTable =\n",
       "            await google.colab.kernel.invokeFunction('convertToInteractive',\n",
       "                                                     [key], {});\n",
       "          if (!dataTable) return;\n",
       "\n",
       "          const docLinkHtml = 'Like what you see? Visit the ' +\n",
       "            '<a target=\"_blank\" href=https://colab.research.google.com/notebooks/data_table.ipynb>data table notebook</a>'\n",
       "            + ' to learn more about interactive tables.';\n",
       "          element.innerHTML = '';\n",
       "          dataTable['output_type'] = 'display_data';\n",
       "          await google.colab.output.renderOutput(dataTable, element);\n",
       "          const docLink = document.createElement('div');\n",
       "          docLink.innerHTML = docLinkHtml;\n",
       "          element.appendChild(docLink);\n",
       "        }\n",
       "      </script>\n",
       "    </div>\n",
       "  </div>\n",
       "  "
      ],
      "text/plain": [
       "         log_time_duration\n",
       "67250             6.946976\n",
       "1397036           6.717805\n",
       "1021087           6.419995\n",
       "951424            6.765039\n",
       "707882            8.510571\n",
       "...                    ...\n",
       "526279            5.978886\n",
       "80354             6.658011\n",
       "328645            7.759614\n",
       "657429            5.973810\n",
       "128732            6.638568\n",
       "\n",
       "[145865 rows x 1 columns]"
      ]
     },
     "execution_count": 47,
     "metadata": {},
     "output_type": "execute_result"
    }
   ],
   "source": [
    "val_targets"
   ]
  },
  {
   "cell_type": "code",
   "execution_count": null,
   "metadata": {
    "colab": {
     "base_uri": "https://localhost:8080/"
    },
    "executionInfo": {
     "elapsed": 47,
     "status": "ok",
     "timestamp": 1655717094401,
     "user": {
      "displayName": "Noorullah Rizwan",
      "userId": "14596611615912427721"
     },
     "user_tz": 420
    },
    "id": "vo9_6krHQUEr",
    "outputId": "bd99d088-5e3d-4889-d06e-35876726f7dc"
   },
   "outputs": [
    {
     "data": {
      "text/plain": [
       "log_time_duration    6.465028\n",
       "dtype: float64"
      ]
     },
     "execution_count": 48,
     "metadata": {},
     "output_type": "execute_result"
    }
   ],
   "source": [
    "val_targets.mean()"
   ]
  },
  {
   "cell_type": "code",
   "execution_count": null,
   "metadata": {
    "colab": {
     "base_uri": "https://localhost:8080/",
     "height": 87
    },
    "executionInfo": {
     "elapsed": 2514,
     "status": "ok",
     "timestamp": 1655717096875,
     "user": {
      "displayName": "Noorullah Rizwan",
      "userId": "14596611615912427721"
     },
     "user_tz": 420
    },
    "id": "veBF8Z7KKhD0",
    "outputId": "da89cdc7-819a-43ff-cba6-dcaf8d45f6a9"
   },
   "outputs": [
    {
     "name": "stdout",
     "output_type": "stream",
     "text": [
      "[jovian] Detected Colab notebook...\u001b[0m\n",
      "[jovian] Uploading colab notebook to Jovian...\u001b[0m\n",
      "Committed successfully! https://jovian.ai/noorullah-rizwann/course-project-taxi-trip-duration\n"
     ]
    },
    {
     "data": {
      "application/vnd.google.colaboratory.intrinsic+json": {
       "type": "string"
      },
      "text/plain": [
       "'https://jovian.ai/noorullah-rizwann/course-project-taxi-trip-duration'"
      ]
     },
     "execution_count": 49,
     "metadata": {},
     "output_type": "execute_result"
    }
   ],
   "source": [
    "jovian.commit()"
   ]
  },
  {
   "cell_type": "code",
   "execution_count": null,
   "metadata": {
    "id": "mqOvEKZCKnb3"
   },
   "outputs": [],
   "source": [
    "import matplotlib.pyplot as plt\n",
    "from sklearn.tree import plot_tree, export_text"
   ]
  },
  {
   "cell_type": "markdown",
   "metadata": {
    "id": "QxFwBULdY69q"
   },
   "source": [
    "### HyperParameter Tuning\n",
    "Now we will try hyperparameter tuning to reduce the validation error on the overfitting curve for the RandomForestRegressor model we created"
   ]
  },
  {
   "cell_type": "markdown",
   "metadata": {
    "id": "p3dg6UpnY9lg"
   },
   "source": [
    "We will create a helper function test_params and pass to it different values of parameters and analyze the errors"
   ]
  },
  {
   "cell_type": "code",
   "execution_count": null,
   "metadata": {
    "id": "7UYkC3LMYwdo"
   },
   "outputs": [],
   "source": [
    "def test_params(**params):\n",
    "    model = RandomForestRegressor(random_state=42, n_jobs=-1, **params).fit(train_inputs, train_targets)\n",
    "    train_rmse = mean_squared_error(model.predict(train_inputs), train_targets, squared=False)\n",
    "    val_rmse = mean_squared_error(model.predict(val_inputs), val_targets, squared=False)\n",
    "    return train_rmse, val_rmse"
   ]
  },
  {
   "cell_type": "markdown",
   "metadata": {
    "id": "5CmGEv-nkqEM"
   },
   "source": [
    "#### n_estimators"
   ]
  },
  {
   "cell_type": "code",
   "execution_count": null,
   "metadata": {
    "colab": {
     "base_uri": "https://localhost:8080/"
    },
    "executionInfo": {
     "elapsed": 74845,
     "status": "ok",
     "timestamp": 1655717171688,
     "user": {
      "displayName": "Noorullah Rizwan",
      "userId": "14596611615912427721"
     },
     "user_tz": 420
    },
    "id": "rfyrUQQWJHii",
    "outputId": "0b1ef8d9-8a23-403b-c5f5-e4dd83fa06e0"
   },
   "outputs": [
    {
     "name": "stderr",
     "output_type": "stream",
     "text": [
      "/usr/local/lib/python3.7/dist-packages/ipykernel_launcher.py:2: DataConversionWarning: A column-vector y was passed when a 1d array was expected. Please change the shape of y to (n_samples,), for example using ravel().\n",
      "  \n"
     ]
    },
    {
     "data": {
      "text/plain": [
       "(0.20821658960877765, 0.44931706436269475)"
      ]
     },
     "execution_count": 51,
     "metadata": {},
     "output_type": "execute_result"
    }
   ],
   "source": [
    "test_params(n_estimators=5)"
   ]
  },
  {
   "cell_type": "code",
   "execution_count": null,
   "metadata": {
    "colab": {
     "base_uri": "https://localhost:8080/"
    },
    "executionInfo": {
     "elapsed": 224638,
     "status": "ok",
     "timestamp": 1655717396289,
     "user": {
      "displayName": "Noorullah Rizwan",
      "userId": "14596611615912427721"
     },
     "user_tz": 420
    },
    "id": "knGmHzC-UGjv",
    "outputId": "0568b434-8abc-4b12-aa79-7bcc8b8b7cb9"
   },
   "outputs": [
    {
     "name": "stderr",
     "output_type": "stream",
     "text": [
      "/usr/local/lib/python3.7/dist-packages/ipykernel_launcher.py:2: DataConversionWarning: A column-vector y was passed when a 1d array was expected. Please change the shape of y to (n_samples,), for example using ravel().\n",
      "  \n"
     ]
    },
    {
     "data": {
      "text/plain": [
       "(0.1700276463481815, 0.419667826924148)"
      ]
     },
     "execution_count": 52,
     "metadata": {},
     "output_type": "execute_result"
    }
   ],
   "source": [
    "test_params(n_estimators=15)"
   ]
  },
  {
   "cell_type": "code",
   "execution_count": null,
   "metadata": {
    "colab": {
     "base_uri": "https://localhost:8080/"
    },
    "executionInfo": {
     "elapsed": 297699,
     "status": "ok",
     "timestamp": 1655717693939,
     "user": {
      "displayName": "Noorullah Rizwan",
      "userId": "14596611615912427721"
     },
     "user_tz": 420
    },
    "id": "PVi_UX0NTJOC",
    "outputId": "e1881d79-206a-4f84-f008-745141402b69"
   },
   "outputs": [
    {
     "name": "stderr",
     "output_type": "stream",
     "text": [
      "/usr/local/lib/python3.7/dist-packages/ipykernel_launcher.py:2: DataConversionWarning: A column-vector y was passed when a 1d array was expected. Please change the shape of y to (n_samples,), for example using ravel().\n",
      "  \n"
     ]
    },
    {
     "data": {
      "text/plain": [
       "(0.16454596102462402, 0.41593562272911627)"
      ]
     },
     "execution_count": 53,
     "metadata": {},
     "output_type": "execute_result"
    }
   ],
   "source": [
    "test_params(n_estimators=20)"
   ]
  },
  {
   "cell_type": "markdown",
   "metadata": {
    "id": "NswwzzeNZLkF"
   },
   "source": [
    "n_estimators=20 seems to be a better value as it gives the lowest validation error"
   ]
  },
  {
   "cell_type": "markdown",
   "metadata": {
    "id": "Ywodw7GVZet1"
   },
   "source": [
    "Another helper fubction is defined with a n_estimators set at 20 and varying other parameters to see the errors"
   ]
  },
  {
   "cell_type": "code",
   "execution_count": null,
   "metadata": {
    "id": "fSdaap8zVqrm"
   },
   "outputs": [],
   "source": [
    "def test_params_const_n_est(**params):\n",
    "    model = RandomForestRegressor(random_state=42, n_jobs=-1, n_estimators=20, **params).fit(train_inputs, train_targets)\n",
    "    train_rmse = mean_squared_error(model.predict(train_inputs), train_targets, squared=False)\n",
    "    val_rmse = mean_squared_error(model.predict(val_inputs), val_targets, squared=False)\n",
    "    return train_rmse, val_rmse"
   ]
  },
  {
   "cell_type": "markdown",
   "metadata": {
    "id": "CMbv8OLHk2Iw"
   },
   "source": [
    "#### max_depth"
   ]
  },
  {
   "cell_type": "code",
   "execution_count": null,
   "metadata": {
    "colab": {
     "base_uri": "https://localhost:8080/"
    },
    "executionInfo": {
     "elapsed": 68757,
     "status": "ok",
     "timestamp": 1655717762631,
     "user": {
      "displayName": "Noorullah Rizwan",
      "userId": "14596611615912427721"
     },
     "user_tz": 420
    },
    "id": "FttJoCCdMHwV",
    "outputId": "5aa0e3b4-df55-4255-87ff-606f01a2b3bf"
   },
   "outputs": [
    {
     "name": "stderr",
     "output_type": "stream",
     "text": [
      "/usr/local/lib/python3.7/dist-packages/ipykernel_launcher.py:2: DataConversionWarning: A column-vector y was passed when a 1d array was expected. Please change the shape of y to (n_samples,), for example using ravel().\n",
      "  \n"
     ]
    },
    {
     "data": {
      "text/plain": [
       "(0.5339011936126692, 0.5383776512083263)"
      ]
     },
     "execution_count": 56,
     "metadata": {},
     "output_type": "execute_result"
    }
   ],
   "source": [
    "test_params_const_n_est(max_depth=5)"
   ]
  },
  {
   "cell_type": "code",
   "execution_count": null,
   "metadata": {
    "colab": {
     "base_uri": "https://localhost:8080/"
    },
    "executionInfo": {
     "elapsed": 127994,
     "status": "ok",
     "timestamp": 1655717890587,
     "user": {
      "displayName": "Noorullah Rizwan",
      "userId": "14596611615912427721"
     },
     "user_tz": 420
    },
    "id": "BhIIcw13JtOv",
    "outputId": "0e0bf45f-9c60-4b26-f5d9-34c237d3c123"
   },
   "outputs": [
    {
     "name": "stderr",
     "output_type": "stream",
     "text": [
      "/usr/local/lib/python3.7/dist-packages/ipykernel_launcher.py:2: DataConversionWarning: A column-vector y was passed when a 1d array was expected. Please change the shape of y to (n_samples,), for example using ravel().\n",
      "  \n"
     ]
    },
    {
     "data": {
      "text/plain": [
       "(0.45833207679056237, 0.46780473876465506)"
      ]
     },
     "execution_count": 57,
     "metadata": {},
     "output_type": "execute_result"
    }
   ],
   "source": [
    "test_params_const_n_est(max_depth=10)"
   ]
  },
  {
   "cell_type": "code",
   "execution_count": null,
   "metadata": {
    "colab": {
     "base_uri": "https://localhost:8080/"
    },
    "executionInfo": {
     "elapsed": 223669,
     "status": "ok",
     "timestamp": 1655718114217,
     "user": {
      "displayName": "Noorullah Rizwan",
      "userId": "14596611615912427721"
     },
     "user_tz": 420
    },
    "id": "Py-62RksnrHx",
    "outputId": "008491bb-b45e-493d-b44b-1ba14e041647"
   },
   "outputs": [
    {
     "name": "stderr",
     "output_type": "stream",
     "text": [
      "/usr/local/lib/python3.7/dist-packages/ipykernel_launcher.py:2: DataConversionWarning: A column-vector y was passed when a 1d array was expected. Please change the shape of y to (n_samples,), for example using ravel().\n",
      "  \n"
     ]
    },
    {
     "data": {
      "text/plain": [
       "(0.3161938181285681, 0.4226642814059941)"
      ]
     },
     "execution_count": 58,
     "metadata": {},
     "output_type": "execute_result"
    }
   ],
   "source": [
    "test_params_const_n_est(max_depth=20)"
   ]
  },
  {
   "cell_type": "code",
   "execution_count": null,
   "metadata": {
    "colab": {
     "base_uri": "https://localhost:8080/"
    },
    "executionInfo": {
     "elapsed": 283275,
     "status": "ok",
     "timestamp": 1655718397445,
     "user": {
      "displayName": "Noorullah Rizwan",
      "userId": "14596611615912427721"
     },
     "user_tz": 420
    },
    "id": "37xb9IzzTv8T",
    "outputId": "56620e1c-c4ba-45c4-9e0a-fc4d5612392a"
   },
   "outputs": [
    {
     "name": "stderr",
     "output_type": "stream",
     "text": [
      "/usr/local/lib/python3.7/dist-packages/ipykernel_launcher.py:2: DataConversionWarning: A column-vector y was passed when a 1d array was expected. Please change the shape of y to (n_samples,), for example using ravel().\n",
      "  \n"
     ]
    },
    {
     "data": {
      "text/plain": [
       "(0.1863304363366188, 0.415743399978883)"
      ]
     },
     "execution_count": 59,
     "metadata": {},
     "output_type": "execute_result"
    }
   ],
   "source": [
    "test_params_const_n_est(max_depth=30)"
   ]
  },
  {
   "cell_type": "markdown",
   "metadata": {
    "id": "F-6xcIJpZ2TQ"
   },
   "source": [
    "The max_depth of 20 seems to give the lowest validation error"
   ]
  },
  {
   "cell_type": "markdown",
   "metadata": {
    "id": "NZhLUDCtk66W"
   },
   "source": [
    "#### min_samples_leaf"
   ]
  },
  {
   "cell_type": "code",
   "execution_count": null,
   "metadata": {
    "colab": {
     "base_uri": "https://localhost:8080/"
    },
    "executionInfo": {
     "elapsed": 288303,
     "status": "ok",
     "timestamp": 1655718685715,
     "user": {
      "displayName": "Noorullah Rizwan",
      "userId": "14596611615912427721"
     },
     "user_tz": 420
    },
    "id": "pJQfnwPdMZRe",
    "outputId": "5575d6b7-74d3-4907-e271-e762288dfcbc"
   },
   "outputs": [
    {
     "name": "stderr",
     "output_type": "stream",
     "text": [
      "/usr/local/lib/python3.7/dist-packages/ipykernel_launcher.py:2: DataConversionWarning: A column-vector y was passed when a 1d array was expected. Please change the shape of y to (n_samples,), for example using ravel().\n",
      "  \n"
     ]
    },
    {
     "data": {
      "text/plain": [
       "(0.16454596102462402, 0.41593562272911627)"
      ]
     },
     "execution_count": 60,
     "metadata": {},
     "output_type": "execute_result"
    }
   ],
   "source": [
    "test_params_const_n_est(min_samples_leaf=1)"
   ]
  },
  {
   "cell_type": "code",
   "execution_count": null,
   "metadata": {
    "colab": {
     "base_uri": "https://localhost:8080/"
    },
    "executionInfo": {
     "elapsed": 253806,
     "status": "ok",
     "timestamp": 1655718939476,
     "user": {
      "displayName": "Noorullah Rizwan",
      "userId": "14596611615912427721"
     },
     "user_tz": 420
    },
    "id": "PvzJjN2HYXgx",
    "outputId": "6a1c59d8-898b-4aa1-8c2e-a50ecb7bf5e1"
   },
   "outputs": [
    {
     "name": "stderr",
     "output_type": "stream",
     "text": [
      "/usr/local/lib/python3.7/dist-packages/ipykernel_launcher.py:2: DataConversionWarning: A column-vector y was passed when a 1d array was expected. Please change the shape of y to (n_samples,), for example using ravel().\n",
      "  \n"
     ]
    },
    {
     "data": {
      "text/plain": [
       "(0.24624714139194423, 0.4115908622267881)"
      ]
     },
     "execution_count": 61,
     "metadata": {},
     "output_type": "execute_result"
    }
   ],
   "source": [
    "test_params_const_n_est(min_samples_leaf=3)"
   ]
  },
  {
   "cell_type": "code",
   "execution_count": null,
   "metadata": {
    "colab": {
     "base_uri": "https://localhost:8080/"
    },
    "executionInfo": {
     "elapsed": 234811,
     "status": "ok",
     "timestamp": 1655719174256,
     "user": {
      "displayName": "Noorullah Rizwan",
      "userId": "14596611615912427721"
     },
     "user_tz": 420
    },
    "id": "fp0sZB5fYamb",
    "outputId": "2822698e-ab9d-4260-cf77-6af111f8db69"
   },
   "outputs": [
    {
     "name": "stderr",
     "output_type": "stream",
     "text": [
      "/usr/local/lib/python3.7/dist-packages/ipykernel_launcher.py:2: DataConversionWarning: A column-vector y was passed when a 1d array was expected. Please change the shape of y to (n_samples,), for example using ravel().\n",
      "  \n"
     ]
    },
    {
     "data": {
      "text/plain": [
       "(0.3021262139504197, 0.41006658001128465)"
      ]
     },
     "execution_count": 62,
     "metadata": {},
     "output_type": "execute_result"
    }
   ],
   "source": [
    "test_params_const_n_est(min_samples_leaf=6)"
   ]
  },
  {
   "cell_type": "markdown",
   "metadata": {
    "id": "GsJn2av3aEqw"
   },
   "source": [
    "min_samples_leaf doesn't have a major effect on the errors"
   ]
  },
  {
   "cell_type": "markdown",
   "metadata": {
    "id": "3QUjV1hBlCOY"
   },
   "source": [
    "#### max_features"
   ]
  },
  {
   "cell_type": "code",
   "execution_count": null,
   "metadata": {
    "colab": {
     "base_uri": "https://localhost:8080/"
    },
    "executionInfo": {
     "elapsed": 85515,
     "status": "ok",
     "timestamp": 1655719259738,
     "user": {
      "displayName": "Noorullah Rizwan",
      "userId": "14596611615912427721"
     },
     "user_tz": 420
    },
    "id": "V9P08YrvS2Kh",
    "outputId": "614b5aa1-07d9-44cf-a1a1-bca073a84832"
   },
   "outputs": [
    {
     "name": "stderr",
     "output_type": "stream",
     "text": [
      "/usr/local/lib/python3.7/dist-packages/ipykernel_launcher.py:2: DataConversionWarning: A column-vector y was passed when a 1d array was expected. Please change the shape of y to (n_samples,), for example using ravel().\n",
      "  \n"
     ]
    },
    {
     "data": {
      "text/plain": [
       "(0.1688778313082322, 0.4254865645087845)"
      ]
     },
     "execution_count": 63,
     "metadata": {},
     "output_type": "execute_result"
    }
   ],
   "source": [
    "test_params_const_n_est(max_features=0.2)"
   ]
  },
  {
   "cell_type": "code",
   "execution_count": null,
   "metadata": {
    "colab": {
     "base_uri": "https://localhost:8080/"
    },
    "executionInfo": {
     "elapsed": 216273,
     "status": "ok",
     "timestamp": 1655719475950,
     "user": {
      "displayName": "Noorullah Rizwan",
      "userId": "14596611615912427721"
     },
     "user_tz": 420
    },
    "id": "yiMd5ebuS2W1",
    "outputId": "4453c728-dcfd-48f1-df93-c52379db187b"
   },
   "outputs": [
    {
     "name": "stderr",
     "output_type": "stream",
     "text": [
      "/usr/local/lib/python3.7/dist-packages/ipykernel_launcher.py:2: DataConversionWarning: A column-vector y was passed when a 1d array was expected. Please change the shape of y to (n_samples,), for example using ravel().\n",
      "  \n"
     ]
    },
    {
     "data": {
      "text/plain": [
       "(0.16304893393879588, 0.4123610643914954)"
      ]
     },
     "execution_count": 64,
     "metadata": {},
     "output_type": "execute_result"
    }
   ],
   "source": [
    "test_params_const_n_est(max_features=0.5)"
   ]
  },
  {
   "cell_type": "code",
   "execution_count": null,
   "metadata": {
    "colab": {
     "base_uri": "https://localhost:8080/"
    },
    "executionInfo": {
     "elapsed": 242480,
     "status": "ok",
     "timestamp": 1655719718413,
     "user": {
      "displayName": "Noorullah Rizwan",
      "userId": "14596611615912427721"
     },
     "user_tz": 420
    },
    "id": "YW8F_gPkThxv",
    "outputId": "957f896c-44cd-45c2-cf67-ed1ab19d0d12"
   },
   "outputs": [
    {
     "name": "stderr",
     "output_type": "stream",
     "text": [
      "/usr/local/lib/python3.7/dist-packages/ipykernel_launcher.py:2: DataConversionWarning: A column-vector y was passed when a 1d array was expected. Please change the shape of y to (n_samples,), for example using ravel().\n",
      "  \n"
     ]
    },
    {
     "data": {
      "text/plain": [
       "(0.16364586915573745, 0.4142369687079782)"
      ]
     },
     "execution_count": 65,
     "metadata": {},
     "output_type": "execute_result"
    }
   ],
   "source": [
    "test_params_const_n_est(max_features=0.8)"
   ]
  },
  {
   "cell_type": "markdown",
   "metadata": {
    "id": "kJbv29I7aSVB"
   },
   "source": [
    "Same goes for max_features (No such effect on error)"
   ]
  },
  {
   "cell_type": "markdown",
   "metadata": {
    "id": "qegVK3hKaYm3"
   },
   "source": [
    "### Putting it Together for RandomForestRegressor"
   ]
  },
  {
   "cell_type": "code",
   "execution_count": null,
   "metadata": {
    "colab": {
     "base_uri": "https://localhost:8080/"
    },
    "executionInfo": {
     "elapsed": 129254,
     "status": "ok",
     "timestamp": 1655719847651,
     "user": {
      "displayName": "Noorullah Rizwan",
      "userId": "14596611615912427721"
     },
     "user_tz": 420
    },
    "id": "I78_R8DXWvWg",
    "outputId": "f3771cf3-b990-479b-a9ff-9295744001d8"
   },
   "outputs": [
    {
     "name": "stderr",
     "output_type": "stream",
     "text": [
      "/usr/local/lib/python3.7/dist-packages/ipykernel_launcher.py:2: DataConversionWarning: A column-vector y was passed when a 1d array was expected. Please change the shape of y to (n_samples,), for example using ravel().\n",
      "  \n"
     ]
    },
    {
     "data": {
      "text/plain": [
       "(0.31313634322036143, 0.40678104656174835)"
      ]
     },
     "execution_count": 66,
     "metadata": {},
     "output_type": "execute_result"
    }
   ],
   "source": [
    "test_params(n_estimators=20, max_depth=30, min_samples_leaf=6, max_features=0.5)"
   ]
  },
  {
   "cell_type": "markdown",
   "metadata": {
    "id": "5vfFvwIOaBiH"
   },
   "source": []
  },
  {
   "cell_type": "markdown",
   "metadata": {
    "id": "bcI1uWJBj7gi"
   },
   "source": [
    "##2: XGBoost"
   ]
  },
  {
   "cell_type": "markdown",
   "metadata": {
    "id": "vn8MzQstlzc3"
   },
   "source": [
    "### Training model & rmse loss"
   ]
  },
  {
   "cell_type": "code",
   "execution_count": null,
   "metadata": {
    "id": "qqkvfixeefi0"
   },
   "outputs": [],
   "source": [
    "from xgboost import XGBRegressor"
   ]
  },
  {
   "cell_type": "code",
   "execution_count": null,
   "metadata": {
    "id": "2UVH93YregF3"
   },
   "outputs": [],
   "source": [
    "model = XGBRegressor(random_state=42, n_jobs=-1, n_estimators=100, max_depth=20)"
   ]
  },
  {
   "cell_type": "code",
   "execution_count": null,
   "metadata": {
    "colab": {
     "base_uri": "https://localhost:8080/"
    },
    "executionInfo": {
     "elapsed": 980364,
     "status": "ok",
     "timestamp": 1655720827961,
     "user": {
      "displayName": "Noorullah Rizwan",
      "userId": "14596611615912427721"
     },
     "user_tz": 420
    },
    "id": "1n_B_Nt0egpz",
    "outputId": "7c2c478b-dac8-4266-d609-81b106d5fc54"
   },
   "outputs": [
    {
     "name": "stdout",
     "output_type": "stream",
     "text": [
      "[10:10:48] WARNING: /workspace/src/objective/regression_obj.cu:152: reg:linear is now deprecated in favor of reg:squarederror.\n"
     ]
    },
    {
     "data": {
      "text/plain": [
       "XGBRegressor(max_depth=20, n_jobs=-1, random_state=42)"
      ]
     },
     "execution_count": 69,
     "metadata": {},
     "output_type": "execute_result"
    }
   ],
   "source": [
    "model.fit(train_inputs, train_targets)"
   ]
  },
  {
   "cell_type": "code",
   "execution_count": null,
   "metadata": {
    "id": "oFoS7VOuehNN"
   },
   "outputs": [],
   "source": [
    "train_preds2=model.predict(train_inputs)\n",
    "val_preds2=model.predict(val_inputs)"
   ]
  },
  {
   "cell_type": "code",
   "execution_count": null,
   "metadata": {
    "id": "UqInTezcf5y6"
   },
   "outputs": [],
   "source": [
    "train_rmse2=mean_squared_error(train_preds2, train_targets)\n",
    "val_rmse2=mean_squared_error(val_preds2, val_targets)"
   ]
  },
  {
   "cell_type": "code",
   "execution_count": null,
   "metadata": {
    "colab": {
     "base_uri": "https://localhost:8080/"
    },
    "executionInfo": {
     "elapsed": 102,
     "status": "ok",
     "timestamp": 1655720903115,
     "user": {
      "displayName": "Noorullah Rizwan",
      "userId": "14596611615912427721"
     },
     "user_tz": 420
    },
    "id": "ibj41ypfgQ1u",
    "outputId": "35f013ad-2d5e-4b21-a45f-247975268f04"
   },
   "outputs": [
    {
     "data": {
      "text/plain": [
       "(0.01823574690850151, 0.15667657496307597)"
      ]
     },
     "execution_count": 72,
     "metadata": {},
     "output_type": "execute_result"
    }
   ],
   "source": [
    "train_rmse2, val_rmse2"
   ]
  },
  {
   "cell_type": "code",
   "execution_count": null,
   "metadata": {
    "colab": {
     "base_uri": "https://localhost:8080/",
     "height": 424
    },
    "executionInfo": {
     "elapsed": 96,
     "status": "ok",
     "timestamp": 1655720903118,
     "user": {
      "displayName": "Noorullah Rizwan",
      "userId": "14596611615912427721"
     },
     "user_tz": 420
    },
    "id": "eBx_oChWgYqt",
    "outputId": "1e16fc5a-fea5-40de-90ca-7c7aca4f3133"
   },
   "outputs": [
    {
     "data": {
      "text/html": [
       "\n",
       "  <div id=\"df-2cc52c12-bb1d-46e4-8ef0-6d45fb4a03f2\">\n",
       "    <div class=\"colab-df-container\">\n",
       "      <div>\n",
       "<style scoped>\n",
       "    .dataframe tbody tr th:only-of-type {\n",
       "        vertical-align: middle;\n",
       "    }\n",
       "\n",
       "    .dataframe tbody tr th {\n",
       "        vertical-align: top;\n",
       "    }\n",
       "\n",
       "    .dataframe thead th {\n",
       "        text-align: right;\n",
       "    }\n",
       "</style>\n",
       "<table border=\"1\" class=\"dataframe\">\n",
       "  <thead>\n",
       "    <tr style=\"text-align: right;\">\n",
       "      <th></th>\n",
       "      <th>log_time_duration</th>\n",
       "    </tr>\n",
       "  </thead>\n",
       "  <tbody>\n",
       "    <tr>\n",
       "      <th>67250</th>\n",
       "      <td>6.946976</td>\n",
       "    </tr>\n",
       "    <tr>\n",
       "      <th>1397036</th>\n",
       "      <td>6.717805</td>\n",
       "    </tr>\n",
       "    <tr>\n",
       "      <th>1021087</th>\n",
       "      <td>6.419995</td>\n",
       "    </tr>\n",
       "    <tr>\n",
       "      <th>951424</th>\n",
       "      <td>6.765039</td>\n",
       "    </tr>\n",
       "    <tr>\n",
       "      <th>707882</th>\n",
       "      <td>8.510571</td>\n",
       "    </tr>\n",
       "    <tr>\n",
       "      <th>...</th>\n",
       "      <td>...</td>\n",
       "    </tr>\n",
       "    <tr>\n",
       "      <th>526279</th>\n",
       "      <td>5.978886</td>\n",
       "    </tr>\n",
       "    <tr>\n",
       "      <th>80354</th>\n",
       "      <td>6.658011</td>\n",
       "    </tr>\n",
       "    <tr>\n",
       "      <th>328645</th>\n",
       "      <td>7.759614</td>\n",
       "    </tr>\n",
       "    <tr>\n",
       "      <th>657429</th>\n",
       "      <td>5.973810</td>\n",
       "    </tr>\n",
       "    <tr>\n",
       "      <th>128732</th>\n",
       "      <td>6.638568</td>\n",
       "    </tr>\n",
       "  </tbody>\n",
       "</table>\n",
       "<p>145865 rows × 1 columns</p>\n",
       "</div>\n",
       "      <button class=\"colab-df-convert\" onclick=\"convertToInteractive('df-2cc52c12-bb1d-46e4-8ef0-6d45fb4a03f2')\"\n",
       "              title=\"Convert this dataframe to an interactive table.\"\n",
       "              style=\"display:none;\">\n",
       "        \n",
       "  <svg xmlns=\"http://www.w3.org/2000/svg\" height=\"24px\"viewBox=\"0 0 24 24\"\n",
       "       width=\"24px\">\n",
       "    <path d=\"M0 0h24v24H0V0z\" fill=\"none\"/>\n",
       "    <path d=\"M18.56 5.44l.94 2.06.94-2.06 2.06-.94-2.06-.94-.94-2.06-.94 2.06-2.06.94zm-11 1L8.5 8.5l.94-2.06 2.06-.94-2.06-.94L8.5 2.5l-.94 2.06-2.06.94zm10 10l.94 2.06.94-2.06 2.06-.94-2.06-.94-.94-2.06-.94 2.06-2.06.94z\"/><path d=\"M17.41 7.96l-1.37-1.37c-.4-.4-.92-.59-1.43-.59-.52 0-1.04.2-1.43.59L10.3 9.45l-7.72 7.72c-.78.78-.78 2.05 0 2.83L4 21.41c.39.39.9.59 1.41.59.51 0 1.02-.2 1.41-.59l7.78-7.78 2.81-2.81c.8-.78.8-2.07 0-2.86zM5.41 20L4 18.59l7.72-7.72 1.47 1.35L5.41 20z\"/>\n",
       "  </svg>\n",
       "      </button>\n",
       "      \n",
       "  <style>\n",
       "    .colab-df-container {\n",
       "      display:flex;\n",
       "      flex-wrap:wrap;\n",
       "      gap: 12px;\n",
       "    }\n",
       "\n",
       "    .colab-df-convert {\n",
       "      background-color: #E8F0FE;\n",
       "      border: none;\n",
       "      border-radius: 50%;\n",
       "      cursor: pointer;\n",
       "      display: none;\n",
       "      fill: #1967D2;\n",
       "      height: 32px;\n",
       "      padding: 0 0 0 0;\n",
       "      width: 32px;\n",
       "    }\n",
       "\n",
       "    .colab-df-convert:hover {\n",
       "      background-color: #E2EBFA;\n",
       "      box-shadow: 0px 1px 2px rgba(60, 64, 67, 0.3), 0px 1px 3px 1px rgba(60, 64, 67, 0.15);\n",
       "      fill: #174EA6;\n",
       "    }\n",
       "\n",
       "    [theme=dark] .colab-df-convert {\n",
       "      background-color: #3B4455;\n",
       "      fill: #D2E3FC;\n",
       "    }\n",
       "\n",
       "    [theme=dark] .colab-df-convert:hover {\n",
       "      background-color: #434B5C;\n",
       "      box-shadow: 0px 1px 3px 1px rgba(0, 0, 0, 0.15);\n",
       "      filter: drop-shadow(0px 1px 2px rgba(0, 0, 0, 0.3));\n",
       "      fill: #FFFFFF;\n",
       "    }\n",
       "  </style>\n",
       "\n",
       "      <script>\n",
       "        const buttonEl =\n",
       "          document.querySelector('#df-2cc52c12-bb1d-46e4-8ef0-6d45fb4a03f2 button.colab-df-convert');\n",
       "        buttonEl.style.display =\n",
       "          google.colab.kernel.accessAllowed ? 'block' : 'none';\n",
       "\n",
       "        async function convertToInteractive(key) {\n",
       "          const element = document.querySelector('#df-2cc52c12-bb1d-46e4-8ef0-6d45fb4a03f2');\n",
       "          const dataTable =\n",
       "            await google.colab.kernel.invokeFunction('convertToInteractive',\n",
       "                                                     [key], {});\n",
       "          if (!dataTable) return;\n",
       "\n",
       "          const docLinkHtml = 'Like what you see? Visit the ' +\n",
       "            '<a target=\"_blank\" href=https://colab.research.google.com/notebooks/data_table.ipynb>data table notebook</a>'\n",
       "            + ' to learn more about interactive tables.';\n",
       "          element.innerHTML = '';\n",
       "          dataTable['output_type'] = 'display_data';\n",
       "          await google.colab.output.renderOutput(dataTable, element);\n",
       "          const docLink = document.createElement('div');\n",
       "          docLink.innerHTML = docLinkHtml;\n",
       "          element.appendChild(docLink);\n",
       "        }\n",
       "      </script>\n",
       "    </div>\n",
       "  </div>\n",
       "  "
      ],
      "text/plain": [
       "         log_time_duration\n",
       "67250             6.946976\n",
       "1397036           6.717805\n",
       "1021087           6.419995\n",
       "951424            6.765039\n",
       "707882            8.510571\n",
       "...                    ...\n",
       "526279            5.978886\n",
       "80354             6.658011\n",
       "328645            7.759614\n",
       "657429            5.973810\n",
       "128732            6.638568\n",
       "\n",
       "[145865 rows x 1 columns]"
      ]
     },
     "execution_count": 73,
     "metadata": {},
     "output_type": "execute_result"
    }
   ],
   "source": [
    "val_targets"
   ]
  },
  {
   "cell_type": "code",
   "execution_count": null,
   "metadata": {
    "colab": {
     "base_uri": "https://localhost:8080/"
    },
    "executionInfo": {
     "elapsed": 94,
     "status": "ok",
     "timestamp": 1655720903122,
     "user": {
      "displayName": "Noorullah Rizwan",
      "userId": "14596611615912427721"
     },
     "user_tz": 420
    },
    "id": "LqrwfYW4gbj7",
    "outputId": "e1db0810-42be-484e-bba5-ce46e71d4b8a"
   },
   "outputs": [
    {
     "data": {
      "text/plain": [
       "array([6.6193085, 6.687004 , 6.103874 , ..., 7.808759 , 5.773875 ,\n",
       "       5.6612706], dtype=float32)"
      ]
     },
     "execution_count": 74,
     "metadata": {},
     "output_type": "execute_result"
    }
   ],
   "source": [
    "val_preds2"
   ]
  },
  {
   "cell_type": "markdown",
   "metadata": {
    "id": "zWLYAgJUmOs_"
   },
   "source": [
    "### HyperParameter Tuning"
   ]
  },
  {
   "cell_type": "code",
   "execution_count": null,
   "metadata": {
    "id": "uy_P7rwfgcMT"
   },
   "outputs": [],
   "source": [
    "def test_params2(**params):\n",
    "    model = XGBRegressor(random_state=42, n_jobs=-1, **params).fit(train_inputs, train_targets)\n",
    "    train_rmse2 = mean_squared_error(model.predict(train_inputs), train_targets, squared=False)\n",
    "    val_rmse2 = mean_squared_error(model.predict(val_inputs), val_targets, squared=False)\n",
    "    return train_rmse2, val_rmse2"
   ]
  },
  {
   "cell_type": "markdown",
   "metadata": {
    "id": "nKkFoE6LmeNy"
   },
   "source": [
    "#### n_estimators"
   ]
  },
  {
   "cell_type": "code",
   "execution_count": null,
   "metadata": {
    "colab": {
     "base_uri": "https://localhost:8080/"
    },
    "executionInfo": {
     "elapsed": 12344,
     "status": "ok",
     "timestamp": 1655720915934,
     "user": {
      "displayName": "Noorullah Rizwan",
      "userId": "14596611615912427721"
     },
     "user_tz": 420
    },
    "id": "CO5GWLEmgcVu",
    "outputId": "987759e9-366e-48f3-ee08-291502e78d2f"
   },
   "outputs": [
    {
     "name": "stdout",
     "output_type": "stream",
     "text": [
      "[10:28:23] WARNING: /workspace/src/objective/regression_obj.cu:152: reg:linear is now deprecated in favor of reg:squarederror.\n"
     ]
    },
    {
     "data": {
      "text/plain": [
       "(2.1516853007402297, 2.153699482815737)"
      ]
     },
     "execution_count": 76,
     "metadata": {},
     "output_type": "execute_result"
    }
   ],
   "source": [
    "test_params2(n_estimators=10)"
   ]
  },
  {
   "cell_type": "code",
   "execution_count": null,
   "metadata": {
    "colab": {
     "base_uri": "https://localhost:8080/"
    },
    "executionInfo": {
     "elapsed": 35511,
     "status": "ok",
     "timestamp": 1655720951435,
     "user": {
      "displayName": "Noorullah Rizwan",
      "userId": "14596611615912427721"
     },
     "user_tz": 420
    },
    "id": "pBtfomB-gcdu",
    "outputId": "cc76c7ef-6a5c-462c-d2d9-ff4e23e24876"
   },
   "outputs": [
    {
     "name": "stdout",
     "output_type": "stream",
     "text": [
      "[10:28:36] WARNING: /workspace/src/objective/regression_obj.cu:152: reg:linear is now deprecated in favor of reg:squarederror.\n"
     ]
    },
    {
     "data": {
      "text/plain": [
       "(0.5440560081946834, 0.5483471200969486)"
      ]
     },
     "execution_count": 77,
     "metadata": {},
     "output_type": "execute_result"
    }
   ],
   "source": [
    "test_params2(n_estimators=30)"
   ]
  },
  {
   "cell_type": "code",
   "execution_count": null,
   "metadata": {
    "colab": {
     "base_uri": "https://localhost:8080/"
    },
    "executionInfo": {
     "elapsed": 111776,
     "status": "ok",
     "timestamp": 1655721063173,
     "user": {
      "displayName": "Noorullah Rizwan",
      "userId": "14596611615912427721"
     },
     "user_tz": 420
    },
    "id": "Z6Ges1Aoh4Ok",
    "outputId": "c4df6fda-89c7-4d8e-f8ed-d81ef2510c3b"
   },
   "outputs": [
    {
     "name": "stdout",
     "output_type": "stream",
     "text": [
      "[10:29:11] WARNING: /workspace/src/objective/regression_obj.cu:152: reg:linear is now deprecated in favor of reg:squarederror.\n"
     ]
    },
    {
     "data": {
      "text/plain": [
       "(0.4484664158436235, 0.4531734071902341)"
      ]
     },
     "execution_count": 78,
     "metadata": {},
     "output_type": "execute_result"
    }
   ],
   "source": [
    "test_params2(n_estimators=100)"
   ]
  },
  {
   "cell_type": "markdown",
   "metadata": {
    "id": "l8kH2m-hmmz7"
   },
   "source": [
    "#### max_depth"
   ]
  },
  {
   "cell_type": "code",
   "execution_count": null,
   "metadata": {
    "colab": {
     "base_uri": "https://localhost:8080/"
    },
    "executionInfo": {
     "elapsed": 155926,
     "status": "ok",
     "timestamp": 1655721219058,
     "user": {
      "displayName": "Noorullah Rizwan",
      "userId": "14596611615912427721"
     },
     "user_tz": 420
    },
    "id": "S1Dqujcqh4Zo",
    "outputId": "73cc9cc9-26e1-4790-9ed7-48101207a80c"
   },
   "outputs": [
    {
     "name": "stdout",
     "output_type": "stream",
     "text": [
      "[10:31:03] WARNING: /workspace/src/objective/regression_obj.cu:152: reg:linear is now deprecated in favor of reg:squarederror.\n"
     ]
    },
    {
     "data": {
      "text/plain": [
       "(0.4484664158436235, 0.4531734071902341)"
      ]
     },
     "execution_count": 79,
     "metadata": {},
     "output_type": "execute_result"
    }
   ],
   "source": [
    "test_params2(n_estimators=100, max_depth=3)"
   ]
  },
  {
   "cell_type": "code",
   "execution_count": null,
   "metadata": {
    "colab": {
     "base_uri": "https://localhost:8080/"
    },
    "executionInfo": {
     "elapsed": 256278,
     "status": "ok",
     "timestamp": 1655721475324,
     "user": {
      "displayName": "Noorullah Rizwan",
      "userId": "14596611615912427721"
     },
     "user_tz": 420
    },
    "id": "1NWj2Uqdihfy",
    "outputId": "784eeacd-f34f-4462-d0f6-cf9299ee50c8"
   },
   "outputs": [
    {
     "name": "stdout",
     "output_type": "stream",
     "text": [
      "[10:33:39] WARNING: /workspace/src/objective/regression_obj.cu:152: reg:linear is now deprecated in favor of reg:squarederror.\n"
     ]
    },
    {
     "data": {
      "text/plain": [
       "(0.41825372837975144, 0.42609603957679226)"
      ]
     },
     "execution_count": 80,
     "metadata": {},
     "output_type": "execute_result"
    }
   ],
   "source": [
    "test_params2(n_estimators=100, max_depth=6)"
   ]
  },
  {
   "cell_type": "code",
   "execution_count": null,
   "metadata": {
    "colab": {
     "base_uri": "https://localhost:8080/"
    },
    "executionInfo": {
     "elapsed": 502674,
     "status": "ok",
     "timestamp": 1655721977986,
     "user": {
      "displayName": "Noorullah Rizwan",
      "userId": "14596611615912427721"
     },
     "user_tz": 420
    },
    "id": "8xqlTDxniho_",
    "outputId": "8e3d051a-1c10-42f3-c804-0924f77cf0c8"
   },
   "outputs": [
    {
     "name": "stdout",
     "output_type": "stream",
     "text": [
      "[10:37:55] WARNING: /workspace/src/objective/regression_obj.cu:152: reg:linear is now deprecated in favor of reg:squarederror.\n"
     ]
    },
    {
     "data": {
      "text/plain": [
       "(0.36890508972046554, 0.40375984587845554)"
      ]
     },
     "execution_count": 81,
     "metadata": {},
     "output_type": "execute_result"
    }
   ],
   "source": [
    "test_params2(n_estimators=100, max_depth=10)"
   ]
  },
  {
   "cell_type": "code",
   "execution_count": null,
   "metadata": {
    "colab": {
     "base_uri": "https://localhost:8080/"
    },
    "executionInfo": {
     "elapsed": 1486481,
     "status": "ok",
     "timestamp": 1655723464445,
     "user": {
      "displayName": "Noorullah Rizwan",
      "userId": "14596611615912427721"
     },
     "user_tz": 420
    },
    "id": "YRfq50jVh4kN",
    "outputId": "1ecad3b2-93fb-4d95-f785-10b07c1aa93f"
   },
   "outputs": [
    {
     "name": "stdout",
     "output_type": "stream",
     "text": [
      "[10:46:18] WARNING: /workspace/src/objective/regression_obj.cu:152: reg:linear is now deprecated in favor of reg:squarederror.\n"
     ]
    },
    {
     "data": {
      "text/plain": [
       "(0.13503979749874298, 0.39582391913965476)"
      ]
     },
     "execution_count": 82,
     "metadata": {},
     "output_type": "execute_result"
    }
   ],
   "source": [
    "test_params2(n_estimators=100, max_depth=20)"
   ]
  },
  {
   "cell_type": "markdown",
   "metadata": {
    "id": "9gLo6CwQmrL9"
   },
   "source": [
    "#### learning_rate"
   ]
  },
  {
   "cell_type": "code",
   "execution_count": null,
   "metadata": {
    "colab": {
     "base_uri": "https://localhost:8080/"
    },
    "executionInfo": {
     "elapsed": 155878,
     "status": "ok",
     "timestamp": 1655723620274,
     "user": {
      "displayName": "Noorullah Rizwan",
      "userId": "14596611615912427721"
     },
     "user_tz": 420
    },
    "id": "NB5elRc0inTg",
    "outputId": "f6d9fece-19a4-43b4-acdd-22e73dfc4b20"
   },
   "outputs": [
    {
     "name": "stdout",
     "output_type": "stream",
     "text": [
      "[11:11:04] WARNING: /workspace/src/objective/regression_obj.cu:152: reg:linear is now deprecated in favor of reg:squarederror.\n"
     ]
    },
    {
     "data": {
      "text/plain": [
       "(2.252986056264769, 2.254912270961598)"
      ]
     },
     "execution_count": 83,
     "metadata": {},
     "output_type": "execute_result"
    }
   ],
   "source": [
    "test_params2(n_estimators=100, learning_rate=0.01)"
   ]
  },
  {
   "cell_type": "code",
   "execution_count": null,
   "metadata": {
    "colab": {
     "base_uri": "https://localhost:8080/"
    },
    "executionInfo": {
     "elapsed": 167812,
     "status": "ok",
     "timestamp": 1655723788047,
     "user": {
      "displayName": "Noorullah Rizwan",
      "userId": "14596611615912427721"
     },
     "user_tz": 420
    },
    "id": "RgRv9Zzeiz-b",
    "outputId": "923c05c9-3447-4763-fb8d-15951c3d317f"
   },
   "outputs": [
    {
     "name": "stdout",
     "output_type": "stream",
     "text": [
      "[11:13:39] WARNING: /workspace/src/objective/regression_obj.cu:152: reg:linear is now deprecated in favor of reg:squarederror.\n"
     ]
    },
    {
     "data": {
      "text/plain": [
       "(0.4484664158436235, 0.4531734071902341)"
      ]
     },
     "execution_count": 84,
     "metadata": {},
     "output_type": "execute_result"
    }
   ],
   "source": [
    "test_params2(n_estimators=100, learning_rate=0.1)"
   ]
  },
  {
   "cell_type": "code",
   "execution_count": null,
   "metadata": {
    "colab": {
     "base_uri": "https://localhost:8080/"
    },
    "executionInfo": {
     "elapsed": 169516,
     "status": "ok",
     "timestamp": 1655723957537,
     "user": {
      "displayName": "Noorullah Rizwan",
      "userId": "14596611615912427721"
     },
     "user_tz": 420
    },
    "id": "Y9uIDgGIi2bo",
    "outputId": "e24cfaad-d61e-41fa-dc62-d042823be7fa"
   },
   "outputs": [
    {
     "name": "stdout",
     "output_type": "stream",
     "text": [
      "[11:16:28] WARNING: /workspace/src/objective/regression_obj.cu:152: reg:linear is now deprecated in favor of reg:squarederror.\n"
     ]
    },
    {
     "data": {
      "text/plain": [
       "(0.4333913931956763, 0.4393109150515189)"
      ]
     },
     "execution_count": 85,
     "metadata": {},
     "output_type": "execute_result"
    }
   ],
   "source": [
    "test_params2(n_estimators=100, learning_rate=0.3)"
   ]
  },
  {
   "cell_type": "code",
   "execution_count": null,
   "metadata": {
    "colab": {
     "base_uri": "https://localhost:8080/"
    },
    "executionInfo": {
     "elapsed": 165365,
     "status": "ok",
     "timestamp": 1655724122876,
     "user": {
      "displayName": "Noorullah Rizwan",
      "userId": "14596611615912427721"
     },
     "user_tz": 420
    },
    "id": "Nc1sy3yOi2l1",
    "outputId": "805ab364-6e94-42ce-ee87-8e275b03541b"
   },
   "outputs": [
    {
     "name": "stdout",
     "output_type": "stream",
     "text": [
      "[11:19:17] WARNING: /workspace/src/objective/regression_obj.cu:152: reg:linear is now deprecated in favor of reg:squarederror.\n"
     ]
    },
    {
     "data": {
      "text/plain": [
       "(0.4278456859623037, 0.43379010140340823)"
      ]
     },
     "execution_count": 86,
     "metadata": {},
     "output_type": "execute_result"
    }
   ],
   "source": [
    "test_params2(n_estimators=100, learning_rate=0.5)"
   ]
  },
  {
   "cell_type": "code",
   "execution_count": null,
   "metadata": {
    "colab": {
     "base_uri": "https://localhost:8080/"
    },
    "executionInfo": {
     "elapsed": 136402,
     "status": "ok",
     "timestamp": 1655724259220,
     "user": {
      "displayName": "Noorullah Rizwan",
      "userId": "14596611615912427721"
     },
     "user_tz": 420
    },
    "id": "TTSw82sci2u6",
    "outputId": "4948d47b-933f-4e97-d8a0-c4b903150a80"
   },
   "outputs": [
    {
     "name": "stdout",
     "output_type": "stream",
     "text": [
      "[11:22:02] WARNING: /workspace/src/objective/regression_obj.cu:152: reg:linear is now deprecated in favor of reg:squarederror.\n"
     ]
    },
    {
     "data": {
      "text/plain": [
       "(0.4250769016967997, 0.4313370836987829)"
      ]
     },
     "execution_count": 87,
     "metadata": {},
     "output_type": "execute_result"
    }
   ],
   "source": [
    "test_params2(n_estimators=100, learning_rate=0.7)"
   ]
  },
  {
   "cell_type": "code",
   "execution_count": null,
   "metadata": {
    "colab": {
     "base_uri": "https://localhost:8080/"
    },
    "executionInfo": {
     "elapsed": 124531,
     "status": "ok",
     "timestamp": 1655724383691,
     "user": {
      "displayName": "Noorullah Rizwan",
      "userId": "14596611615912427721"
     },
     "user_tz": 420
    },
    "id": "PcK-KPgji83g",
    "outputId": "3c7006e6-b098-4cc1-c8ec-4a953b312347"
   },
   "outputs": [
    {
     "name": "stdout",
     "output_type": "stream",
     "text": [
      "[11:24:19] WARNING: /workspace/src/objective/regression_obj.cu:152: reg:linear is now deprecated in favor of reg:squarederror.\n"
     ]
    },
    {
     "data": {
      "text/plain": [
       "(0.42408398284768445, 0.43042398924728)"
      ]
     },
     "execution_count": 88,
     "metadata": {},
     "output_type": "execute_result"
    }
   ],
   "source": [
    "test_params2(n_estimators=100, learning_rate=0.9)"
   ]
  },
  {
   "cell_type": "markdown",
   "metadata": {
    "id": "BS5DCaH1nGy1"
   },
   "source": [
    "#### subsample"
   ]
  },
  {
   "cell_type": "code",
   "execution_count": null,
   "metadata": {
    "colab": {
     "base_uri": "https://localhost:8080/"
    },
    "executionInfo": {
     "elapsed": 121609,
     "status": "ok",
     "timestamp": 1655724505246,
     "user": {
      "displayName": "Noorullah Rizwan",
      "userId": "14596611615912427721"
     },
     "user_tz": 420
    },
    "id": "1hleO0RsrL-1",
    "outputId": "a32a5da4-770a-4930-c045-63909685e37a"
   },
   "outputs": [
    {
     "name": "stdout",
     "output_type": "stream",
     "text": [
      "[11:26:24] WARNING: /workspace/src/objective/regression_obj.cu:152: reg:linear is now deprecated in favor of reg:squarederror.\n"
     ]
    },
    {
     "data": {
      "text/plain": [
       "(0.44857706783617224, 0.45292728234450613)"
      ]
     },
     "execution_count": 89,
     "metadata": {},
     "output_type": "execute_result"
    }
   ],
   "source": [
    "test_params2(n_estimators=100, subsample=0.1)"
   ]
  },
  {
   "cell_type": "code",
   "execution_count": null,
   "metadata": {
    "colab": {
     "base_uri": "https://localhost:8080/"
    },
    "executionInfo": {
     "elapsed": 142672,
     "status": "ok",
     "timestamp": 1655724647875,
     "user": {
      "displayName": "Noorullah Rizwan",
      "userId": "14596611615912427721"
     },
     "user_tz": 420
    },
    "id": "ys7RWiBcrSWz",
    "outputId": "2f8c26e4-3330-4a35-adb5-6ae3a456a941"
   },
   "outputs": [
    {
     "name": "stdout",
     "output_type": "stream",
     "text": [
      "[11:28:25] WARNING: /workspace/src/objective/regression_obj.cu:152: reg:linear is now deprecated in favor of reg:squarederror.\n"
     ]
    },
    {
     "data": {
      "text/plain": [
       "(0.44866796509869067, 0.4532739190632897)"
      ]
     },
     "execution_count": 90,
     "metadata": {},
     "output_type": "execute_result"
    }
   ],
   "source": [
    "test_params2(n_estimators=100, subsample=0.4)"
   ]
  },
  {
   "cell_type": "code",
   "execution_count": null,
   "metadata": {
    "colab": {
     "base_uri": "https://localhost:8080/"
    },
    "executionInfo": {
     "elapsed": 173056,
     "status": "ok",
     "timestamp": 1655724820870,
     "user": {
      "displayName": "Noorullah Rizwan",
      "userId": "14596611615912427721"
     },
     "user_tz": 420
    },
    "id": "DIcBlXU_rSiP",
    "outputId": "261fc88a-d091-41a2-9cac-4170d2ad1242"
   },
   "outputs": [
    {
     "name": "stdout",
     "output_type": "stream",
     "text": [
      "[11:30:48] WARNING: /workspace/src/objective/regression_obj.cu:152: reg:linear is now deprecated in favor of reg:squarederror.\n"
     ]
    },
    {
     "data": {
      "text/plain": [
       "(0.4486530071804086, 0.4533789689115442)"
      ]
     },
     "execution_count": 91,
     "metadata": {},
     "output_type": "execute_result"
    }
   ],
   "source": [
    "test_params2(n_estimators=100, subsample=0.7)"
   ]
  },
  {
   "cell_type": "markdown",
   "metadata": {
    "id": "tU-9ZL1InKYn"
   },
   "source": [
    "#### colsample_bytree"
   ]
  },
  {
   "cell_type": "code",
   "execution_count": null,
   "metadata": {
    "colab": {
     "base_uri": "https://localhost:8080/"
    },
    "executionInfo": {
     "elapsed": 47079,
     "status": "ok",
     "timestamp": 1655724867933,
     "user": {
      "displayName": "Noorullah Rizwan",
      "userId": "14596611615912427721"
     },
     "user_tz": 420
    },
    "id": "fPYR-u96rX7Q",
    "outputId": "2e8c90ac-3cb0-4a9b-f2e6-4ca3db2ea909"
   },
   "outputs": [
    {
     "name": "stdout",
     "output_type": "stream",
     "text": [
      "[11:33:41] WARNING: /workspace/src/objective/regression_obj.cu:152: reg:linear is now deprecated in favor of reg:squarederror.\n"
     ]
    },
    {
     "data": {
      "text/plain": [
       "(0.5350412055134752, 0.5401606696729085)"
      ]
     },
     "execution_count": 92,
     "metadata": {},
     "output_type": "execute_result"
    }
   ],
   "source": [
    "test_params2(n_estimators=100, colsample_bytree=0.1)"
   ]
  },
  {
   "cell_type": "code",
   "execution_count": null,
   "metadata": {
    "colab": {
     "base_uri": "https://localhost:8080/"
    },
    "executionInfo": {
     "elapsed": 69583,
     "status": "ok",
     "timestamp": 1655724937474,
     "user": {
      "displayName": "Noorullah Rizwan",
      "userId": "14596611615912427721"
     },
     "user_tz": 420
    },
    "id": "xeiS6Hy1riYA",
    "outputId": "2ca302b9-7b2a-410c-d5d9-ed01b9f50091"
   },
   "outputs": [
    {
     "name": "stdout",
     "output_type": "stream",
     "text": [
      "[11:34:28] WARNING: /workspace/src/objective/regression_obj.cu:152: reg:linear is now deprecated in favor of reg:squarederror.\n"
     ]
    },
    {
     "data": {
      "text/plain": [
       "(0.46726612043359517, 0.4717266466861409)"
      ]
     },
     "execution_count": 93,
     "metadata": {},
     "output_type": "execute_result"
    }
   ],
   "source": [
    "test_params2(n_estimators=100, colsample_bytree=0.3)"
   ]
  },
  {
   "cell_type": "code",
   "execution_count": null,
   "metadata": {
    "colab": {
     "base_uri": "https://localhost:8080/"
    },
    "executionInfo": {
     "elapsed": 100930,
     "status": "ok",
     "timestamp": 1655725038358,
     "user": {
      "displayName": "Noorullah Rizwan",
      "userId": "14596611615912427721"
     },
     "user_tz": 420
    },
    "id": "SOqX16Avrigp",
    "outputId": "4bfe253b-d26c-44d0-8155-586fe8e2cb94"
   },
   "outputs": [
    {
     "name": "stdout",
     "output_type": "stream",
     "text": [
      "[11:35:37] WARNING: /workspace/src/objective/regression_obj.cu:152: reg:linear is now deprecated in favor of reg:squarederror.\n"
     ]
    },
    {
     "data": {
      "text/plain": [
       "(0.4510318531766353, 0.4555485589818679)"
      ]
     },
     "execution_count": 94,
     "metadata": {},
     "output_type": "execute_result"
    }
   ],
   "source": [
    "test_params2(n_estimators=100, colsample_bytree=0.6)"
   ]
  },
  {
   "cell_type": "code",
   "execution_count": null,
   "metadata": {
    "colab": {
     "base_uri": "https://localhost:8080/"
    },
    "executionInfo": {
     "elapsed": 119361,
     "status": "ok",
     "timestamp": 1655725157681,
     "user": {
      "displayName": "Noorullah Rizwan",
      "userId": "14596611615912427721"
     },
     "user_tz": 420
    },
    "id": "QUoXkVrLrio-",
    "outputId": "b2649fa5-d400-4900-9015-f4ea940b172b"
   },
   "outputs": [
    {
     "name": "stdout",
     "output_type": "stream",
     "text": [
      "[11:37:18] WARNING: /workspace/src/objective/regression_obj.cu:152: reg:linear is now deprecated in favor of reg:squarederror.\n"
     ]
    },
    {
     "data": {
      "text/plain": [
       "(0.448494915380476, 0.45327803622921403)"
      ]
     },
     "execution_count": 95,
     "metadata": {},
     "output_type": "execute_result"
    }
   ],
   "source": [
    "test_params2(n_estimators=100, colsample_bytree=0.8)"
   ]
  },
  {
   "cell_type": "markdown",
   "metadata": {
    "id": "GpB0Je2cJ8hQ"
   },
   "source": [
    "The subsample, colsample_bytree donot seem to have an effect on the validation rmse"
   ]
  },
  {
   "cell_type": "markdown",
   "metadata": {
    "id": "n9_CfsbtnWH3"
   },
   "source": [
    "### Puting it Together for XGBoostRegreesor"
   ]
  },
  {
   "cell_type": "markdown",
   "metadata": {
    "id": "GNiHVXhXQLQx"
   },
   "source": [
    "So the max_depth of 20 with n_estimators equal to 100 and all other parameters at their default value gives the least validation rmse"
   ]
  },
  {
   "cell_type": "code",
   "execution_count": null,
   "metadata": {
    "id": "CYo9oE7GrYDW"
   },
   "outputs": [],
   "source": [
    "jovian.commit()"
   ]
  },
  {
   "cell_type": "markdown",
   "metadata": {
    "id": "In2AGS2Tnqtl"
   },
   "source": [
    "## Preparation of Test_df for testing with XGBoost"
   ]
  },
  {
   "cell_type": "code",
   "execution_count": null,
   "metadata": {
    "colab": {
     "base_uri": "https://localhost:8080/",
     "height": 661
    },
    "executionInfo": {
     "elapsed": 480,
     "status": "ok",
     "timestamp": 1655728656683,
     "user": {
      "displayName": "Noorullah Rizwan",
      "userId": "14596611615912427721"
     },
     "user_tz": 420
    },
    "id": "PKyQ8xEsZIWB",
    "outputId": "e2dd1a68-cf27-4726-ae4e-a69e538f4a43"
   },
   "outputs": [
    {
     "data": {
      "text/html": [
       "\n",
       "  <div id=\"df-8dc49824-9b5d-420e-a356-ec08cf8d40d0\">\n",
       "    <div class=\"colab-df-container\">\n",
       "      <div>\n",
       "<style scoped>\n",
       "    .dataframe tbody tr th:only-of-type {\n",
       "        vertical-align: middle;\n",
       "    }\n",
       "\n",
       "    .dataframe tbody tr th {\n",
       "        vertical-align: top;\n",
       "    }\n",
       "\n",
       "    .dataframe thead th {\n",
       "        text-align: right;\n",
       "    }\n",
       "</style>\n",
       "<table border=\"1\" class=\"dataframe\">\n",
       "  <thead>\n",
       "    <tr style=\"text-align: right;\">\n",
       "      <th></th>\n",
       "      <th>id</th>\n",
       "      <th>vendor_id</th>\n",
       "      <th>pickup_datetime</th>\n",
       "      <th>passenger_count</th>\n",
       "      <th>pickup_longitude</th>\n",
       "      <th>pickup_latitude</th>\n",
       "      <th>dropoff_longitude</th>\n",
       "      <th>dropoff_latitude</th>\n",
       "      <th>store_and_fwd_flag</th>\n",
       "    </tr>\n",
       "  </thead>\n",
       "  <tbody>\n",
       "    <tr>\n",
       "      <th>0</th>\n",
       "      <td>id3004672</td>\n",
       "      <td>1</td>\n",
       "      <td>2016-06-30 23:59:58</td>\n",
       "      <td>1</td>\n",
       "      <td>-73.988129</td>\n",
       "      <td>40.732029</td>\n",
       "      <td>-73.990173</td>\n",
       "      <td>40.756680</td>\n",
       "      <td>N</td>\n",
       "    </tr>\n",
       "    <tr>\n",
       "      <th>1</th>\n",
       "      <td>id3505355</td>\n",
       "      <td>1</td>\n",
       "      <td>2016-06-30 23:59:53</td>\n",
       "      <td>1</td>\n",
       "      <td>-73.964203</td>\n",
       "      <td>40.679993</td>\n",
       "      <td>-73.959808</td>\n",
       "      <td>40.655403</td>\n",
       "      <td>N</td>\n",
       "    </tr>\n",
       "    <tr>\n",
       "      <th>2</th>\n",
       "      <td>id1217141</td>\n",
       "      <td>1</td>\n",
       "      <td>2016-06-30 23:59:47</td>\n",
       "      <td>1</td>\n",
       "      <td>-73.997437</td>\n",
       "      <td>40.737583</td>\n",
       "      <td>-73.986160</td>\n",
       "      <td>40.729523</td>\n",
       "      <td>N</td>\n",
       "    </tr>\n",
       "    <tr>\n",
       "      <th>3</th>\n",
       "      <td>id2150126</td>\n",
       "      <td>2</td>\n",
       "      <td>2016-06-30 23:59:41</td>\n",
       "      <td>1</td>\n",
       "      <td>-73.956070</td>\n",
       "      <td>40.771900</td>\n",
       "      <td>-73.986427</td>\n",
       "      <td>40.730469</td>\n",
       "      <td>N</td>\n",
       "    </tr>\n",
       "    <tr>\n",
       "      <th>4</th>\n",
       "      <td>id1598245</td>\n",
       "      <td>1</td>\n",
       "      <td>2016-06-30 23:59:33</td>\n",
       "      <td>1</td>\n",
       "      <td>-73.970215</td>\n",
       "      <td>40.761475</td>\n",
       "      <td>-73.961510</td>\n",
       "      <td>40.755890</td>\n",
       "      <td>N</td>\n",
       "    </tr>\n",
       "    <tr>\n",
       "      <th>...</th>\n",
       "      <td>...</td>\n",
       "      <td>...</td>\n",
       "      <td>...</td>\n",
       "      <td>...</td>\n",
       "      <td>...</td>\n",
       "      <td>...</td>\n",
       "      <td>...</td>\n",
       "      <td>...</td>\n",
       "      <td>...</td>\n",
       "    </tr>\n",
       "    <tr>\n",
       "      <th>625129</th>\n",
       "      <td>id3008929</td>\n",
       "      <td>1</td>\n",
       "      <td>2016-01-01 00:02:52</td>\n",
       "      <td>1</td>\n",
       "      <td>-74.003464</td>\n",
       "      <td>40.725105</td>\n",
       "      <td>-74.001251</td>\n",
       "      <td>40.733643</td>\n",
       "      <td>N</td>\n",
       "    </tr>\n",
       "    <tr>\n",
       "      <th>625130</th>\n",
       "      <td>id3700764</td>\n",
       "      <td>1</td>\n",
       "      <td>2016-01-01 00:01:52</td>\n",
       "      <td>1</td>\n",
       "      <td>-74.006363</td>\n",
       "      <td>40.743782</td>\n",
       "      <td>-73.953407</td>\n",
       "      <td>40.782467</td>\n",
       "      <td>N</td>\n",
       "    </tr>\n",
       "    <tr>\n",
       "      <th>625131</th>\n",
       "      <td>id2568735</td>\n",
       "      <td>1</td>\n",
       "      <td>2016-01-01 00:01:24</td>\n",
       "      <td>2</td>\n",
       "      <td>-73.972267</td>\n",
       "      <td>40.759865</td>\n",
       "      <td>-73.876602</td>\n",
       "      <td>40.748665</td>\n",
       "      <td>N</td>\n",
       "    </tr>\n",
       "    <tr>\n",
       "      <th>625132</th>\n",
       "      <td>id1384355</td>\n",
       "      <td>1</td>\n",
       "      <td>2016-01-01 00:00:28</td>\n",
       "      <td>1</td>\n",
       "      <td>-73.976501</td>\n",
       "      <td>40.733562</td>\n",
       "      <td>-73.854263</td>\n",
       "      <td>40.891788</td>\n",
       "      <td>N</td>\n",
       "    </tr>\n",
       "    <tr>\n",
       "      <th>625133</th>\n",
       "      <td>id0621643</td>\n",
       "      <td>2</td>\n",
       "      <td>2016-01-01 00:00:22</td>\n",
       "      <td>2</td>\n",
       "      <td>-73.981850</td>\n",
       "      <td>40.716881</td>\n",
       "      <td>-73.969330</td>\n",
       "      <td>40.769379</td>\n",
       "      <td>N</td>\n",
       "    </tr>\n",
       "  </tbody>\n",
       "</table>\n",
       "<p>625134 rows × 9 columns</p>\n",
       "</div>\n",
       "      <button class=\"colab-df-convert\" onclick=\"convertToInteractive('df-8dc49824-9b5d-420e-a356-ec08cf8d40d0')\"\n",
       "              title=\"Convert this dataframe to an interactive table.\"\n",
       "              style=\"display:none;\">\n",
       "        \n",
       "  <svg xmlns=\"http://www.w3.org/2000/svg\" height=\"24px\"viewBox=\"0 0 24 24\"\n",
       "       width=\"24px\">\n",
       "    <path d=\"M0 0h24v24H0V0z\" fill=\"none\"/>\n",
       "    <path d=\"M18.56 5.44l.94 2.06.94-2.06 2.06-.94-2.06-.94-.94-2.06-.94 2.06-2.06.94zm-11 1L8.5 8.5l.94-2.06 2.06-.94-2.06-.94L8.5 2.5l-.94 2.06-2.06.94zm10 10l.94 2.06.94-2.06 2.06-.94-2.06-.94-.94-2.06-.94 2.06-2.06.94z\"/><path d=\"M17.41 7.96l-1.37-1.37c-.4-.4-.92-.59-1.43-.59-.52 0-1.04.2-1.43.59L10.3 9.45l-7.72 7.72c-.78.78-.78 2.05 0 2.83L4 21.41c.39.39.9.59 1.41.59.51 0 1.02-.2 1.41-.59l7.78-7.78 2.81-2.81c.8-.78.8-2.07 0-2.86zM5.41 20L4 18.59l7.72-7.72 1.47 1.35L5.41 20z\"/>\n",
       "  </svg>\n",
       "      </button>\n",
       "      \n",
       "  <style>\n",
       "    .colab-df-container {\n",
       "      display:flex;\n",
       "      flex-wrap:wrap;\n",
       "      gap: 12px;\n",
       "    }\n",
       "\n",
       "    .colab-df-convert {\n",
       "      background-color: #E8F0FE;\n",
       "      border: none;\n",
       "      border-radius: 50%;\n",
       "      cursor: pointer;\n",
       "      display: none;\n",
       "      fill: #1967D2;\n",
       "      height: 32px;\n",
       "      padding: 0 0 0 0;\n",
       "      width: 32px;\n",
       "    }\n",
       "\n",
       "    .colab-df-convert:hover {\n",
       "      background-color: #E2EBFA;\n",
       "      box-shadow: 0px 1px 2px rgba(60, 64, 67, 0.3), 0px 1px 3px 1px rgba(60, 64, 67, 0.15);\n",
       "      fill: #174EA6;\n",
       "    }\n",
       "\n",
       "    [theme=dark] .colab-df-convert {\n",
       "      background-color: #3B4455;\n",
       "      fill: #D2E3FC;\n",
       "    }\n",
       "\n",
       "    [theme=dark] .colab-df-convert:hover {\n",
       "      background-color: #434B5C;\n",
       "      box-shadow: 0px 1px 3px 1px rgba(0, 0, 0, 0.15);\n",
       "      filter: drop-shadow(0px 1px 2px rgba(0, 0, 0, 0.3));\n",
       "      fill: #FFFFFF;\n",
       "    }\n",
       "  </style>\n",
       "\n",
       "      <script>\n",
       "        const buttonEl =\n",
       "          document.querySelector('#df-8dc49824-9b5d-420e-a356-ec08cf8d40d0 button.colab-df-convert');\n",
       "        buttonEl.style.display =\n",
       "          google.colab.kernel.accessAllowed ? 'block' : 'none';\n",
       "\n",
       "        async function convertToInteractive(key) {\n",
       "          const element = document.querySelector('#df-8dc49824-9b5d-420e-a356-ec08cf8d40d0');\n",
       "          const dataTable =\n",
       "            await google.colab.kernel.invokeFunction('convertToInteractive',\n",
       "                                                     [key], {});\n",
       "          if (!dataTable) return;\n",
       "\n",
       "          const docLinkHtml = 'Like what you see? Visit the ' +\n",
       "            '<a target=\"_blank\" href=https://colab.research.google.com/notebooks/data_table.ipynb>data table notebook</a>'\n",
       "            + ' to learn more about interactive tables.';\n",
       "          element.innerHTML = '';\n",
       "          dataTable['output_type'] = 'display_data';\n",
       "          await google.colab.output.renderOutput(dataTable, element);\n",
       "          const docLink = document.createElement('div');\n",
       "          docLink.innerHTML = docLinkHtml;\n",
       "          element.appendChild(docLink);\n",
       "        }\n",
       "      </script>\n",
       "    </div>\n",
       "  </div>\n",
       "  "
      ],
      "text/plain": [
       "               id  vendor_id      pickup_datetime  passenger_count  \\\n",
       "0       id3004672          1  2016-06-30 23:59:58                1   \n",
       "1       id3505355          1  2016-06-30 23:59:53                1   \n",
       "2       id1217141          1  2016-06-30 23:59:47                1   \n",
       "3       id2150126          2  2016-06-30 23:59:41                1   \n",
       "4       id1598245          1  2016-06-30 23:59:33                1   \n",
       "...           ...        ...                  ...              ...   \n",
       "625129  id3008929          1  2016-01-01 00:02:52                1   \n",
       "625130  id3700764          1  2016-01-01 00:01:52                1   \n",
       "625131  id2568735          1  2016-01-01 00:01:24                2   \n",
       "625132  id1384355          1  2016-01-01 00:00:28                1   \n",
       "625133  id0621643          2  2016-01-01 00:00:22                2   \n",
       "\n",
       "        pickup_longitude  pickup_latitude  dropoff_longitude  \\\n",
       "0             -73.988129        40.732029         -73.990173   \n",
       "1             -73.964203        40.679993         -73.959808   \n",
       "2             -73.997437        40.737583         -73.986160   \n",
       "3             -73.956070        40.771900         -73.986427   \n",
       "4             -73.970215        40.761475         -73.961510   \n",
       "...                  ...              ...                ...   \n",
       "625129        -74.003464        40.725105         -74.001251   \n",
       "625130        -74.006363        40.743782         -73.953407   \n",
       "625131        -73.972267        40.759865         -73.876602   \n",
       "625132        -73.976501        40.733562         -73.854263   \n",
       "625133        -73.981850        40.716881         -73.969330   \n",
       "\n",
       "        dropoff_latitude store_and_fwd_flag  \n",
       "0              40.756680                  N  \n",
       "1              40.655403                  N  \n",
       "2              40.729523                  N  \n",
       "3              40.730469                  N  \n",
       "4              40.755890                  N  \n",
       "...                  ...                ...  \n",
       "625129         40.733643                  N  \n",
       "625130         40.782467                  N  \n",
       "625131         40.748665                  N  \n",
       "625132         40.891788                  N  \n",
       "625133         40.769379                  N  \n",
       "\n",
       "[625134 rows x 9 columns]"
      ]
     },
     "execution_count": 98,
     "metadata": {},
     "output_type": "execute_result"
    }
   ],
   "source": [
    "test_df"
   ]
  },
  {
   "cell_type": "code",
   "execution_count": null,
   "metadata": {
    "id": "I20UTGeBagjw"
   },
   "outputs": [],
   "source": [
    "split_dates(test_df)\n",
    "cal_distance(test_df)\n",
    "test_inputs_df=test_df[input_cols].copy()\n",
    "test_numeric_cols=test_inputs_df[input_cols].select_dtypes(include=np.number).columns.tolist()\n",
    "test_categorical_cols=['store_and_fwd_flag']\n",
    "flag_codes={'N':0, 'Y':1}\n",
    "test_inputs_df['flag_code']=test_inputs_df.store_and_fwd_flag.map(flag_codes)\n",
    "test_encoded_cols=['flag_code']\n",
    "scaler.fit(test_inputs_df[test_numeric_cols])\n",
    "test_inputs_df[test_numeric_cols] = scaler.transform(test_inputs_df[test_numeric_cols])\n",
    "test_inputs_df=test_inputs_df[test_numeric_cols+test_encoded_cols]"
   ]
  },
  {
   "cell_type": "code",
   "execution_count": null,
   "metadata": {
    "colab": {
     "base_uri": "https://localhost:8080/"
    },
    "executionInfo": {
     "elapsed": 19,
     "status": "ok",
     "timestamp": 1655814076533,
     "user": {
      "displayName": "Noorullah Rizwan",
      "userId": "14596611615912427721"
     },
     "user_tz": 420
    },
    "id": "b6fJeI6VkTAy",
    "outputId": "08b234e0-8a67-471a-bb61-2a0cdaa3a26c"
   },
   "outputs": [
    {
     "data": {
      "text/plain": [
       "['vendor_id',\n",
       " 'passenger_count',\n",
       " 'pickup_longitude',\n",
       " 'pickup_latitude',\n",
       " 'dropoff_longitude',\n",
       " 'dropoff_latitude',\n",
       " 'pickup_month',\n",
       " 'pickup_weekday',\n",
       " 'pickup_day',\n",
       " 'pickup_time_hour',\n",
       " 'Distance_km']"
      ]
     },
     "execution_count": 82,
     "metadata": {},
     "output_type": "execute_result"
    }
   ],
   "source": [
    "test_numeric_cols"
   ]
  },
  {
   "cell_type": "code",
   "execution_count": null,
   "metadata": {
    "colab": {
     "base_uri": "https://localhost:8080/"
    },
    "executionInfo": {
     "elapsed": 15,
     "status": "ok",
     "timestamp": 1655814079379,
     "user": {
      "displayName": "Noorullah Rizwan",
      "userId": "14596611615912427721"
     },
     "user_tz": 420
    },
    "id": "CYliEHmhhu5k",
    "outputId": "bb5e7850-8355-4990-bfce-1e99fdc21f03"
   },
   "outputs": [
    {
     "name": "stdout",
     "output_type": "stream",
     "text": [
      "<class 'pandas.core.frame.DataFrame'>\n",
      "RangeIndex: 625134 entries, 0 to 625133\n",
      "Data columns (total 12 columns):\n",
      " #   Column             Non-Null Count   Dtype  \n",
      "---  ------             --------------   -----  \n",
      " 0   vendor_id          625134 non-null  float64\n",
      " 1   passenger_count    625134 non-null  float64\n",
      " 2   pickup_longitude   625134 non-null  float64\n",
      " 3   pickup_latitude    625134 non-null  float64\n",
      " 4   dropoff_longitude  625134 non-null  float64\n",
      " 5   dropoff_latitude   625134 non-null  float64\n",
      " 6   pickup_month       625134 non-null  float64\n",
      " 7   pickup_weekday     625134 non-null  float64\n",
      " 8   pickup_day         625134 non-null  float64\n",
      " 9   pickup_time_hour   625134 non-null  float64\n",
      " 10  Distance_km        625134 non-null  float64\n",
      " 11  flag_code          625134 non-null  int64  \n",
      "dtypes: float64(11), int64(1)\n",
      "memory usage: 57.2 MB\n"
     ]
    }
   ],
   "source": [
    "test_inputs_df.info()"
   ]
  },
  {
   "cell_type": "code",
   "execution_count": null,
   "metadata": {
    "colab": {
     "base_uri": "https://localhost:8080/"
    },
    "executionInfo": {
     "elapsed": 370,
     "status": "ok",
     "timestamp": 1655814107267,
     "user": {
      "displayName": "Noorullah Rizwan",
      "userId": "14596611615912427721"
     },
     "user_tz": 420
    },
    "id": "k3IxCV_LNeBu",
    "outputId": "c5b4f2bc-df7b-43af-cfcd-1d42c38073b0"
   },
   "outputs": [
    {
     "data": {
      "text/plain": [
       "(625134, 12)"
      ]
     },
     "execution_count": 85,
     "metadata": {},
     "output_type": "execute_result"
    }
   ],
   "source": [
    "test_inputs_df.shape"
   ]
  },
  {
   "cell_type": "markdown",
   "metadata": {
    "id": "31FOrHsHo0CV"
   },
   "source": [
    "## Final Model"
   ]
  },
  {
   "cell_type": "markdown",
   "metadata": {
    "id": "P0tyVt3UJMhp"
   },
   "source": [
    "Though there was not much of a difference in the validation errors between the two models, we will proceed with the XGboostRegressor as it had a slighlty less error as compared to the RandomForestRegressor model"
   ]
  },
  {
   "cell_type": "code",
   "execution_count": null,
   "metadata": {
    "id": "clbF7n-tgEzr"
   },
   "outputs": [],
   "source": [
    "model = XGBRegressor(random_state=42, n_jobs=-1, n_estimators=100, max_depth=20)"
   ]
  },
  {
   "cell_type": "markdown",
   "metadata": {
    "id": "Pmpn-mwIJjZ7"
   },
   "source": [
    "The model is trained through the train_inputs which is 90% of the data in training dataframe. So it would be good to go"
   ]
  },
  {
   "cell_type": "code",
   "execution_count": null,
   "metadata": {
    "colab": {
     "base_uri": "https://localhost:8080/"
    },
    "executionInfo": {
     "elapsed": 1528298,
     "status": "ok",
     "timestamp": 1655730188246,
     "user": {
      "displayName": "Noorullah Rizwan",
      "userId": "14596611615912427721"
     },
     "user_tz": 420
    },
    "id": "gcD_nwS7iTEi",
    "outputId": "6d2557c4-6025-42ef-a2e1-f4315d5885da"
   },
   "outputs": [
    {
     "name": "stdout",
     "output_type": "stream",
     "text": [
      "[12:37:40] WARNING: /workspace/src/objective/regression_obj.cu:152: reg:linear is now deprecated in favor of reg:squarederror.\n"
     ]
    },
    {
     "data": {
      "text/plain": [
       "XGBRegressor(max_depth=20, n_jobs=-1, random_state=42)"
      ]
     },
     "execution_count": 103,
     "metadata": {},
     "output_type": "execute_result"
    }
   ],
   "source": [
    "model.fit(train_inputs, train_targets)"
   ]
  },
  {
   "cell_type": "code",
   "execution_count": null,
   "metadata": {
    "colab": {
     "base_uri": "https://localhost:8080/"
    },
    "executionInfo": {
     "elapsed": 12516,
     "status": "ok",
     "timestamp": 1655730200752,
     "user": {
      "displayName": "Noorullah Rizwan",
      "userId": "14596611615912427721"
     },
     "user_tz": 420
    },
    "id": "uxHgZkIni2Jg",
    "outputId": "82e10af8-7179-419d-936d-329c50111bc8"
   },
   "outputs": [
    {
     "data": {
      "text/plain": [
       "array([6.3063436, 6.27259  , 5.5327506, ..., 6.840295 , 7.5178547,\n",
       "       7.0027347], dtype=float32)"
      ]
     },
     "execution_count": 104,
     "metadata": {},
     "output_type": "execute_result"
    }
   ],
   "source": [
    "test_preds=model.predict(test_inputs_df)\n",
    "test_preds"
   ]
  },
  {
   "cell_type": "code",
   "execution_count": null,
   "metadata": {
    "colab": {
     "base_uri": "https://localhost:8080/"
    },
    "executionInfo": {
     "elapsed": 112516,
     "status": "ok",
     "timestamp": 1655730313238,
     "user": {
      "displayName": "Noorullah Rizwan",
      "userId": "14596611615912427721"
     },
     "user_tz": 420
    },
    "id": "0WG_2LdljzAo",
    "outputId": "7190aa04-e6fa-49d0-eedb-639e67870899"
   },
   "outputs": [
    {
     "data": {
      "text/plain": [
       "array([6.255489 , 6.1759205, 7.1359553, ..., 7.2043743, 5.8884797,\n",
       "       7.3309894], dtype=float32)"
      ]
     },
     "execution_count": 105,
     "metadata": {},
     "output_type": "execute_result"
    }
   ],
   "source": [
    "model.predict(train_inputs)"
   ]
  },
  {
   "cell_type": "markdown",
   "metadata": {
    "id": "nYJmrAgcpWZD"
   },
   "source": [
    "### Feature Importances"
   ]
  },
  {
   "cell_type": "code",
   "execution_count": null,
   "metadata": {
    "id": "WbkmPNGVr8ix"
   },
   "outputs": [],
   "source": [
    "importance_df = pd.DataFrame({\n",
    "    'feature': test_inputs_df.columns,\n",
    "    'importance': model.feature_importances_\n",
    "}).sort_values('importance', ascending=False)"
   ]
  },
  {
   "cell_type": "code",
   "execution_count": null,
   "metadata": {
    "colab": {
     "base_uri": "https://localhost:8080/",
     "height": 363
    },
    "executionInfo": {
     "elapsed": 352,
     "status": "ok",
     "timestamp": 1655730973819,
     "user": {
      "displayName": "Noorullah Rizwan",
      "userId": "14596611615912427721"
     },
     "user_tz": 420
    },
    "id": "Xqn2kL5Lr9aU",
    "outputId": "aedbb15c-60a3-430c-c3ac-8dd48cd44816"
   },
   "outputs": [
    {
     "data": {
      "text/html": [
       "\n",
       "  <div id=\"df-c021da0f-2789-4f49-8949-6f518463acef\">\n",
       "    <div class=\"colab-df-container\">\n",
       "      <div>\n",
       "<style scoped>\n",
       "    .dataframe tbody tr th:only-of-type {\n",
       "        vertical-align: middle;\n",
       "    }\n",
       "\n",
       "    .dataframe tbody tr th {\n",
       "        vertical-align: top;\n",
       "    }\n",
       "\n",
       "    .dataframe thead th {\n",
       "        text-align: right;\n",
       "    }\n",
       "</style>\n",
       "<table border=\"1\" class=\"dataframe\">\n",
       "  <thead>\n",
       "    <tr style=\"text-align: right;\">\n",
       "      <th></th>\n",
       "      <th>feature</th>\n",
       "      <th>importance</th>\n",
       "    </tr>\n",
       "  </thead>\n",
       "  <tbody>\n",
       "    <tr>\n",
       "      <th>10</th>\n",
       "      <td>Distance_km</td>\n",
       "      <td>0.631457</td>\n",
       "    </tr>\n",
       "    <tr>\n",
       "      <th>9</th>\n",
       "      <td>pickup_time_hour</td>\n",
       "      <td>0.088267</td>\n",
       "    </tr>\n",
       "    <tr>\n",
       "      <th>7</th>\n",
       "      <td>pickup_weekday</td>\n",
       "      <td>0.058863</td>\n",
       "    </tr>\n",
       "    <tr>\n",
       "      <th>5</th>\n",
       "      <td>dropoff_latitude</td>\n",
       "      <td>0.042961</td>\n",
       "    </tr>\n",
       "    <tr>\n",
       "      <th>4</th>\n",
       "      <td>dropoff_longitude</td>\n",
       "      <td>0.027089</td>\n",
       "    </tr>\n",
       "    <tr>\n",
       "      <th>3</th>\n",
       "      <td>pickup_latitude</td>\n",
       "      <td>0.026540</td>\n",
       "    </tr>\n",
       "    <tr>\n",
       "      <th>6</th>\n",
       "      <td>pickup_month</td>\n",
       "      <td>0.026032</td>\n",
       "    </tr>\n",
       "    <tr>\n",
       "      <th>8</th>\n",
       "      <td>pickup_day</td>\n",
       "      <td>0.023743</td>\n",
       "    </tr>\n",
       "    <tr>\n",
       "      <th>0</th>\n",
       "      <td>vendor_id</td>\n",
       "      <td>0.022976</td>\n",
       "    </tr>\n",
       "    <tr>\n",
       "      <th>2</th>\n",
       "      <td>pickup_longitude</td>\n",
       "      <td>0.022075</td>\n",
       "    </tr>\n",
       "  </tbody>\n",
       "</table>\n",
       "</div>\n",
       "      <button class=\"colab-df-convert\" onclick=\"convertToInteractive('df-c021da0f-2789-4f49-8949-6f518463acef')\"\n",
       "              title=\"Convert this dataframe to an interactive table.\"\n",
       "              style=\"display:none;\">\n",
       "        \n",
       "  <svg xmlns=\"http://www.w3.org/2000/svg\" height=\"24px\"viewBox=\"0 0 24 24\"\n",
       "       width=\"24px\">\n",
       "    <path d=\"M0 0h24v24H0V0z\" fill=\"none\"/>\n",
       "    <path d=\"M18.56 5.44l.94 2.06.94-2.06 2.06-.94-2.06-.94-.94-2.06-.94 2.06-2.06.94zm-11 1L8.5 8.5l.94-2.06 2.06-.94-2.06-.94L8.5 2.5l-.94 2.06-2.06.94zm10 10l.94 2.06.94-2.06 2.06-.94-2.06-.94-.94-2.06-.94 2.06-2.06.94z\"/><path d=\"M17.41 7.96l-1.37-1.37c-.4-.4-.92-.59-1.43-.59-.52 0-1.04.2-1.43.59L10.3 9.45l-7.72 7.72c-.78.78-.78 2.05 0 2.83L4 21.41c.39.39.9.59 1.41.59.51 0 1.02-.2 1.41-.59l7.78-7.78 2.81-2.81c.8-.78.8-2.07 0-2.86zM5.41 20L4 18.59l7.72-7.72 1.47 1.35L5.41 20z\"/>\n",
       "  </svg>\n",
       "      </button>\n",
       "      \n",
       "  <style>\n",
       "    .colab-df-container {\n",
       "      display:flex;\n",
       "      flex-wrap:wrap;\n",
       "      gap: 12px;\n",
       "    }\n",
       "\n",
       "    .colab-df-convert {\n",
       "      background-color: #E8F0FE;\n",
       "      border: none;\n",
       "      border-radius: 50%;\n",
       "      cursor: pointer;\n",
       "      display: none;\n",
       "      fill: #1967D2;\n",
       "      height: 32px;\n",
       "      padding: 0 0 0 0;\n",
       "      width: 32px;\n",
       "    }\n",
       "\n",
       "    .colab-df-convert:hover {\n",
       "      background-color: #E2EBFA;\n",
       "      box-shadow: 0px 1px 2px rgba(60, 64, 67, 0.3), 0px 1px 3px 1px rgba(60, 64, 67, 0.15);\n",
       "      fill: #174EA6;\n",
       "    }\n",
       "\n",
       "    [theme=dark] .colab-df-convert {\n",
       "      background-color: #3B4455;\n",
       "      fill: #D2E3FC;\n",
       "    }\n",
       "\n",
       "    [theme=dark] .colab-df-convert:hover {\n",
       "      background-color: #434B5C;\n",
       "      box-shadow: 0px 1px 3px 1px rgba(0, 0, 0, 0.15);\n",
       "      filter: drop-shadow(0px 1px 2px rgba(0, 0, 0, 0.3));\n",
       "      fill: #FFFFFF;\n",
       "    }\n",
       "  </style>\n",
       "\n",
       "      <script>\n",
       "        const buttonEl =\n",
       "          document.querySelector('#df-c021da0f-2789-4f49-8949-6f518463acef button.colab-df-convert');\n",
       "        buttonEl.style.display =\n",
       "          google.colab.kernel.accessAllowed ? 'block' : 'none';\n",
       "\n",
       "        async function convertToInteractive(key) {\n",
       "          const element = document.querySelector('#df-c021da0f-2789-4f49-8949-6f518463acef');\n",
       "          const dataTable =\n",
       "            await google.colab.kernel.invokeFunction('convertToInteractive',\n",
       "                                                     [key], {});\n",
       "          if (!dataTable) return;\n",
       "\n",
       "          const docLinkHtml = 'Like what you see? Visit the ' +\n",
       "            '<a target=\"_blank\" href=https://colab.research.google.com/notebooks/data_table.ipynb>data table notebook</a>'\n",
       "            + ' to learn more about interactive tables.';\n",
       "          element.innerHTML = '';\n",
       "          dataTable['output_type'] = 'display_data';\n",
       "          await google.colab.output.renderOutput(dataTable, element);\n",
       "          const docLink = document.createElement('div');\n",
       "          docLink.innerHTML = docLinkHtml;\n",
       "          element.appendChild(docLink);\n",
       "        }\n",
       "      </script>\n",
       "    </div>\n",
       "  </div>\n",
       "  "
      ],
      "text/plain": [
       "              feature  importance\n",
       "10        Distance_km    0.631457\n",
       "9    pickup_time_hour    0.088267\n",
       "7      pickup_weekday    0.058863\n",
       "5    dropoff_latitude    0.042961\n",
       "4   dropoff_longitude    0.027089\n",
       "3     pickup_latitude    0.026540\n",
       "6        pickup_month    0.026032\n",
       "8          pickup_day    0.023743\n",
       "0           vendor_id    0.022976\n",
       "2    pickup_longitude    0.022075"
      ]
     },
     "execution_count": 117,
     "metadata": {},
     "output_type": "execute_result"
    }
   ],
   "source": [
    "importance_df.head(10)"
   ]
  },
  {
   "cell_type": "code",
   "execution_count": null,
   "metadata": {
    "colab": {
     "base_uri": "https://localhost:8080/",
     "height": 416
    },
    "executionInfo": {
     "elapsed": 1291,
     "status": "ok",
     "timestamp": 1655730999999,
     "user": {
      "displayName": "Noorullah Rizwan",
      "userId": "14596611615912427721"
     },
     "user_tz": 420
    },
    "id": "RpTjJa0sOSUN",
    "outputId": "b31fc6a0-7e59-429e-95fc-6335450bcdb5"
   },
   "outputs": [
    {
     "data": {
      "image/png": "[encoded data removed]",
      "text/plain": [
       "<Figure size 720x432 with 1 Axes>"
      ]
     },
     "metadata": {},
     "output_type": "display_data"
    }
   ],
   "source": [
    "plt.figure(figsize=(10,6))\n",
    "plt.title('Feature Importance')\n",
    "sns.barplot(data=importance_df.head(10), x='importance', y='feature');"
   ]
  },
  {
   "cell_type": "markdown",
   "metadata": {
    "id": "B306LQJXQiog"
   },
   "source": [
    "It is evident that that the Distance_km column we created through feature engineering has the most weightage of 0.63 in determining the trip duration, followed by pickup_time_hour and pickup_weekday. (also created through feature engineering)"
   ]
  },
  {
   "cell_type": "markdown",
   "metadata": {
    "id": "aoKSYGEKo4uO"
   },
   "source": [
    "## Prepartaion of Submission file from test predictions"
   ]
  },
  {
   "cell_type": "code",
   "execution_count": null,
   "metadata": {
    "colab": {
     "base_uri": "https://localhost:8080/",
     "height": 424
    },
    "executionInfo": {
     "elapsed": 51,
     "status": "ok",
     "timestamp": 1655730346092,
     "user": {
      "displayName": "Noorullah Rizwan",
      "userId": "14596611615912427721"
     },
     "user_tz": 420
    },
    "id": "63uiCGf0kCA3",
    "outputId": "a03bfcd2-f310-4b39-aad5-77956c140f4a"
   },
   "outputs": [
    {
     "data": {
      "text/html": [
       "\n",
       "  <div id=\"df-e9bd40b8-e94d-473a-b052-8494428658f6\">\n",
       "    <div class=\"colab-df-container\">\n",
       "      <div>\n",
       "<style scoped>\n",
       "    .dataframe tbody tr th:only-of-type {\n",
       "        vertical-align: middle;\n",
       "    }\n",
       "\n",
       "    .dataframe tbody tr th {\n",
       "        vertical-align: top;\n",
       "    }\n",
       "\n",
       "    .dataframe thead th {\n",
       "        text-align: right;\n",
       "    }\n",
       "</style>\n",
       "<table border=\"1\" class=\"dataframe\">\n",
       "  <thead>\n",
       "    <tr style=\"text-align: right;\">\n",
       "      <th></th>\n",
       "      <th>id</th>\n",
       "      <th>trip_duration</th>\n",
       "    </tr>\n",
       "  </thead>\n",
       "  <tbody>\n",
       "    <tr>\n",
       "      <th>0</th>\n",
       "      <td>id3004672</td>\n",
       "      <td>959</td>\n",
       "    </tr>\n",
       "    <tr>\n",
       "      <th>1</th>\n",
       "      <td>id3505355</td>\n",
       "      <td>959</td>\n",
       "    </tr>\n",
       "    <tr>\n",
       "      <th>2</th>\n",
       "      <td>id1217141</td>\n",
       "      <td>959</td>\n",
       "    </tr>\n",
       "    <tr>\n",
       "      <th>3</th>\n",
       "      <td>id2150126</td>\n",
       "      <td>959</td>\n",
       "    </tr>\n",
       "    <tr>\n",
       "      <th>4</th>\n",
       "      <td>id1598245</td>\n",
       "      <td>959</td>\n",
       "    </tr>\n",
       "    <tr>\n",
       "      <th>...</th>\n",
       "      <td>...</td>\n",
       "      <td>...</td>\n",
       "    </tr>\n",
       "    <tr>\n",
       "      <th>625129</th>\n",
       "      <td>id3008929</td>\n",
       "      <td>959</td>\n",
       "    </tr>\n",
       "    <tr>\n",
       "      <th>625130</th>\n",
       "      <td>id3700764</td>\n",
       "      <td>959</td>\n",
       "    </tr>\n",
       "    <tr>\n",
       "      <th>625131</th>\n",
       "      <td>id2568735</td>\n",
       "      <td>959</td>\n",
       "    </tr>\n",
       "    <tr>\n",
       "      <th>625132</th>\n",
       "      <td>id1384355</td>\n",
       "      <td>959</td>\n",
       "    </tr>\n",
       "    <tr>\n",
       "      <th>625133</th>\n",
       "      <td>id0621643</td>\n",
       "      <td>959</td>\n",
       "    </tr>\n",
       "  </tbody>\n",
       "</table>\n",
       "<p>625134 rows × 2 columns</p>\n",
       "</div>\n",
       "      <button class=\"colab-df-convert\" onclick=\"convertToInteractive('df-e9bd40b8-e94d-473a-b052-8494428658f6')\"\n",
       "              title=\"Convert this dataframe to an interactive table.\"\n",
       "              style=\"display:none;\">\n",
       "        \n",
       "  <svg xmlns=\"http://www.w3.org/2000/svg\" height=\"24px\"viewBox=\"0 0 24 24\"\n",
       "       width=\"24px\">\n",
       "    <path d=\"M0 0h24v24H0V0z\" fill=\"none\"/>\n",
       "    <path d=\"M18.56 5.44l.94 2.06.94-2.06 2.06-.94-2.06-.94-.94-2.06-.94 2.06-2.06.94zm-11 1L8.5 8.5l.94-2.06 2.06-.94-2.06-.94L8.5 2.5l-.94 2.06-2.06.94zm10 10l.94 2.06.94-2.06 2.06-.94-2.06-.94-.94-2.06-.94 2.06-2.06.94z\"/><path d=\"M17.41 7.96l-1.37-1.37c-.4-.4-.92-.59-1.43-.59-.52 0-1.04.2-1.43.59L10.3 9.45l-7.72 7.72c-.78.78-.78 2.05 0 2.83L4 21.41c.39.39.9.59 1.41.59.51 0 1.02-.2 1.41-.59l7.78-7.78 2.81-2.81c.8-.78.8-2.07 0-2.86zM5.41 20L4 18.59l7.72-7.72 1.47 1.35L5.41 20z\"/>\n",
       "  </svg>\n",
       "      </button>\n",
       "      \n",
       "  <style>\n",
       "    .colab-df-container {\n",
       "      display:flex;\n",
       "      flex-wrap:wrap;\n",
       "      gap: 12px;\n",
       "    }\n",
       "\n",
       "    .colab-df-convert {\n",
       "      background-color: #E8F0FE;\n",
       "      border: none;\n",
       "      border-radius: 50%;\n",
       "      cursor: pointer;\n",
       "      display: none;\n",
       "      fill: #1967D2;\n",
       "      height: 32px;\n",
       "      padding: 0 0 0 0;\n",
       "      width: 32px;\n",
       "    }\n",
       "\n",
       "    .colab-df-convert:hover {\n",
       "      background-color: #E2EBFA;\n",
       "      box-shadow: 0px 1px 2px rgba(60, 64, 67, 0.3), 0px 1px 3px 1px rgba(60, 64, 67, 0.15);\n",
       "      fill: #174EA6;\n",
       "    }\n",
       "\n",
       "    [theme=dark] .colab-df-convert {\n",
       "      background-color: #3B4455;\n",
       "      fill: #D2E3FC;\n",
       "    }\n",
       "\n",
       "    [theme=dark] .colab-df-convert:hover {\n",
       "      background-color: #434B5C;\n",
       "      box-shadow: 0px 1px 3px 1px rgba(0, 0, 0, 0.15);\n",
       "      filter: drop-shadow(0px 1px 2px rgba(0, 0, 0, 0.3));\n",
       "      fill: #FFFFFF;\n",
       "    }\n",
       "  </style>\n",
       "\n",
       "      <script>\n",
       "        const buttonEl =\n",
       "          document.querySelector('#df-e9bd40b8-e94d-473a-b052-8494428658f6 button.colab-df-convert');\n",
       "        buttonEl.style.display =\n",
       "          google.colab.kernel.accessAllowed ? 'block' : 'none';\n",
       "\n",
       "        async function convertToInteractive(key) {\n",
       "          const element = document.querySelector('#df-e9bd40b8-e94d-473a-b052-8494428658f6');\n",
       "          const dataTable =\n",
       "            await google.colab.kernel.invokeFunction('convertToInteractive',\n",
       "                                                     [key], {});\n",
       "          if (!dataTable) return;\n",
       "\n",
       "          const docLinkHtml = 'Like what you see? Visit the ' +\n",
       "            '<a target=\"_blank\" href=https://colab.research.google.com/notebooks/data_table.ipynb>data table notebook</a>'\n",
       "            + ' to learn more about interactive tables.';\n",
       "          element.innerHTML = '';\n",
       "          dataTable['output_type'] = 'display_data';\n",
       "          await google.colab.output.renderOutput(dataTable, element);\n",
       "          const docLink = document.createElement('div');\n",
       "          docLink.innerHTML = docLinkHtml;\n",
       "          element.appendChild(docLink);\n",
       "        }\n",
       "      </script>\n",
       "    </div>\n",
       "  </div>\n",
       "  "
      ],
      "text/plain": [
       "               id  trip_duration\n",
       "0       id3004672            959\n",
       "1       id3505355            959\n",
       "2       id1217141            959\n",
       "3       id2150126            959\n",
       "4       id1598245            959\n",
       "...           ...            ...\n",
       "625129  id3008929            959\n",
       "625130  id3700764            959\n",
       "625131  id2568735            959\n",
       "625132  id1384355            959\n",
       "625133  id0621643            959\n",
       "\n",
       "[625134 rows x 2 columns]"
      ]
     },
     "execution_count": 107,
     "metadata": {},
     "output_type": "execute_result"
    }
   ],
   "source": [
    "sub_df"
   ]
  },
  {
   "cell_type": "code",
   "execution_count": null,
   "metadata": {
    "colab": {
     "base_uri": "https://localhost:8080/"
    },
    "executionInfo": {
     "elapsed": 2024,
     "status": "ok",
     "timestamp": 1655730348069,
     "user": {
      "displayName": "Noorullah Rizwan",
      "userId": "14596611615912427721"
     },
     "user_tz": 420
    },
    "id": "o9NYqPlQoar_",
    "outputId": "77549f6e-88e4-4836-97dc-a26761aa7f8c"
   },
   "outputs": [
    {
     "data": {
      "text/plain": [
       "0          547.037354\n",
       "1          528.847961\n",
       "2          251.838425\n",
       "3          753.931824\n",
       "4          301.447815\n",
       "             ...     \n",
       "625129     133.720215\n",
       "625130     855.283936\n",
       "625131     933.764709\n",
       "625132    1839.614258\n",
       "625133    1098.636230\n",
       "Name: trip_duration, Length: 625134, dtype: float32"
      ]
     },
     "execution_count": 108,
     "metadata": {},
     "output_type": "execute_result"
    }
   ],
   "source": [
    "submission = pd.DataFrame({'id': sub_df.id, 'trip_duration':np.exp(test_preds)-1})\n",
    "submission.to_csv('submission.csv', index=None)\n",
    "submission.trip_duration"
   ]
  },
  {
   "cell_type": "code",
   "execution_count": null,
   "metadata": {
    "colab": {
     "base_uri": "https://localhost:8080/",
     "height": 206
    },
    "executionInfo": {
     "elapsed": 71,
     "status": "ok",
     "timestamp": 1655730348072,
     "user": {
      "displayName": "Noorullah Rizwan",
      "userId": "14596611615912427721"
     },
     "user_tz": 420
    },
    "id": "IY33z-w7p8GU",
    "outputId": "0023d2fd-f17a-45ae-8ffc-ecb9c1307edb"
   },
   "outputs": [
    {
     "data": {
      "text/html": [
       "\n",
       "  <div id=\"df-2e1ea344-bcbb-40fc-98ba-0968a84e341d\">\n",
       "    <div class=\"colab-df-container\">\n",
       "      <div>\n",
       "<style scoped>\n",
       "    .dataframe tbody tr th:only-of-type {\n",
       "        vertical-align: middle;\n",
       "    }\n",
       "\n",
       "    .dataframe tbody tr th {\n",
       "        vertical-align: top;\n",
       "    }\n",
       "\n",
       "    .dataframe thead th {\n",
       "        text-align: right;\n",
       "    }\n",
       "</style>\n",
       "<table border=\"1\" class=\"dataframe\">\n",
       "  <thead>\n",
       "    <tr style=\"text-align: right;\">\n",
       "      <th></th>\n",
       "      <th>id</th>\n",
       "      <th>trip_duration</th>\n",
       "    </tr>\n",
       "  </thead>\n",
       "  <tbody>\n",
       "    <tr>\n",
       "      <th>0</th>\n",
       "      <td>id3004672</td>\n",
       "      <td>547.037354</td>\n",
       "    </tr>\n",
       "    <tr>\n",
       "      <th>1</th>\n",
       "      <td>id3505355</td>\n",
       "      <td>528.847961</td>\n",
       "    </tr>\n",
       "    <tr>\n",
       "      <th>2</th>\n",
       "      <td>id1217141</td>\n",
       "      <td>251.838425</td>\n",
       "    </tr>\n",
       "    <tr>\n",
       "      <th>3</th>\n",
       "      <td>id2150126</td>\n",
       "      <td>753.931824</td>\n",
       "    </tr>\n",
       "    <tr>\n",
       "      <th>4</th>\n",
       "      <td>id1598245</td>\n",
       "      <td>301.447815</td>\n",
       "    </tr>\n",
       "  </tbody>\n",
       "</table>\n",
       "</div>\n",
       "      <button class=\"colab-df-convert\" onclick=\"convertToInteractive('df-2e1ea344-bcbb-40fc-98ba-0968a84e341d')\"\n",
       "              title=\"Convert this dataframe to an interactive table.\"\n",
       "              style=\"display:none;\">\n",
       "        \n",
       "  <svg xmlns=\"http://www.w3.org/2000/svg\" height=\"24px\"viewBox=\"0 0 24 24\"\n",
       "       width=\"24px\">\n",
       "    <path d=\"M0 0h24v24H0V0z\" fill=\"none\"/>\n",
       "    <path d=\"M18.56 5.44l.94 2.06.94-2.06 2.06-.94-2.06-.94-.94-2.06-.94 2.06-2.06.94zm-11 1L8.5 8.5l.94-2.06 2.06-.94-2.06-.94L8.5 2.5l-.94 2.06-2.06.94zm10 10l.94 2.06.94-2.06 2.06-.94-2.06-.94-.94-2.06-.94 2.06-2.06.94z\"/><path d=\"M17.41 7.96l-1.37-1.37c-.4-.4-.92-.59-1.43-.59-.52 0-1.04.2-1.43.59L10.3 9.45l-7.72 7.72c-.78.78-.78 2.05 0 2.83L4 21.41c.39.39.9.59 1.41.59.51 0 1.02-.2 1.41-.59l7.78-7.78 2.81-2.81c.8-.78.8-2.07 0-2.86zM5.41 20L4 18.59l7.72-7.72 1.47 1.35L5.41 20z\"/>\n",
       "  </svg>\n",
       "      </button>\n",
       "      \n",
       "  <style>\n",
       "    .colab-df-container {\n",
       "      display:flex;\n",
       "      flex-wrap:wrap;\n",
       "      gap: 12px;\n",
       "    }\n",
       "\n",
       "    .colab-df-convert {\n",
       "      background-color: #E8F0FE;\n",
       "      border: none;\n",
       "      border-radius: 50%;\n",
       "      cursor: pointer;\n",
       "      display: none;\n",
       "      fill: #1967D2;\n",
       "      height: 32px;\n",
       "      padding: 0 0 0 0;\n",
       "      width: 32px;\n",
       "    }\n",
       "\n",
       "    .colab-df-convert:hover {\n",
       "      background-color: #E2EBFA;\n",
       "      box-shadow: 0px 1px 2px rgba(60, 64, 67, 0.3), 0px 1px 3px 1px rgba(60, 64, 67, 0.15);\n",
       "      fill: #174EA6;\n",
       "    }\n",
       "\n",
       "    [theme=dark] .colab-df-convert {\n",
       "      background-color: #3B4455;\n",
       "      fill: #D2E3FC;\n",
       "    }\n",
       "\n",
       "    [theme=dark] .colab-df-convert:hover {\n",
       "      background-color: #434B5C;\n",
       "      box-shadow: 0px 1px 3px 1px rgba(0, 0, 0, 0.15);\n",
       "      filter: drop-shadow(0px 1px 2px rgba(0, 0, 0, 0.3));\n",
       "      fill: #FFFFFF;\n",
       "    }\n",
       "  </style>\n",
       "\n",
       "      <script>\n",
       "        const buttonEl =\n",
       "          document.querySelector('#df-2e1ea344-bcbb-40fc-98ba-0968a84e341d button.colab-df-convert');\n",
       "        buttonEl.style.display =\n",
       "          google.colab.kernel.accessAllowed ? 'block' : 'none';\n",
       "\n",
       "        async function convertToInteractive(key) {\n",
       "          const element = document.querySelector('#df-2e1ea344-bcbb-40fc-98ba-0968a84e341d');\n",
       "          const dataTable =\n",
       "            await google.colab.kernel.invokeFunction('convertToInteractive',\n",
       "                                                     [key], {});\n",
       "          if (!dataTable) return;\n",
       "\n",
       "          const docLinkHtml = 'Like what you see? Visit the ' +\n",
       "            '<a target=\"_blank\" href=https://colab.research.google.com/notebooks/data_table.ipynb>data table notebook</a>'\n",
       "            + ' to learn more about interactive tables.';\n",
       "          element.innerHTML = '';\n",
       "          dataTable['output_type'] = 'display_data';\n",
       "          await google.colab.output.renderOutput(dataTable, element);\n",
       "          const docLink = document.createElement('div');\n",
       "          docLink.innerHTML = docLinkHtml;\n",
       "          element.appendChild(docLink);\n",
       "        }\n",
       "      </script>\n",
       "    </div>\n",
       "  </div>\n",
       "  "
      ],
      "text/plain": [
       "          id  trip_duration\n",
       "0  id3004672     547.037354\n",
       "1  id3505355     528.847961\n",
       "2  id1217141     251.838425\n",
       "3  id2150126     753.931824\n",
       "4  id1598245     301.447815"
      ]
     },
     "execution_count": 109,
     "metadata": {},
     "output_type": "execute_result"
    }
   ],
   "source": [
    "submission.head()"
   ]
  },
  {
   "cell_type": "code",
   "execution_count": null,
   "metadata": {
    "colab": {
     "base_uri": "https://localhost:8080/",
     "height": 34
    },
    "executionInfo": {
     "elapsed": 68,
     "status": "ok",
     "timestamp": 1655730348073,
     "user": {
      "displayName": "Noorullah Rizwan",
      "userId": "14596611615912427721"
     },
     "user_tz": 420
    },
    "id": "pMxgM4X0qAhI",
    "outputId": "bc8b9c67-fb61-4e33-ae80-508042b1489d"
   },
   "outputs": [
    {
     "data": {
      "text/html": [
       "<a href='submission.csv' target='_blank'>submission.csv</a><br>"
      ],
      "text/plain": [
       "/content/submission.csv"
      ]
     },
     "execution_count": 110,
     "metadata": {},
     "output_type": "execute_result"
    }
   ],
   "source": [
    "from IPython.display import FileLink\n",
    "FileLink('submission.csv')"
   ]
  },
  {
   "cell_type": "markdown",
   "metadata": {
    "id": "776DWViBquXR"
   },
   "source": [
    "## Saving and Loading Final Trained Model"
   ]
  },
  {
   "cell_type": "code",
   "execution_count": null,
   "metadata": {
    "id": "QRqmgEk4q8gY"
   },
   "outputs": [],
   "source": [
    "import joblib"
   ]
  },
  {
   "cell_type": "code",
   "execution_count": null,
   "metadata": {
    "id": "EIa9xP3Iq-oe"
   },
   "outputs": [],
   "source": [
    "nyc_taxi_trip_duartion = {\n",
    "    'model': model,\n",
    "    'scaler': scaler,\n",
    "    'input_cols': input_cols,\n",
    "    'target_col': target_col,\n",
    "    'numeric_cols': numeric_cols,\n",
    "    'categorical_cols': categorical_cols,\n",
    "    'encoded_cols': encoded_cols,\n",
    "    'feature_importance': importance_df\n",
    "}"
   ]
  },
  {
   "cell_type": "code",
   "execution_count": null,
   "metadata": {
    "colab": {
     "base_uri": "https://localhost:8080/"
    },
    "executionInfo": {
     "elapsed": 2329,
     "status": "ok",
     "timestamp": 1655731187118,
     "user": {
      "displayName": "Noorullah Rizwan",
      "userId": "14596611615912427721"
     },
     "user_tz": 420
    },
    "id": "yDsr7EyJt5Lg",
    "outputId": "530cbea6-0459-42d2-c58c-3288aa817a70"
   },
   "outputs": [
    {
     "data": {
      "text/plain": [
       "['nyc_taxi_trip_duartion_weights']"
      ]
     },
     "execution_count": 119,
     "metadata": {},
     "output_type": "execute_result"
    }
   ],
   "source": [
    "joblib.dump(nyc_taxi_trip_duartion, 'nyc_taxi_trip_duartion_weights')"
   ]
  },
  {
   "cell_type": "markdown",
   "metadata": {
    "id": "5p_XW6ERC8G1"
   },
   "source": [
    "## Conclusion\n",
    "We have finally trained the model to predict the time duration for taxi trips in test file. The model used was XGboost Regressor and the hyperparameters have been stated above. First the dataset was prepared for training by imputing missing values (if any), scaling numeric columns and creating encoded columns. Then it was split into two sets, one for training and the second for validation. We calculated the root mean squared error on the target column log_time_duration to train the model and then fit it in the test file. The Distance column ws created using the concept of Haversine distance and by looking at the feature importances, it had the major impact with the most weightage. Eventually, using exponent in numpy array, the log_time_duration column was converted back to the time duration in seconds."
   ]
  },
  {
   "cell_type": "markdown",
   "metadata": {
    "id": "r_9IBaZIFAHS"
   },
   "source": [
    "## References\n",
    "Mentioned below are the links to sources I found useful for this project"
   ]
  },
  {
   "cell_type": "markdown",
   "metadata": {
    "id": "An4q8IaqFMZI"
   },
   "source": [
    "https://www.kaggle.com/code/coreprinciple/taxi-cleaned-data"
   ]
  },
  {
   "cell_type": "markdown",
   "metadata": {
    "id": "O3F3bUfcFfxh"
   },
   "source": [
    "https://www.kaggle.com/code/mirhyun0508/2022-smarcle-ai-study-nyc-taxi-trip-duration-eda"
   ]
  },
  {
   "cell_type": "markdown",
   "metadata": {
    "id": "H0lYbk0GFpD1"
   },
   "source": [
    "https://scikit-learn.org/stable/modules/generated/sklearn.metrics.pairwise.haversine_distances."
   ]
  },
  {
   "cell_type": "code",
   "execution_count": 92,
   "metadata": {
    "colab": {
     "base_uri": "https://localhost:8080/",
     "height": 87
    },
    "executionInfo": {
     "elapsed": 2809,
     "status": "ok",
     "timestamp": 1655814598933,
     "user": {
      "displayName": "Noorullah Rizwan",
      "userId": "14596611615912427721"
     },
     "user_tz": 420
    },
    "id": "KmQixbUQqi3k",
    "outputId": "ef1f8bc5-4620-4981-a53c-ad2877ff46b6"
   },
   "outputs": [
    {
     "name": "stdout",
     "output_type": "stream",
     "text": [
      "[jovian] Detected Colab notebook...\u001b[0m\n",
      "[jovian] Uploading colab notebook to Jovian...\u001b[0m\n",
      "Committed successfully! https://jovian.ai/noorullah-rizwann/course-project-taxi-trip-duration\n"
     ]
    },
    {
     "data": {
      "application/vnd.google.colaboratory.intrinsic+json": {
       "type": "string"
      },
      "text/plain": [
       "'https://jovian.ai/noorullah-rizwann/course-project-taxi-trip-duration'"
      ]
     },
     "execution_count": 92,
     "metadata": {},
     "output_type": "execute_result"
    }
   ],
   "source": [
    "jovian.commit()"
   ]
  },
  {
   "cell_type": "code",
   "execution_count": null,
   "metadata": {
    "id": "St7Q5VmGPNfH"
   },
   "outputs": [],
   "source": []
  }
 ],
 "metadata": {
  "colab": {
   "collapsed_sections": [],
   "name": "taxi-trip-duration.ipynb",
   "provenance": []
  },
  "kernelspec": {
   "display_name": "Python 3 (ipykernel)",
   "language": "python",
   "name": "python3"
  },
  "language_info": {
   "codemirror_mode": {
    "name": "ipython",
    "version": 3
   },
   "file_extension": ".py",
   "mimetype": "text/x-python",
   "name": "python",
   "nbconvert_exporter": "python",
   "pygments_lexer": "ipython3",
   "version": "3.9.6"
  }
 },
 "nbformat": 4,
 "nbformat_minor": 0
}
